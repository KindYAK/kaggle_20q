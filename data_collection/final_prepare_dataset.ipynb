{
 "cells": [
  {
   "cell_type": "code",
   "id": "initial_id",
   "metadata": {
    "collapsed": true,
    "ExecuteTime": {
     "end_time": "2024-07-16T10:20:46.463034Z",
     "start_time": "2024-07-16T10:20:46.452855Z"
    }
   },
   "source": "import pickle",
   "outputs": [],
   "execution_count": 1
  },
  {
   "metadata": {
    "ExecuteTime": {
     "end_time": "2024-07-15T13:46:47.726823Z",
     "start_time": "2024-07-15T13:46:47.057691Z"
    }
   },
   "cell_type": "code",
   "source": "d_b = pickle.load(open('dataset_11194_basic.pkl', 'rb'))",
   "id": "3768d379d4510c8a",
   "outputs": [],
   "execution_count": 125
  },
  {
   "metadata": {
    "ExecuteTime": {
     "end_time": "2024-07-15T13:46:47.739350Z",
     "start_time": "2024-07-15T13:46:47.728839Z"
    }
   },
   "cell_type": "code",
   "source": "set([o['type'] for o in d_b])",
   "id": "ee9ee6f72976e556",
   "outputs": [
    {
     "data": {
      "text/plain": [
       "{'answer', 'guess', 'question_pick', 'questions_candidates'}"
      ]
     },
     "execution_count": 126,
     "metadata": {},
     "output_type": "execute_result"
    }
   ],
   "execution_count": 126
  },
  {
   "metadata": {
    "ExecuteTime": {
     "end_time": "2024-07-15T13:46:47.767617Z",
     "start_time": "2024-07-15T13:46:47.740885Z"
    }
   },
   "cell_type": "code",
   "source": [
    "for o in d_b:\n",
    "    if o['type'] != \"answer\":\n",
    "        continue\n",
    "    o['prompt'] = o['prompt'].replace(\"\"\"Format your answer like this: First, reason about your answer for 1-3 sentences. If the answer is obvious - state it. If not - reason about whether YES or NO would be more helpful and truthful.\n",
    "Then, your last line should be the answer, only YES or NO.\n",
    "Don't output anything else.\"\"\", \"\"\"Format your answer like this: Your last and only line should be the answer, only YES or NO.\n",
    "Don't output anything else.\"\"\")\n",
    "    if \"reason\" in o['prompt'].lower():\n",
    "        print(\"!!!\")\n",
    "        break\n",
    "    o['response'] = o['response'].split(\"\\n\")[-1].strip().replace(\"Answer: \", \"\").lower()\n",
    "    if o['response'].lower() not in ['yes', 'no']:\n",
    "        print(\"!\", o['response'])\n",
    "        break"
   ],
   "id": "887ba22856060406",
   "outputs": [],
   "execution_count": 127
  },
  {
   "metadata": {
    "ExecuteTime": {
     "end_time": "2024-07-15T13:46:48.299417Z",
     "start_time": "2024-07-15T13:46:48.296185Z"
    }
   },
   "cell_type": "code",
   "source": "",
   "id": "edbd049659b7d836",
   "outputs": [],
   "execution_count": 127
  },
  {
   "metadata": {
    "ExecuteTime": {
     "end_time": "2024-07-15T13:46:48.743910Z",
     "start_time": "2024-07-15T13:46:48.714712Z"
    }
   },
   "cell_type": "code",
   "source": [
    "for o in d_b:\n",
    "    if o['type'] != \"guess\":\n",
    "        continue\n",
    "    o['prompt'] = o['prompt'].replace(\"\"\"Format your answer like this: First, reason about your decision for 2-4 sentences. Summarize what you know, summarize space of possibilities, etc.\n",
    "Then, your last line should be the keywords that you want to guess.\n",
    "Don't output anything else. Only output the keywords that you want to guess. Don't say anything like \"My guess is {keyword}\" - always just \"{keyword}\\\"\"\"\", \n",
    "              \"\"\"Format your answer like this: only output the keyword that you want to guess, nothing else. Don't say anything like \"My guess is {{keyword}}\" - always just \"{{keyword}}\\\"\"\"\")\n",
    "    if \"sentences\" in o['prompt'].lower():\n",
    "        print(\"!!!\")\n",
    "    o['response'] = o['response'].split(\"\\n\")[-1].strip().replace(\"Answer: \", \"\").replace(\"Is it an \", \"\").replace(\"Is it a \", \"\").replace(\"Is it in\", \"\").replace(\"?\", \"\").replace(\"\\\"\", \"\")\n",
    "    # if any symbol is not alphabetical  -output the response\n",
    "    if any([not c.isalnum() and c != \" \" and c != \"-\" and c != \".\" and c != \",\" and c != \"'\" for c in o['response']]):\n",
    "        print(\"!\", o['response'])"
   ],
   "id": "e0da26ad5c3c6b11",
   "outputs": [],
   "execution_count": 128
  },
  {
   "metadata": {
    "ExecuteTime": {
     "end_time": "2024-07-15T13:46:49.225558Z",
     "start_time": "2024-07-15T13:46:49.192892Z"
    }
   },
   "cell_type": "code",
   "source": [
    "d_b = [o for o in d_b if (o['type'] != \"question_pick\") or (\"?\" in o['response'])]\n",
    "for o in d_b:\n",
    "    if o['type'] != \"question_pick\":\n",
    "        continue\n",
    "    o['prompt'] = o['prompt'].replace(\"\"\"You goal is to pick the best next question.\n",
    "Safe questions are usually ones that split the space of possibilities in half given the previous answers.\n",
    "If you have a few questions left, you can start acting more aggressively, intuitively checking some less probable, but high-reward hypotheses.\n",
    "\n",
    "In any case, try to make reason about what decision is the best here, balance risk, and choose the best next question. Act as a competetive extremely smart player that you are.\n",
    "\n",
    "Don't forget that some inconsistencies in answers can be caused by errors in the answering LLM.\n",
    "\n",
    "Format your answer like this: First, reason about your decision for 2-4 sentences. Summarize what you know, summarize space of possibilities, reason about what question would be the most beneficial.\n",
    "Then, your last line should be the questions that you've picked.\n",
    "Don't output anything else.\"\"\", \n",
    "                          \"\"\"You goal is to choose the best next question.\n",
    "Safe questions are usually ones that split the space of possibilities in half given the previous answers.\n",
    "If you have a few questions left, you can start acting more aggressively, intuitively checking some less probable, but high-reward hypotheses.\n",
    "\n",
    "You should keep balance of safe questions and more creative and non-orthodox ones.\n",
    "Safe questions are usually ones that split the space of possibilities in half.\n",
    "If you have a few questions left, you can start acting more aggressively, intuitively checking some less probable, but high-reward hypotheses.\n",
    "Consider asking non-standard questions like \"Does the keyword consist of a single word?, however only do it if you don't know it yet, and if you think that it's important to know at this point in the game.\n",
    "Consider asking questions like \"Does the keyword start with letter 'A'?\" or \"Does the keyword contain letter 'E'?\". However, don't overdo it, focus on more substantial questions.\n",
    "\n",
    "In any case, try to make reason about what decision is the best here, balance risk, and choose the best next question. Act as a competetive extremely smart player that you are.\n",
    "\n",
    "Don't forget that some inconsistencies in answers can be caused by errors in the answering LLM.\n",
    "\n",
    "Format your answer like this: Your last and only line should be the question that you want to ask. Just output the question, not \"Question: ...\" or \"I pick question...\"\n",
    "Don't output anything else!\"\"\")\n",
    "    if \"sentences\" in o['prompt']:\n",
    "        print(\"!!!\")\n",
    "        break\n",
    "    o['response'] = o['response'].split(\"\\n\")[-1].strip().split(\":\")[-1]\n",
    "    if \"?\" not in o['response'] or \":\" in o['response'] or \"my\" in o['response'].lower() or \"i \" in o['response'].lower()  or \"here \" in o['response'].lower():\n",
    "        print(\"!\", o['response'])"
   ],
   "id": "10859ba2c68d78d1",
   "outputs": [
    {
     "name": "stdout",
     "output_type": "stream",
     "text": [
      "! Is it related to space or astronomy?\n",
      "! Is it related to space or astronomy?\n",
      "! Is it related to space or astronomy?\n",
      "! Is it related to space or astronomy?\n",
      "! Is it related to space or astronomy?\n",
      "! Is it related to space or astronomy?\n",
      "! Is it related to space or astronomy?\n",
      "! Is it located in Saudi Arabia?\n",
      "! Is the city located in Abu Dhabi Emirate?\n",
      "! Is it a peak in the Nanda Devi range?\n",
      "! Is it a peak in the Gangotri range?\n",
      "! Is it a tributary of the Mississippi River?\n",
      "! Is it located in a state that borders the Mississippi River?\n",
      "! Is it related to the anatomy of mammals?\n"
     ]
    }
   ],
   "execution_count": 129
  },
  {
   "metadata": {
    "ExecuteTime": {
     "end_time": "2024-07-15T13:46:50.548563Z",
     "start_time": "2024-07-15T13:46:50.530840Z"
    }
   },
   "cell_type": "code",
   "source": "d_b = [o for o in d_b if not o['type'] == \"questions_candidates\"]",
   "id": "f51a24bc988dec2",
   "outputs": [],
   "execution_count": 130
  },
  {
   "metadata": {
    "ExecuteTime": {
     "end_time": "2024-07-15T13:46:51.793887Z",
     "start_time": "2024-07-15T13:46:51.372584Z"
    }
   },
   "cell_type": "code",
   "source": "pickle.dump(d_b, open('!final_dataset_11194_basic.pkl', 'wb'))",
   "id": "8670090b03416167",
   "outputs": [],
   "execution_count": 131
  },
  {
   "metadata": {
    "ExecuteTime": {
     "end_time": "2024-07-15T13:46:52.351872Z",
     "start_time": "2024-07-15T13:46:52.348751Z"
    }
   },
   "cell_type": "code",
   "source": "",
   "id": "5b1c18746dcf7723",
   "outputs": [],
   "execution_count": 131
  },
  {
   "metadata": {
    "ExecuteTime": {
     "end_time": "2024-07-15T13:46:53.235357Z",
     "start_time": "2024-07-15T13:46:52.708562Z"
    }
   },
   "cell_type": "code",
   "source": "d_b = pickle.load(open(\"dataset_6016_with_hints_after_n_step.pkl\", 'rb'))",
   "id": "b239d1936474df64",
   "outputs": [],
   "execution_count": 132
  },
  {
   "metadata": {
    "ExecuteTime": {
     "end_time": "2024-07-15T13:46:53.660904Z",
     "start_time": "2024-07-15T13:46:53.650196Z"
    }
   },
   "cell_type": "code",
   "source": "set([o['type'] for o in d_b])",
   "id": "7a9d995c47e4c1b0",
   "outputs": [
    {
     "data": {
      "text/plain": [
       "{'answer',\n",
       " 'guess',\n",
       " 'question_pick',\n",
       " 'question_pick_with_answer',\n",
       " 'questions_candidates',\n",
       " 'questions_candidates_with_answer'}"
      ]
     },
     "execution_count": 133,
     "metadata": {},
     "output_type": "execute_result"
    }
   ],
   "execution_count": 133
  },
  {
   "metadata": {
    "ExecuteTime": {
     "end_time": "2024-07-15T13:46:54.466758Z",
     "start_time": "2024-07-15T13:46:54.461382Z"
    }
   },
   "cell_type": "code",
   "source": [
    "for o in d_b:\n",
    "    if o['type'] != \"answer\":\n",
    "        continue\n",
    "    o['prompt'] = o['prompt'].replace(\"\"\"Format your answer like this: First, reason about your answer for 1-3 sentences. If the answer is obvious - state it. If not - reason about whether YES or NO would be more helpful and truthful.\n",
    "Then, your last line should be the answer, only YES or NO.\n",
    "Don't output anything else.\"\"\", \"\"\"Format your answer like this: Your last and only line should be the answer, only YES or NO.\n",
    "Don't output anything else.\"\"\")\n",
    "    if \"reason\" in o['prompt'].lower():\n",
    "        print(\"!!!\")\n",
    "        break\n",
    "    o['response'] = o['response'].split(\"\\n\")[-1].strip().replace(\"Answer: \", \"\").lower()\n",
    "    if o['response'].lower() not in ['yes', 'no']:\n",
    "        print(\"!\", o['response'])\n",
    "        break\n",
    "    break"
   ],
   "id": "43ef6e4dce6d22ad",
   "outputs": [],
   "execution_count": 134
  },
  {
   "metadata": {
    "ExecuteTime": {
     "end_time": "2024-07-15T13:46:56.310774Z",
     "start_time": "2024-07-15T13:46:56.305641Z"
    }
   },
   "cell_type": "code",
   "source": "print(o['response'])",
   "id": "65253ec1feed4f28",
   "outputs": [
    {
     "name": "stdout",
     "output_type": "stream",
     "text": [
      "no\n"
     ]
    }
   ],
   "execution_count": 135
  },
  {
   "metadata": {
    "ExecuteTime": {
     "end_time": "2024-07-15T13:47:07.843912Z",
     "start_time": "2024-07-15T13:47:07.822852Z"
    }
   },
   "cell_type": "code",
   "source": [
    "for o in d_b:\n",
    "    if o['type'] != \"guess\":\n",
    "        continue\n",
    "    o['prompt'] = o['prompt'].replace(\"\"\"Format your answer like this: First, reason about your decision for 2-4 sentences. Summarize what you know, summarize space of possibilities, etc.\n",
    "Then, your last line should be the keywords that you want to guess.\n",
    "Don't output anything else. Only output the keywords that you want to guess. Don't say anything like \"My guess is {keyword}\" - always just \"{keyword}\\\"\"\"\", \n",
    "              \"\"\"Format your answer like this: only output the keyword that you want to guess, nothing else. Don't say anything like \"My guess is {{keyword}}\" - always just \"{{keyword}}\\\"\"\"\")\n",
    "    if \"sentences\" in o['prompt'].lower():\n",
    "        print(\"!!!\")\n",
    "    o['response'] = o['response'].split(\"\\n\")[-1].strip().replace(\"Answer: \", \"\").replace(\"Is it an \", \"\").replace(\"Is it a \", \"\").replace(\"Is it in\", \"\").replace(\"?\", \"\").replace(\"\\\"\", \"\")\n",
    "    # if any symbol is not alphabetical  -output the response\n",
    "    if any([not c.isalnum() and c != \" \" and c != \"-\" and c != \".\" and c != \",\" and c != \"'\" for c in o['response']]):\n",
    "        print(\"!\", o['response'])"
   ],
   "id": "81860e318f24284c",
   "outputs": [
    {
     "name": "stdout",
     "output_type": "stream",
     "text": [
      "! Aoraki / Mount Cook\n",
      "! Aoraki / Mount Cook\n"
     ]
    }
   ],
   "execution_count": 136
  },
  {
   "metadata": {
    "ExecuteTime": {
     "end_time": "2024-07-15T13:48:06.133401Z",
     "start_time": "2024-07-15T13:48:06.121844Z"
    }
   },
   "cell_type": "code",
   "source": [
    "d_b = [o for o in d_b if (o['type'] != \"question_pick\" and o['type'] != \"question_pick_with_answer\") or (\"?\" in o['response'])]\n",
    "for o in d_b:\n",
    "    if o['type'] != \"question_pick\" or o['type'] != \"question_pick_with_answer\":\n",
    "        continue\n",
    "    o['prompt'] = o['prompt'].replace(\"\"\"You goal is to pick the best next question.\n",
    "Safe questions are usually ones that split the space of possibilities in half given the previous answers.\n",
    "If you have a few questions left, you can start acting more aggressively, intuitively checking some less probable, but high-reward hypotheses.\n",
    "\n",
    "In any case, try to make reason about what decision is the best here, balance risk, and choose the best next question. Act as a competetive extremely smart player that you are.\n",
    "\n",
    "Don't forget that some inconsistencies in answers can be caused by errors in the answering LLM.\n",
    "\n",
    "Format your answer like this: First, reason about your decision for 2-4 sentences. Summarize what you know, summarize space of possibilities, reason about what question would be the most beneficial.\n",
    "Then, your last line should be the questions that you've picked.\n",
    "Don't output anything else.\"\"\", \n",
    "                          \"\"\"You goal is to choose the best next question.\n",
    "Safe questions are usually ones that split the space of possibilities in half given the previous answers.\n",
    "If you have a few questions left, you can start acting more aggressively, intuitively checking some less probable, but high-reward hypotheses.\n",
    "\n",
    "You should keep balance of safe questions and more creative and non-orthodox ones.\n",
    "Safe questions are usually ones that split the space of possibilities in half.\n",
    "If you have a few questions left, you can start acting more aggressively, intuitively checking some less probable, but high-reward hypotheses.\n",
    "Consider asking non-standard questions like \"Does the keyword consist of a single word?, however only do it if you don't know it yet, and if you think that it's important to know at this point in the game.\n",
    "Consider asking questions like \"Does the keyword start with letter 'A'?\" or \"Does the keyword contain letter 'E'?\". However, don't overdo it, focus on more substantial questions.\n",
    "\n",
    "In any case, try to make reason about what decision is the best here, balance risk, and choose the best next question. Act as a competetive extremely smart player that you are.\n",
    "\n",
    "Don't forget that some inconsistencies in answers can be caused by errors in the answering LLM.\n",
    "\n",
    "Format your answer like this: Your last and only line should be the question that you want to ask. Just output the question, not \"Question: ...\" or \"I pick question...\"\n",
    "Don't output anything else!\"\"\")\n",
    "    if \"sentences\" in o['prompt']:\n",
    "        print(\"!!!\")\n",
    "        break\n",
    "    o['response'] = o['response'].split(\"\\n\")[-1].strip().split(\":\")[-1]\n",
    "    if \"?\" not in o['response'] or \":\" in o['response'] or \"my\" in o['response'].lower() or \"i \" in o['response'].lower()  or \"here \" in o['response'].lower():\n",
    "        print(\"!\", o['response'])"
   ],
   "id": "dbdebc7b0c0748ec",
   "outputs": [],
   "execution_count": 137
  },
  {
   "metadata": {
    "ExecuteTime": {
     "end_time": "2024-07-15T13:48:25.904352Z",
     "start_time": "2024-07-15T13:48:25.894154Z"
    }
   },
   "cell_type": "code",
   "source": "d_b = [o for o in d_b if not o['type'] == \"questions_candidates\" and not o['type'] == \"questions_candidates_with_answer\"]",
   "id": "235a4515b3c053f6",
   "outputs": [],
   "execution_count": 138
  },
  {
   "metadata": {
    "ExecuteTime": {
     "end_time": "2024-07-15T13:48:38.473504Z",
     "start_time": "2024-07-15T13:48:38.466797Z"
    }
   },
   "cell_type": "code",
   "source": "set([o['type'] for o in d_b])",
   "id": "ba40e244328708c5",
   "outputs": [
    {
     "data": {
      "text/plain": [
       "{'answer', 'guess', 'question_pick', 'question_pick_with_answer'}"
      ]
     },
     "execution_count": 140,
     "metadata": {},
     "output_type": "execute_result"
    }
   ],
   "execution_count": 140
  },
  {
   "metadata": {
    "ExecuteTime": {
     "end_time": "2024-07-15T13:48:54.515159Z",
     "start_time": "2024-07-15T13:48:54.405701Z"
    }
   },
   "cell_type": "code",
   "source": "pickle.dump(d_b, open('!final_dataset_6016_with_hints_after_n_step.pkl', 'wb'))",
   "id": "6031ad521751a37d",
   "outputs": [],
   "execution_count": 141
  },
  {
   "metadata": {
    "ExecuteTime": {
     "end_time": "2024-07-15T13:48:55.129665Z",
     "start_time": "2024-07-15T13:48:55.126863Z"
    }
   },
   "cell_type": "code",
   "source": "",
   "id": "36165f1cebcfc1a8",
   "outputs": [],
   "execution_count": 141
  },
  {
   "metadata": {
    "ExecuteTime": {
     "end_time": "2024-07-15T13:53:50.230194Z",
     "start_time": "2024-07-15T13:53:50.157341Z"
    }
   },
   "cell_type": "code",
   "source": "d_b = pickle.load(open(\"dataset_17476_from_snapshots_fixed.pkl\", 'rb'))",
   "id": "53b501c91b38239c",
   "outputs": [],
   "execution_count": 143
  },
  {
   "metadata": {
    "ExecuteTime": {
     "end_time": "2024-07-15T13:53:59.435867Z",
     "start_time": "2024-07-15T13:53:59.429468Z"
    }
   },
   "cell_type": "code",
   "source": "set([o['type'] for o in d_b])",
   "id": "eec4126fd3bfc9c0",
   "outputs": [
    {
     "data": {
      "text/plain": [
       "{'guess_from_snapshot', 'questions_candidates_from_snapshot'}"
      ]
     },
     "execution_count": 145,
     "metadata": {},
     "output_type": "execute_result"
    }
   ],
   "execution_count": 145
  },
  {
   "metadata": {
    "ExecuteTime": {
     "end_time": "2024-07-15T14:00:19.834720Z",
     "start_time": "2024-07-15T14:00:19.829916Z"
    }
   },
   "cell_type": "code",
   "source": [
    "for o in d_b:\n",
    "    if o['type'] != \"guess_from_snapshot\":\n",
    "        continue\n",
    "    o['prompt'] = o['prompt'].replace(\"\"\"Format your answer like this: First, reason about your decision for 2-4 sentences. Summarize what you know, summarize space of possibilities, etc.\n",
    "Then, your last line should be the keyword that you want to guess.\n",
    "Don't output anything else. Only output the keyword that you want to guess. Don't say anything like \"My guess is {keyword}\" - always just \"{keyword}\\\"\"\"\", \n",
    "              \"\"\"Format your answer like this: only output the keyword that you want to guess, nothing else. Don't say anything like \"My guess is {{keyword}}\" - always just \"{{keyword}}\\\"\"\"\")\n",
    "    if \"sentences\" in o['prompt'].lower():\n",
    "        print(\"!!!\")\n",
    "    o['response'] = o['response'].split(\"\\n\")[-1].strip().replace(\"Answer: \", \"\").replace(\"Is it an \", \"\").replace(\"Is it a \", \"\").replace(\"Is it in\", \"\").replace(\"?\", \"\").replace(\"\\\"\", \"\")\n",
    "    # if any symbol is not alphabetical  -output the response\n",
    "    if any([not c.isalnum() and c != \" \" and c != \"-\" and c != \".\" and c != \",\" and c != \"'\" for c in o['response']]):\n",
    "        print(\"!\", o['response'])"
   ],
   "id": "47b7e0522f7837fb",
   "outputs": [],
   "execution_count": 153
  },
  {
   "metadata": {
    "ExecuteTime": {
     "end_time": "2024-07-15T14:26:40.782055Z",
     "start_time": "2024-07-15T14:26:40.770550Z"
    }
   },
   "cell_type": "code",
   "source": [
    "d_b = [o for o in d_b if (o['type'] != \"question_pick\" and o['type'] != \"question_pick_with_answer\") or (\"?\" in o['response'])]\n",
    "for o in d_b:\n",
    "    if o['type'] != \"questions_candidates_from_snapshot\":\n",
    "        continue\n",
    "    o['prompt'] = o['prompt'].replace(\n",
    "    \"\"\"You need to generate 1 candidates for the next question to ask.\n",
    "You should mix safe questions with more creative and non-orthodox ones.\n",
    "Safe questions are usually ones that split the space of possibilities in half.\n",
    "If you have a few questions left, you can start acting more aggressively, intuitively checking some less probable, but high-reward hypotheses.\n",
    "Consider asking non-standard questions like \"Does the keyword consist of a single word?, however only do it if you don't know it yet, and if you think that it's important to know at this point in the game.\n",
    "Consider asking questions like \"Does the keyword start with letter 'A'?\" or \"Does the keyword contain letter 'E'?\". However, don't overdo it, focus on more substantial questions.\n",
    "\n",
    "Format your answer like this: output every question on a new line. Don't output anything else.\"\"\",\n",
    "    \"\"\"You goal is to choose the best next question.\n",
    "Safe questions are usually ones that split the space of possibilities in half given the previous answers.\n",
    "If you have a few questions left, you can start acting more aggressively, intuitively checking some less probable, but high-reward hypotheses.\n",
    "\n",
    "You should keep balance of safe questions and more creative and non-orthodox ones.\n",
    "Safe questions are usually ones that split the space of possibilities in half.\n",
    "If you have a few questions left, you can start acting more aggressively, intuitively checking some less probable, but high-reward hypotheses.\n",
    "Consider asking non-standard questions like \"Does the keyword consist of a single word?, however only do it if you don't know it yet, and if you think that it's important to know at this point in the game.\n",
    "Consider asking questions like \"Does the keyword start with letter 'A'?\" or \"Does the keyword contain letter 'E'?\". However, don't overdo it, focus on more substantial questions.\n",
    "\n",
    "In any case, try to make reason about what decision is the best here, balance risk, and choose the best next question. Act as a competetive extremely smart player that you are.\n",
    "\n",
    "Don't forget that some inconsistencies in answers can be caused by errors in the answering LLM.\n",
    "\n",
    "Format your answer like this: Your last and only line should be the question that you want to ask. Just output the question, not \"Question: ...\" or \"I pick question...\"\n",
    "Don't output anything else!\"\"\"\n",
    ")\n",
    "    if \"sentences\" in o['prompt']:\n",
    "        print(\"!!!\")\n",
    "        break\n",
    "    o['response'] = o['response'].split(\"\\n\")[-1].strip().split(\":\")[-1]\n",
    "    if \"?\" not in o['response'] or \":\" in o['response'] or \"my\" in o['response'].lower() or \"i \" in o['response'].lower()  or \"here \" in o['response'].lower():\n",
    "        print(\"!\", o['response'])\n",
    "    o['type'] = \"question_pick_from_snapshot\"  # TODO enable line"
   ],
   "id": "aafe60b3e65a0ad5",
   "outputs": [],
   "execution_count": 164
  },
  {
   "metadata": {
    "ExecuteTime": {
     "end_time": "2024-07-15T14:26:47.648806Z",
     "start_time": "2024-07-15T14:26:47.526664Z"
    }
   },
   "cell_type": "code",
   "source": "pickle.dump(d_b, open('!final_dataset_17476_from_snapshots_fixed.pkl', 'wb'))",
   "id": "cf3fed6cdb3af79c",
   "outputs": [],
   "execution_count": 165
  },
  {
   "metadata": {
    "ExecuteTime": {
     "end_time": "2024-07-15T13:54:00.986763Z",
     "start_time": "2024-07-15T13:54:00.984201Z"
    }
   },
   "cell_type": "code",
   "source": "",
   "id": "44ea1adca3f2a5f6",
   "outputs": [],
   "execution_count": 145
  },
  {
   "metadata": {
    "ExecuteTime": {
     "end_time": "2024-07-16T11:02:55.514887Z",
     "start_time": "2024-07-16T11:02:55.469360Z"
    }
   },
   "cell_type": "code",
   "source": "d_b = pickle.load(open(\"!final_dataset_17476_from_snapshots_fixed.pkl\", 'rb'))",
   "id": "22becf70cafdf75a",
   "outputs": [],
   "execution_count": 92
  },
  {
   "metadata": {
    "ExecuteTime": {
     "end_time": "2024-07-16T11:02:56.327650Z",
     "start_time": "2024-07-16T11:02:56.323869Z"
    }
   },
   "cell_type": "code",
   "source": "import pandas as pd",
   "id": "d0937532a522ce5b",
   "outputs": [],
   "execution_count": 93
  },
  {
   "metadata": {
    "ExecuteTime": {
     "end_time": "2024-07-16T11:02:56.790809Z",
     "start_time": "2024-07-16T11:02:56.761648Z"
    }
   },
   "cell_type": "code",
   "source": "df = pd.DataFrame(d_b)",
   "id": "a95742bddeec9ffa",
   "outputs": [],
   "execution_count": 94
  },
  {
   "metadata": {
    "ExecuteTime": {
     "end_time": "2024-07-16T11:02:58.285172Z",
     "start_time": "2024-07-16T11:02:58.254398Z"
    }
   },
   "cell_type": "code",
   "source": [
    "df['length'] = df['prompt'].apply(len)\n",
    "df['has_candidates'] = df['prompt'].apply(lambda x: \"candidates\" in x.lower())"
   ],
   "id": "b618ea7ffcfeffbb",
   "outputs": [],
   "execution_count": 95
  },
  {
   "metadata": {
    "ExecuteTime": {
     "end_time": "2024-07-16T11:02:58.784600Z",
     "start_time": "2024-07-16T11:02:58.779114Z"
    }
   },
   "cell_type": "code",
   "source": "df.has_candidates.sum()",
   "id": "3668c3dc3c50a631",
   "outputs": [
    {
     "data": {
      "text/plain": [
       "0"
      ]
     },
     "execution_count": 96,
     "metadata": {},
     "output_type": "execute_result"
    }
   ],
   "execution_count": 96
  },
  {
   "metadata": {
    "ExecuteTime": {
     "end_time": "2024-07-16T10:27:11.202433Z",
     "start_time": "2024-07-16T10:27:11.195369Z"
    }
   },
   "cell_type": "code",
   "source": "df = df.sort_values('length', ascending=False)",
   "id": "aae523b7db7947f0",
   "outputs": [],
   "execution_count": 48
  },
  {
   "metadata": {
    "ExecuteTime": {
     "end_time": "2024-07-16T10:39:49.786261Z",
     "start_time": "2024-07-16T10:39:49.782592Z"
    }
   },
   "cell_type": "code",
   "source": "print(df.iloc[0]['prompt'])",
   "id": "b23666443a607966",
   "outputs": [
    {
     "name": "stdout",
     "output_type": "stream",
     "text": [
      "You are playing \"20 Questions\" game.\n",
      "    \n",
      "\n",
      "    \n",
      "Here are some candidates for the next question:\n",
      "Is it a place?\n",
      "Is it a thing?\n",
      "Is it a concept?\n",
      "Is it something you can touch?\n",
      "Is it used in everyday life?\n",
      "Is it larger than a car?\n",
      "Is it found indoors?\n",
      "Is it related to technology?\n",
      "Is it made of metal?\n",
      "Is it a single word?\n",
      "\n",
      "You goal is to pick the best next question.\n",
      "Safe questions are usually ones that split the space of possibilities in half given the previous answers.\n",
      "If you have a few questions left, you can start acting more aggressively, intuitively checking some less probable, but high-reward hypotheses.\n",
      "\n",
      "In any case, try to make reason about what decision is the best here, balance risk, and choose the best next question. Act as a competetive extremely smart player that you are.\n",
      "\n",
      "Don't forget that some inconsistencies in answers can be caused by errors in the answering LLM.\n",
      "\n",
      "Format your answer like this: First, reason about your decision for 2-4 sentences. Summarize what you know, summarize space of possibilities, reason about what question would be the most beneficial.\n",
      "Then, your last line should be the questions that you've picked.\n",
      "Don't output anything else.\n",
      "\n"
     ]
    }
   ],
   "execution_count": 66
  },
  {
   "metadata": {
    "ExecuteTime": {
     "end_time": "2024-07-16T10:36:47.876379Z",
     "start_time": "2024-07-16T10:36:47.867926Z"
    }
   },
   "cell_type": "code",
   "source": "",
   "id": "21c7a3c3719edd82",
   "outputs": [
    {
     "data": {
      "text/plain": [
       "type\n",
       "answer           2808\n",
       "question_pick    2807\n",
       "guess            2765\n",
       "Name: count, dtype: int64"
      ]
     },
     "execution_count": 52,
     "metadata": {},
     "output_type": "execute_result"
    }
   ],
   "execution_count": 52
  },
  {
   "metadata": {
    "ExecuteTime": {
     "end_time": "2024-07-16T10:40:18.801233Z",
     "start_time": "2024-07-16T10:40:18.798095Z"
    }
   },
   "cell_type": "code",
   "source": "",
   "id": "90cc7019de1f5154",
   "outputs": [],
   "execution_count": 66
  },
  {
   "metadata": {
    "ExecuteTime": {
     "end_time": "2024-07-16T10:40:19.348224Z",
     "start_time": "2024-07-16T10:40:19.344581Z"
    }
   },
   "cell_type": "code",
   "source": "",
   "id": "c23657e203f0bf0b",
   "outputs": [],
   "execution_count": 66
  },
  {
   "metadata": {
    "ExecuteTime": {
     "end_time": "2024-07-16T10:40:19.532123Z",
     "start_time": "2024-07-16T10:40:19.530117Z"
    }
   },
   "cell_type": "code",
   "source": "d_b = pickle.load(open(\"!final_dataset_11194_basic.pkl\", 'rb'))",
   "id": "1c1d73998ae3207b",
   "outputs": [],
   "execution_count": 66
  },
  {
   "metadata": {
    "ExecuteTime": {
     "end_time": "2024-07-16T11:00:36.239839Z",
     "start_time": "2024-07-16T11:00:36.226977Z"
    }
   },
   "cell_type": "code",
   "source": [
    "for o in d_b:\n",
    "    if o['type'] != \"question_pick\":\n",
    "        continue\n",
    "    to_delete = o['prompt'][o['prompt'].index(\"Here are some candidates for the next question\"):o['prompt'].index(\"You goal is to pick the best next question\")]\n",
    "    o['prompt'] = o['prompt'].replace(to_delete, \"\")\n",
    "    if \"candidates\" in o['prompt']:\n",
    "        print(\"!!!\")\n",
    "        break"
   ],
   "id": "5e17712712a81170",
   "outputs": [],
   "execution_count": 78
  },
  {
   "metadata": {
    "ExecuteTime": {
     "end_time": "2024-07-16T11:01:10.645823Z",
     "start_time": "2024-07-16T11:01:10.632186Z"
    }
   },
   "cell_type": "code",
   "source": [
    "for o in d_b:\n",
    "    o['prompt'] = o['prompt'].replace(\"You goal\", \"Your goal\")"
   ],
   "id": "c067b897db17b5d9",
   "outputs": [],
   "execution_count": 79
  },
  {
   "metadata": {
    "ExecuteTime": {
     "end_time": "2024-07-16T11:01:20.765437Z",
     "start_time": "2024-07-16T11:01:20.585379Z"
    }
   },
   "cell_type": "code",
   "source": "pickle.dump(d_b, open('!final_dataset_11194_basic.pkl', 'wb'))",
   "id": "cfffc7130cb7657c",
   "outputs": [],
   "execution_count": 80
  },
  {
   "metadata": {
    "ExecuteTime": {
     "end_time": "2024-07-16T11:00:42.386135Z",
     "start_time": "2024-07-16T11:00:42.383621Z"
    }
   },
   "cell_type": "code",
   "source": "",
   "id": "7a7baf3cbc97cca6",
   "outputs": [],
   "execution_count": 78
  },
  {
   "metadata": {
    "ExecuteTime": {
     "end_time": "2024-07-16T11:02:09.938861Z",
     "start_time": "2024-07-16T11:02:09.623329Z"
    }
   },
   "cell_type": "code",
   "source": "d_b = pickle.load(open(\"!final_dataset_6016_with_hints_after_n_step.pkl\", 'rb'))",
   "id": "13692afc187e212e",
   "outputs": [],
   "execution_count": 85
  },
  {
   "metadata": {
    "ExecuteTime": {
     "end_time": "2024-07-16T11:02:09.964807Z",
     "start_time": "2024-07-16T11:02:09.952643Z"
    }
   },
   "cell_type": "code",
   "source": [
    "for o in d_b:\n",
    "    if o['type'] != \"question_pick\" and o['type'] != \"question_pick_with_answer\":\n",
    "        continue\n",
    "    to_delete = o['prompt'][o['prompt'].index(\"Here are some candidates for the next question\"):o['prompt'].index(\"You goal is to pick the best next question\")]\n",
    "    o['prompt'] = o['prompt'].replace(to_delete, \"\")\n",
    "    if \"candidates\" in o['prompt']:\n",
    "        print(\"!!!\")\n",
    "        break"
   ],
   "id": "13fbab2276215d26",
   "outputs": [],
   "execution_count": 86
  },
  {
   "metadata": {
    "ExecuteTime": {
     "end_time": "2024-07-16T11:02:10.364218Z",
     "start_time": "2024-07-16T11:02:10.353316Z"
    }
   },
   "cell_type": "code",
   "source": [
    "for o in d_b:\n",
    "    o['prompt'] = o['prompt'].replace(\"You goal\", \"Your goal\")"
   ],
   "id": "c3faf996e9d03342",
   "outputs": [],
   "execution_count": 87
  },
  {
   "metadata": {
    "ExecuteTime": {
     "end_time": "2024-07-16T11:02:10.638767Z",
     "start_time": "2024-07-16T11:02:10.633395Z"
    }
   },
   "cell_type": "code",
   "source": "set([o['type'] for o in d_b])",
   "id": "367736e813d6f121",
   "outputs": [
    {
     "data": {
      "text/plain": [
       "{'answer', 'guess', 'question_pick', 'question_pick_with_answer'}"
      ]
     },
     "execution_count": 88,
     "metadata": {},
     "output_type": "execute_result"
    }
   ],
   "execution_count": 88
  },
  {
   "metadata": {
    "ExecuteTime": {
     "end_time": "2024-07-16T11:02:31.045662Z",
     "start_time": "2024-07-16T11:02:30.875848Z"
    }
   },
   "cell_type": "code",
   "source": "pickle.dump(d_b, open('!final_dataset_6016_with_hints_after_n_step.pkl', 'wb'))",
   "id": "8794b3d362e0c0b3",
   "outputs": [],
   "execution_count": 89
  },
  {
   "metadata": {
    "ExecuteTime": {
     "end_time": "2024-07-16T11:02:31.460791Z",
     "start_time": "2024-07-16T11:02:31.457384Z"
    }
   },
   "cell_type": "code",
   "source": "",
   "id": "acc8be3bffd9a4b3",
   "outputs": [],
   "execution_count": 89
  },
  {
   "metadata": {
    "ExecuteTime": {
     "end_time": "2024-07-16T11:03:02.618723Z",
     "start_time": "2024-07-16T11:03:02.581134Z"
    }
   },
   "cell_type": "code",
   "source": "d_b = pickle.load(open(\"!final_dataset_17476_from_snapshots_fixed.pkl\", 'rb'))",
   "id": "324c90bd839a5fc",
   "outputs": [],
   "execution_count": 97
  },
  {
   "metadata": {
    "ExecuteTime": {
     "end_time": "2024-07-16T11:03:06.272232Z",
     "start_time": "2024-07-16T11:03:06.248686Z"
    }
   },
   "cell_type": "code",
   "source": [
    "for o in d_b:\n",
    "    o['prompt'] = o['prompt'].replace(\"You goal\", \"Your goal\")"
   ],
   "id": "6b67f309345bcb03",
   "outputs": [],
   "execution_count": 98
  },
  {
   "metadata": {
    "ExecuteTime": {
     "end_time": "2024-07-16T11:03:18.757242Z",
     "start_time": "2024-07-16T11:03:18.717435Z"
    }
   },
   "cell_type": "code",
   "source": "pickle.dump(d_b, open('!final_dataset_17476_from_snapshots_fixed.pkl', 'wb'))",
   "id": "4c345b724f1a1cf4",
   "outputs": [],
   "execution_count": 99
  },
  {
   "metadata": {
    "ExecuteTime": {
     "end_time": "2024-07-16T11:02:45.800968Z",
     "start_time": "2024-07-16T11:02:45.797703Z"
    }
   },
   "cell_type": "code",
   "source": "",
   "id": "15dcea3d63f6a3f4",
   "outputs": [],
   "execution_count": 91
  },
  {
   "metadata": {},
   "cell_type": "code",
   "outputs": [],
   "execution_count": null,
   "source": "",
   "id": "510ff76672775943"
  }
 ],
 "metadata": {
  "kernelspec": {
   "display_name": "Python 3",
   "language": "python",
   "name": "python3"
  },
  "language_info": {
   "codemirror_mode": {
    "name": "ipython",
    "version": 2
   },
   "file_extension": ".py",
   "mimetype": "text/x-python",
   "name": "python",
   "nbconvert_exporter": "python",
   "pygments_lexer": "ipython2",
   "version": "2.7.6"
  }
 },
 "nbformat": 4,
 "nbformat_minor": 5
}
