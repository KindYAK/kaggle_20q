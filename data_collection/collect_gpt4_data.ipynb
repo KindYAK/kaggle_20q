{
 "cells": [
  {
   "cell_type": "code",
   "id": "initial_id",
   "metadata": {
    "collapsed": true,
    "ExecuteTime": {
     "end_time": "2024-07-08T11:03:21.521332Z",
     "start_time": "2024-07-08T11:03:19.637161Z"
    }
   },
   "source": [
    "import datetime\n",
    "import logging\n",
    "import pickle\n",
    "\n",
    "import pandas as pd\n",
    "\n",
    "from data_collection.models import Game, Round\n",
    "from data_collection.questions_candidates import get_question_candidates\n",
    "from data_collection.questions_pick import pick_question\n",
    "from data_collection.semaphore import set_semaphore\n",
    "from data_collection.guess import guess\n",
    "from data_collection.answer import answer\n",
    "from data_collection.simulate_game import run_games\n",
    "\n",
    "\n",
    "logging.basicConfig(level=logging.INFO, format='%(asctime)s - %(levelname)s - %(message)s')\n",
    "\n",
    "from dotenv import load_dotenv\n",
    "from openai import AsyncOpenAI\n",
    "\n",
    "from data_collection.utils import call_gpt4, dataset\n",
    "\n",
    "load_dotenv()"
   ],
   "outputs": [
    {
     "data": {
      "text/plain": [
       "True"
      ]
     },
     "execution_count": 1,
     "metadata": {},
     "output_type": "execute_result"
    }
   ],
   "execution_count": 1
  },
  {
   "metadata": {
    "ExecuteTime": {
     "end_time": "2024-07-08T11:03:21.529977Z",
     "start_time": "2024-07-08T11:03:21.524262Z"
    }
   },
   "cell_type": "code",
   "source": "set_semaphore(\"gpt-4\", 3)",
   "id": "8853b544b39c772",
   "outputs": [],
   "execution_count": 2
  },
  {
   "metadata": {
    "ExecuteTime": {
     "end_time": "2024-07-08T11:03:21.554758Z",
     "start_time": "2024-07-08T11:03:21.531996Z"
    }
   },
   "cell_type": "code",
   "source": "client = AsyncOpenAI()",
   "id": "6b07c50e4cb7642e",
   "outputs": [],
   "execution_count": 3
  },
  {
   "metadata": {
    "ExecuteTime": {
     "end_time": "2024-07-08T11:03:21.560572Z",
     "start_time": "2024-07-08T11:03:21.556775Z"
    }
   },
   "cell_type": "code",
   "source": [
    "# samples_by_category = {\n",
    "#     \"things\": 100,\n",
    "#     \"city\": 40,\n",
    "#     \"country\": 20,\n",
    "#     \"landmark\": 40,\n",
    "# }\n",
    "#OVERALL"
   ],
   "id": "e2c58c2a0eb6da69",
   "outputs": [],
   "execution_count": 4
  },
  {
   "metadata": {
    "ExecuteTime": {
     "end_time": "2024-07-08T11:03:21.569009Z",
     "start_time": "2024-07-08T11:03:21.563596Z"
    }
   },
   "cell_type": "code",
   "source": [
    "samples_by_category = {\n",
    "    \"things\": 25,\n",
    "    \"city\": 10,\n",
    "    \"country\": 5,\n",
    "    \"landmark\": 10,\n",
    "}\n",
    "# 50 examples"
   ],
   "id": "cceb16aca9f690f9",
   "outputs": [],
   "execution_count": 5
  },
  {
   "metadata": {
    "ExecuteTime": {
     "end_time": "2024-07-08T11:03:21.575898Z",
     "start_time": "2024-07-08T11:03:21.571027Z"
    }
   },
   "cell_type": "code",
   "source": [
    "# samples_by_category = {\n",
    "#     \"things\": 50,\n",
    "#     \"city\": 20,\n",
    "#     \"country\": 10,\n",
    "#     \"landmark\": 20,\n",
    "# }\n",
    "# 100 examples"
   ],
   "id": "5bfcce5b60f8b0b6",
   "outputs": [],
   "execution_count": 6
  },
  {
   "metadata": {
    "ExecuteTime": {
     "end_time": "2024-07-08T11:03:21.976449Z",
     "start_time": "2024-07-08T11:03:21.972408Z"
    }
   },
   "cell_type": "code",
   "source": "",
   "id": "f35199a056d1b78d",
   "outputs": [],
   "execution_count": 6
  },
  {
   "metadata": {
    "ExecuteTime": {
     "end_time": "2024-07-08T11:03:21.985837Z",
     "start_time": "2024-07-08T11:03:21.978465Z"
    }
   },
   "cell_type": "code",
   "source": "keywords_by_category = pickle.load(open(\"../keywords_by_category.pkl\", \"rb\"))",
   "id": "3e7a36dd49fb9b0e",
   "outputs": [],
   "execution_count": 7
  },
  {
   "metadata": {
    "ExecuteTime": {
     "end_time": "2024-07-08T11:03:22.215161Z",
     "start_time": "2024-07-08T11:03:22.207864Z"
    }
   },
   "cell_type": "code",
   "source": "keywords_by_category.keys()",
   "id": "d86faf1957579025",
   "outputs": [
    {
     "data": {
      "text/plain": [
       "dict_keys(['city', 'country', 'landmark', 'things'])"
      ]
     },
     "execution_count": 8,
     "metadata": {},
     "output_type": "execute_result"
    }
   ],
   "execution_count": 8
  },
  {
   "metadata": {
    "ExecuteTime": {
     "end_time": "2024-07-08T11:03:22.400896Z",
     "start_time": "2024-07-08T11:03:22.395284Z"
    }
   },
   "cell_type": "code",
   "source": [
    "for key in keywords_by_category:\n",
    "    keywords_by_category[key] = keywords_by_category[key].sample(samples_by_category[key])"
   ],
   "id": "2dfbd024be8e63da",
   "outputs": [],
   "execution_count": 9
  },
  {
   "metadata": {
    "ExecuteTime": {
     "end_time": "2024-07-08T11:03:22.589486Z",
     "start_time": "2024-07-08T11:03:22.585599Z"
    }
   },
   "cell_type": "code",
   "source": "",
   "id": "1effee1c833d09d7",
   "outputs": [],
   "execution_count": 9
  },
  {
   "metadata": {
    "ExecuteTime": {
     "end_time": "2024-07-08T11:03:22.777392Z",
     "start_time": "2024-07-08T11:03:22.770523Z"
    }
   },
   "cell_type": "code",
   "source": "all_dfs = pd.concat(keywords_by_category.values())",
   "id": "3397050fc4395522",
   "outputs": [],
   "execution_count": 10
  },
  {
   "metadata": {
    "ExecuteTime": {
     "end_time": "2024-07-08T11:03:22.960785Z",
     "start_time": "2024-07-08T11:03:22.956305Z"
    }
   },
   "cell_type": "code",
   "source": "keywords_flat = list(all_dfs.keyword)",
   "id": "5be580c434a590b0",
   "outputs": [],
   "execution_count": 11
  },
  {
   "metadata": {
    "ExecuteTime": {
     "end_time": "2024-07-08T11:03:23.230010Z",
     "start_time": "2024-07-08T11:03:23.222926Z"
    }
   },
   "cell_type": "code",
   "source": "keywords_flat",
   "id": "244c7e16d60c6818",
   "outputs": [
    {
     "data": {
      "text/plain": [
       "['guwahati',\n",
       " 'kolkata',\n",
       " 'nantes',\n",
       " 'chengdu',\n",
       " 'zurich',\n",
       " 'ulaanbaatar',\n",
       " 'melbourne',\n",
       " 'villarreal',\n",
       " 'florianopolis',\n",
       " 'kawasaki',\n",
       " 'saudi arabia',\n",
       " 'central african republic',\n",
       " 'federated states of micronesia',\n",
       " 'cyprus',\n",
       " 'zambia',\n",
       " 'dnieper',\n",
       " 'haleakala',\n",
       " 'kilimanjaro',\n",
       " 'zugspitze',\n",
       " 'mount fuji',\n",
       " 'mont blanc',\n",
       " 'zambezi river',\n",
       " 'fitz roy',\n",
       " 'colorado river',\n",
       " 'mount etna',\n",
       " 'dolphin',\n",
       " 'docket',\n",
       " 'amazon echo',\n",
       " 'fence gate',\n",
       " 'gecko',\n",
       " 'desk chairs',\n",
       " 'television remote',\n",
       " 'foam roller',\n",
       " 'coke',\n",
       " 'honey',\n",
       " 'kitchenette',\n",
       " 'coffee grounds',\n",
       " 'merchandise rack',\n",
       " 'flashlight',\n",
       " 'attic ladder',\n",
       " 'hairspray can',\n",
       " 'utility cart',\n",
       " 'virus',\n",
       " 'enamel',\n",
       " 'chocolate bar',\n",
       " 'bike path',\n",
       " 'hangar',\n",
       " 'pumpkin',\n",
       " 'eye mask',\n",
       " 'fire coral']"
      ]
     },
     "execution_count": 12,
     "metadata": {},
     "output_type": "execute_result"
    }
   ],
   "execution_count": 12
  },
  {
   "metadata": {
    "jupyter": {
     "is_executing": true
    },
    "ExecuteTime": {
     "start_time": "2024-07-08T11:03:23.891861Z"
    }
   },
   "cell_type": "code",
   "source": "games = await run_games(client, keywords_flat)",
   "id": "3506ae4fcd368d98",
   "outputs": [
    {
     "name": "stdout",
     "output_type": "stream",
     "text": [
      "Game guwahati, round 0\n",
      "Game kolkata, round 0\n",
      "Game nantes, round 0\n",
      "Game chengdu, round 0\n",
      "Game zurich, round 0\n",
      "Game ulaanbaatar, round 0\n",
      "Game melbourne, round 0\n",
      "Game villarreal, round 0\n",
      "Game florianopolis, round 0\n",
      "Game kawasaki, round 0\n",
      "Game saudi arabia, round 0\n",
      "Game central african republic, round 0\n",
      "Game federated states of micronesia, round 0\n",
      "Game cyprus, round 0\n",
      "Game zambia, round 0\n",
      "Game dnieper, round 0\n",
      "Game haleakala, round 0\n",
      "Game kilimanjaro, round 0\n",
      "Game zugspitze, round 0\n",
      "Game mount fuji, round 0\n",
      "Game mont blanc, round 0\n",
      "Game zambezi river, round 0\n",
      "Game fitz roy, round 0\n",
      "Game colorado river, round 0\n",
      "Game mount etna, round 0\n",
      "Game dolphin, round 0\n",
      "Game docket, round 0\n",
      "Game amazon echo, round 0\n",
      "Game fence gate, round 0\n",
      "Game gecko, round 0\n",
      "Game desk chairs, round 0\n",
      "Game television remote, round 0\n",
      "Game foam roller, round 0\n",
      "Game coke, round 0\n",
      "Game honey, round 0\n",
      "Game kitchenette, round 0\n",
      "Game coffee grounds, round 0\n",
      "Game merchandise rack, round 0\n",
      "Game flashlight, round 0\n",
      "Game attic ladder, round 0\n",
      "Game hairspray can, round 0\n",
      "Game utility cart, round 0\n",
      "Game virus, round 0\n",
      "Game enamel, round 0\n",
      "Game chocolate bar, round 0\n",
      "Game bike path, round 0\n",
      "Game hangar, round 0\n",
      "Game pumpkin, round 0\n",
      "Game eye mask, round 0\n",
      "Game fire coral, round 0\n"
     ]
    },
    {
     "name": "stderr",
     "output_type": "stream",
     "text": [
      "2024-07-08 16:03:25,118 - INFO - HTTP Request: POST https://api.openai.com/v1/chat/completions \"HTTP/1.1 200 OK\"\n",
      "2024-07-08 16:03:25,436 - INFO - HTTP Request: POST https://api.openai.com/v1/chat/completions \"HTTP/1.1 200 OK\"\n",
      "2024-07-08 16:03:25,971 - INFO - HTTP Request: POST https://api.openai.com/v1/chat/completions \"HTTP/1.1 200 OK\"\n",
      "2024-07-08 16:03:26,743 - INFO - HTTP Request: POST https://api.openai.com/v1/chat/completions \"HTTP/1.1 200 OK\"\n",
      "2024-07-08 16:03:26,889 - INFO - HTTP Request: POST https://api.openai.com/v1/chat/completions \"HTTP/1.1 200 OK\"\n",
      "2024-07-08 16:03:28,524 - INFO - HTTP Request: POST https://api.openai.com/v1/chat/completions \"HTTP/1.1 200 OK\"\n",
      "2024-07-08 16:03:28,807 - INFO - HTTP Request: POST https://api.openai.com/v1/chat/completions \"HTTP/1.1 200 OK\"\n",
      "2024-07-08 16:03:29,327 - INFO - HTTP Request: POST https://api.openai.com/v1/chat/completions \"HTTP/1.1 200 OK\"\n",
      "2024-07-08 16:03:30,144 - INFO - HTTP Request: POST https://api.openai.com/v1/chat/completions \"HTTP/1.1 200 OK\"\n"
     ]
    }
   ],
   "execution_count": null
  },
  {
   "metadata": {
    "jupyter": {
     "is_executing": true
    }
   },
   "cell_type": "code",
   "source": "games",
   "id": "722a8e1752032d7e",
   "outputs": [],
   "execution_count": null
  },
  {
   "metadata": {
    "jupyter": {
     "is_executing": true
    }
   },
   "cell_type": "code",
   "source": [
    "dt = datetime.datetime.now().strftime(\"%Y-%m-%d_%H-%M-%S\")\n",
    "pickle.dump(dataset, open(f\"dataset_{dt}.pkl\", \"wb\"))"
   ],
   "id": "9b324e20be1545a",
   "outputs": [],
   "execution_count": null
  },
  {
   "metadata": {
    "jupyter": {
     "is_executing": true
    }
   },
   "cell_type": "code",
   "source": "len(dataset)",
   "id": "e3035305d6c54de7",
   "outputs": [],
   "execution_count": null
  },
  {
   "metadata": {
    "ExecuteTime": {
     "end_time": "2024-07-08T10:14:02.771494Z",
     "start_time": "2024-07-08T10:14:02.766580Z"
    }
   },
   "cell_type": "code",
   "source": "# game = await run_game(client, \"headphones\")",
   "id": "b65184d509c8e9fe",
   "outputs": [],
   "execution_count": 1
  },
  {
   "metadata": {
    "ExecuteTime": {
     "end_time": "2024-07-05T16:28:14.756720Z",
     "start_time": "2024-07-05T16:28:14.752972Z"
    }
   },
   "cell_type": "code",
   "source": "",
   "id": "4353dc30ebd42e6",
   "outputs": [],
   "execution_count": 150
  },
  {
   "metadata": {
    "ExecuteTime": {
     "end_time": "2024-07-05T16:28:14.762914Z",
     "start_time": "2024-07-05T16:28:14.758728Z"
    }
   },
   "cell_type": "code",
   "source": "",
   "id": "ca600fff2e30534a",
   "outputs": [],
   "execution_count": 150
  },
  {
   "metadata": {
    "ExecuteTime": {
     "end_time": "2024-07-05T16:28:14.769160Z",
     "start_time": "2024-07-05T16:28:14.764923Z"
    }
   },
   "cell_type": "code",
   "source": "",
   "id": "804eeab06209ee57",
   "outputs": [],
   "execution_count": 150
  },
  {
   "metadata": {
    "ExecuteTime": {
     "end_time": "2024-07-05T16:29:09.359062Z",
     "start_time": "2024-07-05T16:29:09.355250Z"
    }
   },
   "cell_type": "code",
   "source": "",
   "id": "126b35613abd8f2d",
   "outputs": [],
   "execution_count": 156
  },
  {
   "metadata": {
    "ExecuteTime": {
     "end_time": "2024-07-05T16:29:09.544631Z",
     "start_time": "2024-07-05T16:29:09.541754Z"
    }
   },
   "cell_type": "code",
   "source": "",
   "id": "2615d3c283b11057",
   "outputs": [],
   "execution_count": 156
  },
  {
   "metadata": {
    "ExecuteTime": {
     "end_time": "2024-07-05T16:29:09.699534Z",
     "start_time": "2024-07-05T16:29:09.695512Z"
    }
   },
   "cell_type": "code",
   "source": "",
   "id": "5963796c10270c",
   "outputs": [],
   "execution_count": 156
  },
  {
   "metadata": {},
   "cell_type": "code",
   "outputs": [],
   "execution_count": null,
   "source": "",
   "id": "13452ed037a86d73"
  }
 ],
 "metadata": {
  "kernelspec": {
   "display_name": "Python 3",
   "language": "python",
   "name": "python3"
  },
  "language_info": {
   "codemirror_mode": {
    "name": "ipython",
    "version": 2
   },
   "file_extension": ".py",
   "mimetype": "text/x-python",
   "name": "python",
   "nbconvert_exporter": "python",
   "pygments_lexer": "ipython2",
   "version": "2.7.6"
  }
 },
 "nbformat": 4,
 "nbformat_minor": 5
}
