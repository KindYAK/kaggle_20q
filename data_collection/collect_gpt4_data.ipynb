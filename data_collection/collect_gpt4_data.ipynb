{
 "cells": [
  {
   "cell_type": "code",
   "id": "initial_id",
   "metadata": {
    "collapsed": true,
    "ExecuteTime": {
     "end_time": "2024-07-08T10:44:58.990490Z",
     "start_time": "2024-07-08T10:44:57.831225Z"
    }
   },
   "source": [
    "import datetime\n",
    "import logging\n",
    "import pickle\n",
    "\n",
    "import pandas as pd\n",
    "\n",
    "from data_collection.models import Game, Round\n",
    "from data_collection.questions_candidates import get_question_candidates\n",
    "from data_collection.questions_pick import pick_question\n",
    "from data_collection.semaphore import set_semaphore\n",
    "from data_collection.guess import guess\n",
    "from data_collection.answer import answer\n",
    "from data_collection.simulate_game import run_games\n",
    "\n",
    "\n",
    "logging.basicConfig(level=logging.INFO, format='%(asctime)s - %(levelname)s - %(message)s')\n",
    "\n",
    "from dotenv import load_dotenv\n",
    "from openai import AsyncOpenAI\n",
    "\n",
    "from data_collection.utils import call_gpt4, dataset\n",
    "\n",
    "load_dotenv()"
   ],
   "outputs": [
    {
     "data": {
      "text/plain": [
       "True"
      ]
     },
     "execution_count": 1,
     "metadata": {},
     "output_type": "execute_result"
    }
   ],
   "execution_count": 1
  },
  {
   "metadata": {
    "ExecuteTime": {
     "end_time": "2024-07-08T10:44:58.995217Z",
     "start_time": "2024-07-08T10:44:58.991499Z"
    }
   },
   "cell_type": "code",
   "source": "set_semaphore(\"gpt-4\", 4)",
   "id": "8853b544b39c772",
   "outputs": [],
   "execution_count": 2
  },
  {
   "metadata": {
    "ExecuteTime": {
     "end_time": "2024-07-08T10:44:59.231674Z",
     "start_time": "2024-07-08T10:44:59.216956Z"
    }
   },
   "cell_type": "code",
   "source": "client = AsyncOpenAI()",
   "id": "6b07c50e4cb7642e",
   "outputs": [],
   "execution_count": 3
  },
  {
   "metadata": {
    "ExecuteTime": {
     "end_time": "2024-07-08T10:44:59.237250Z",
     "start_time": "2024-07-08T10:44:59.233691Z"
    }
   },
   "cell_type": "code",
   "source": [
    "# samples_by_category = {\n",
    "#     \"things\": 100,\n",
    "#     \"city\": 40,\n",
    "#     \"country\": 20,\n",
    "#     \"landmark\": 40,\n",
    "# }\n",
    "#OVERALL"
   ],
   "id": "e2c58c2a0eb6da69",
   "outputs": [],
   "execution_count": 4
  },
  {
   "metadata": {
    "ExecuteTime": {
     "end_time": "2024-07-08T10:44:59.384324Z",
     "start_time": "2024-07-08T10:44:59.380787Z"
    }
   },
   "cell_type": "code",
   "source": [
    "samples_by_category = {\n",
    "    \"things\": 25,\n",
    "    \"city\": 10,\n",
    "    \"country\": 5,\n",
    "    \"landmark\": 10,\n",
    "}\n",
    "# 50 examples"
   ],
   "id": "cceb16aca9f690f9",
   "outputs": [],
   "execution_count": 5
  },
  {
   "metadata": {
    "ExecuteTime": {
     "end_time": "2024-07-08T10:44:59.555431Z",
     "start_time": "2024-07-08T10:44:59.552443Z"
    }
   },
   "cell_type": "code",
   "source": [
    "# samples_by_category = {\n",
    "#     \"things\": 50,\n",
    "#     \"city\": 20,\n",
    "#     \"country\": 10,\n",
    "#     \"landmark\": 20,\n",
    "# }\n",
    "# 100 examples"
   ],
   "id": "5bfcce5b60f8b0b6",
   "outputs": [],
   "execution_count": 6
  },
  {
   "metadata": {
    "ExecuteTime": {
     "end_time": "2024-07-08T10:44:59.725504Z",
     "start_time": "2024-07-08T10:44:59.722999Z"
    }
   },
   "cell_type": "code",
   "source": "",
   "id": "f35199a056d1b78d",
   "outputs": [],
   "execution_count": 6
  },
  {
   "metadata": {
    "ExecuteTime": {
     "end_time": "2024-07-08T10:44:59.905966Z",
     "start_time": "2024-07-08T10:44:59.900699Z"
    }
   },
   "cell_type": "code",
   "source": "keywords_by_category = pickle.load(open(\"../keywords_by_category.pkl\", \"rb\"))",
   "id": "3e7a36dd49fb9b0e",
   "outputs": [],
   "execution_count": 7
  },
  {
   "metadata": {
    "ExecuteTime": {
     "end_time": "2024-07-08T10:45:00.076794Z",
     "start_time": "2024-07-08T10:45:00.070523Z"
    }
   },
   "cell_type": "code",
   "source": "keywords_by_category.keys()",
   "id": "d86faf1957579025",
   "outputs": [
    {
     "data": {
      "text/plain": [
       "dict_keys(['city', 'country', 'landmark', 'things'])"
      ]
     },
     "execution_count": 8,
     "metadata": {},
     "output_type": "execute_result"
    }
   ],
   "execution_count": 8
  },
  {
   "metadata": {
    "ExecuteTime": {
     "end_time": "2024-07-08T10:45:00.250644Z",
     "start_time": "2024-07-08T10:45:00.245922Z"
    }
   },
   "cell_type": "code",
   "source": [
    "for key in keywords_by_category:\n",
    "    keywords_by_category[key] = keywords_by_category[key].sample(samples_by_category[key])"
   ],
   "id": "2dfbd024be8e63da",
   "outputs": [],
   "execution_count": 9
  },
  {
   "metadata": {
    "ExecuteTime": {
     "end_time": "2024-07-08T10:45:00.574637Z",
     "start_time": "2024-07-08T10:45:00.572043Z"
    }
   },
   "cell_type": "code",
   "source": "",
   "id": "1effee1c833d09d7",
   "outputs": [],
   "execution_count": 9
  },
  {
   "metadata": {
    "ExecuteTime": {
     "end_time": "2024-07-08T10:45:00.829351Z",
     "start_time": "2024-07-08T10:45:00.825893Z"
    }
   },
   "cell_type": "code",
   "source": "all_dfs = pd.concat(keywords_by_category.values())",
   "id": "3397050fc4395522",
   "outputs": [],
   "execution_count": 10
  },
  {
   "metadata": {
    "ExecuteTime": {
     "end_time": "2024-07-08T10:45:01.092010Z",
     "start_time": "2024-07-08T10:45:01.088449Z"
    }
   },
   "cell_type": "code",
   "source": "keywords_flat = list(all_dfs.keyword)",
   "id": "5be580c434a590b0",
   "outputs": [],
   "execution_count": 11
  },
  {
   "metadata": {
    "ExecuteTime": {
     "end_time": "2024-07-08T10:45:01.320908Z",
     "start_time": "2024-07-08T10:45:01.315782Z"
    }
   },
   "cell_type": "code",
   "source": "keywords_flat",
   "id": "244c7e16d60c6818",
   "outputs": [
    {
     "data": {
      "text/plain": [
       "['pyeongyang',\n",
       " 'recife',\n",
       " 'san francisco',\n",
       " 'leipzig',\n",
       " 'orsay',\n",
       " 'denver',\n",
       " 'zanzibar',\n",
       " 'wellington',\n",
       " 'helsinki',\n",
       " 'lusaka',\n",
       " 'romania',\n",
       " 'botswana',\n",
       " 'united kingdom',\n",
       " 'denmark',\n",
       " 'yemen',\n",
       " 'puncak jaya',\n",
       " 'kangchenjunga',\n",
       " 'mount shasta',\n",
       " 'mount etna',\n",
       " 'haleakala',\n",
       " 'aconcagua',\n",
       " 'mount saint helens',\n",
       " 'nile',\n",
       " 'mont blanc',\n",
       " 'mount whitney',\n",
       " 'storage room',\n",
       " 'zip tie',\n",
       " 'walking stick',\n",
       " 'fishing rod',\n",
       " 'utility box',\n",
       " 'water hyacinth',\n",
       " 'daisy',\n",
       " 'charging cord',\n",
       " 'velvet rug',\n",
       " 'raspberry',\n",
       " 'mixing bowl',\n",
       " 'safety railing',\n",
       " 'electrical panel',\n",
       " 'dog poop',\n",
       " 'brochure stand',\n",
       " 'extension cord',\n",
       " 'underwater camera',\n",
       " 'bacteria',\n",
       " 'scrubber',\n",
       " 'shingle',\n",
       " 'city hall',\n",
       " 'hazelnut',\n",
       " 'medication',\n",
       " 'syrup',\n",
       " 'cobweb']"
      ]
     },
     "execution_count": 12,
     "metadata": {},
     "output_type": "execute_result"
    }
   ],
   "execution_count": 12
  },
  {
   "metadata": {
    "jupyter": {
     "is_executing": true
    },
    "ExecuteTime": {
     "start_time": "2024-07-08T10:45:01.998247Z"
    }
   },
   "cell_type": "code",
   "source": "games = await run_games(client, keywords_flat)",
   "id": "3506ae4fcd368d98",
   "outputs": [
    {
     "name": "stdout",
     "output_type": "stream",
     "text": [
      "Game pyeongyang, round 0\n",
      "Game recife, round 0\n",
      "Game san francisco, round 0\n",
      "Game leipzig, round 0\n",
      "Game orsay, round 0\n",
      "Game denver, round 0\n",
      "Game zanzibar, round 0\n",
      "Game wellington, round 0\n",
      "Game helsinki, round 0\n",
      "Game lusaka, round 0\n",
      "Game romania, round 0\n",
      "Game botswana, round 0\n",
      "Game united kingdom, round 0\n",
      "Game denmark, round 0\n",
      "Game yemen, round 0\n",
      "Game puncak jaya, round 0\n",
      "Game kangchenjunga, round 0\n",
      "Game mount shasta, round 0\n",
      "Game mount etna, round 0\n",
      "Game haleakala, round 0\n",
      "Game aconcagua, round 0\n",
      "Game mount saint helens, round 0\n",
      "Game nile, round 0\n",
      "Game mont blanc, round 0\n",
      "Game mount whitney, round 0\n",
      "Game storage room, round 0\n",
      "Game zip tie, round 0\n",
      "Game walking stick, round 0\n",
      "Game fishing rod, round 0\n",
      "Game utility box, round 0\n",
      "Game water hyacinth, round 0\n",
      "Game daisy, round 0\n",
      "Game charging cord, round 0\n",
      "Game velvet rug, round 0\n",
      "Game raspberry, round 0\n",
      "Game mixing bowl, round 0\n",
      "Game safety railing, round 0\n",
      "Game electrical panel, round 0\n",
      "Game dog poop, round 0\n",
      "Game brochure stand, round 0\n",
      "Game extension cord, round 0\n",
      "Game underwater camera, round 0\n",
      "Game bacteria, round 0\n",
      "Game scrubber, round 0\n",
      "Game shingle, round 0\n",
      "Game city hall, round 0\n",
      "Game hazelnut, round 0\n",
      "Game medication, round 0\n",
      "Game syrup, round 0\n",
      "Game cobweb, round 0\n"
     ]
    },
    {
     "name": "stderr",
     "output_type": "stream",
     "text": [
      "2024-07-08 15:45:03,553 - INFO - HTTP Request: POST https://api.openai.com/v1/chat/completions \"HTTP/1.1 200 OK\"\n",
      "2024-07-08 15:45:03,838 - INFO - HTTP Request: POST https://api.openai.com/v1/chat/completions \"HTTP/1.1 200 OK\"\n",
      "2024-07-08 15:45:04,012 - INFO - HTTP Request: POST https://api.openai.com/v1/chat/completions \"HTTP/1.1 200 OK\"\n",
      "2024-07-08 15:45:04,983 - INFO - HTTP Request: POST https://api.openai.com/v1/chat/completions \"HTTP/1.1 200 OK\"\n"
     ]
    }
   ],
   "execution_count": null
  },
  {
   "metadata": {
    "jupyter": {
     "is_executing": true
    }
   },
   "cell_type": "code",
   "source": "games",
   "id": "722a8e1752032d7e",
   "outputs": [],
   "execution_count": null
  },
  {
   "metadata": {
    "ExecuteTime": {
     "end_time": "2024-07-08T10:36:08.126452Z",
     "start_time": "2024-07-08T10:36:07.948069Z"
    }
   },
   "cell_type": "code",
   "source": [
    "dt = datetime.datetime.now().strftime(\"%Y-%m-%d_%H-%M-%S\")\n",
    "pickle.dump(dataset, open(f\"dataset_{dt}.pkl\", \"wb\"))"
   ],
   "id": "9b324e20be1545a",
   "outputs": [],
   "execution_count": 16
  },
  {
   "metadata": {
    "ExecuteTime": {
     "end_time": "2024-07-08T10:36:27.907976Z",
     "start_time": "2024-07-08T10:36:27.905650Z"
    }
   },
   "cell_type": "code",
   "source": "",
   "id": "e3035305d6c54de7",
   "outputs": [],
   "execution_count": 18
  },
  {
   "metadata": {
    "ExecuteTime": {
     "end_time": "2024-07-08T10:14:02.771494Z",
     "start_time": "2024-07-08T10:14:02.766580Z"
    }
   },
   "cell_type": "code",
   "source": "# game = await run_game(client, \"headphones\")",
   "id": "b65184d509c8e9fe",
   "outputs": [],
   "execution_count": 1
  },
  {
   "metadata": {
    "ExecuteTime": {
     "end_time": "2024-07-05T16:28:14.756720Z",
     "start_time": "2024-07-05T16:28:14.752972Z"
    }
   },
   "cell_type": "code",
   "source": "",
   "id": "4353dc30ebd42e6",
   "outputs": [],
   "execution_count": 150
  },
  {
   "metadata": {
    "ExecuteTime": {
     "end_time": "2024-07-05T16:28:14.762914Z",
     "start_time": "2024-07-05T16:28:14.758728Z"
    }
   },
   "cell_type": "code",
   "source": "",
   "id": "ca600fff2e30534a",
   "outputs": [],
   "execution_count": 150
  },
  {
   "metadata": {
    "ExecuteTime": {
     "end_time": "2024-07-05T16:28:14.769160Z",
     "start_time": "2024-07-05T16:28:14.764923Z"
    }
   },
   "cell_type": "code",
   "source": "",
   "id": "804eeab06209ee57",
   "outputs": [],
   "execution_count": 150
  },
  {
   "metadata": {
    "ExecuteTime": {
     "end_time": "2024-07-05T16:29:09.359062Z",
     "start_time": "2024-07-05T16:29:09.355250Z"
    }
   },
   "cell_type": "code",
   "source": "",
   "id": "126b35613abd8f2d",
   "outputs": [],
   "execution_count": 156
  },
  {
   "metadata": {
    "ExecuteTime": {
     "end_time": "2024-07-05T16:29:09.544631Z",
     "start_time": "2024-07-05T16:29:09.541754Z"
    }
   },
   "cell_type": "code",
   "source": "",
   "id": "2615d3c283b11057",
   "outputs": [],
   "execution_count": 156
  },
  {
   "metadata": {
    "ExecuteTime": {
     "end_time": "2024-07-05T16:29:09.699534Z",
     "start_time": "2024-07-05T16:29:09.695512Z"
    }
   },
   "cell_type": "code",
   "source": "",
   "id": "5963796c10270c",
   "outputs": [],
   "execution_count": 156
  },
  {
   "metadata": {},
   "cell_type": "code",
   "outputs": [],
   "execution_count": null,
   "source": "",
   "id": "13452ed037a86d73"
  }
 ],
 "metadata": {
  "kernelspec": {
   "display_name": "Python 3",
   "language": "python",
   "name": "python3"
  },
  "language_info": {
   "codemirror_mode": {
    "name": "ipython",
    "version": 2
   },
   "file_extension": ".py",
   "mimetype": "text/x-python",
   "name": "python",
   "nbconvert_exporter": "python",
   "pygments_lexer": "ipython2",
   "version": "2.7.6"
  }
 },
 "nbformat": 4,
 "nbformat_minor": 5
}
