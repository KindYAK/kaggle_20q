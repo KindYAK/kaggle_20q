{
 "cells": [
  {
   "cell_type": "code",
   "id": "initial_id",
   "metadata": {
    "collapsed": true
   },
   "source": [
    "# Generating games data with GPT-4o\n",
    "import datetime\n",
    "import logging\n",
    "import pickle\n",
    "\n",
    "import pandas as pd\n",
    "\n",
    "from data_collection.semaphore import set_semaphore\n",
    "from data_collection.simulate_game import run_games\n",
    "\n",
    "logging.basicConfig(level=logging.INFO, format='%(asctime)s - %(levelname)s - %(message)s')\n",
    "\n",
    "from dotenv import load_dotenv\n",
    "from openai import AsyncOpenAI\n",
    "\n",
    "from data_collection.utils import dataset\n",
    "\n",
    "load_dotenv()"
   ],
   "outputs": [],
   "execution_count": null
  },
  {
   "metadata": {},
   "cell_type": "code",
   "source": "",
   "id": "19b5da3bc42d1e4e",
   "outputs": [],
   "execution_count": null
  },
  {
   "metadata": {},
   "cell_type": "code",
   "source": "set_semaphore(\"gpt-4\", 100)",
   "id": "8853b544b39c772",
   "outputs": [],
   "execution_count": null
  },
  {
   "metadata": {},
   "cell_type": "code",
   "source": "client = AsyncOpenAI()",
   "id": "6b07c50e4cb7642e",
   "outputs": [],
   "execution_count": null
  },
  {
   "metadata": {},
   "cell_type": "code",
   "source": [
    "# samples_by_category = {\n",
    "#     \"things\": 100,\n",
    "#     \"city\": 40,\n",
    "#     \"country\": 20,\n",
    "#     \"landmark\": 40,\n",
    "# }\n",
    "#OVERALL"
   ],
   "id": "e2c58c2a0eb6da69",
   "outputs": [],
   "execution_count": null
  },
  {
   "metadata": {},
   "cell_type": "code",
   "source": [
    "# samples_by_category = {\n",
    "#     \"things\": 25,\n",
    "#     \"city\": 10,\n",
    "#     \"country\": 5,\n",
    "#     \"landmark\": 10,\n",
    "# }\n",
    "# 50 examples"
   ],
   "id": "cceb16aca9f690f9",
   "outputs": [],
   "execution_count": null
  },
  {
   "metadata": {},
   "cell_type": "code",
   "source": [
    "samples_by_category = {\n",
    "    \"things\": 50,\n",
    "    \"city\": 0,\n",
    "    \"country\": 0,\n",
    "    \"landmark\": 0,\n",
    "}\n",
    "# 100 examples"
   ],
   "id": "5bfcce5b60f8b0b6",
   "outputs": [],
   "execution_count": null
  },
  {
   "metadata": {},
   "cell_type": "code",
   "source": "",
   "id": "f35199a056d1b78d",
   "outputs": [],
   "execution_count": null
  },
  {
   "metadata": {},
   "cell_type": "code",
   "source": "keywords_by_category = pickle.load(open(\"../keywords_by_category.pkl\", \"rb\"))",
   "id": "3e7a36dd49fb9b0e",
   "outputs": [],
   "execution_count": null
  },
  {
   "metadata": {},
   "cell_type": "code",
   "source": "keywords_by_category.keys()",
   "id": "d86faf1957579025",
   "outputs": [],
   "execution_count": null
  },
  {
   "metadata": {},
   "cell_type": "code",
   "source": "len(keywords_by_category['things'])",
   "id": "c30f4d45ebe1a698",
   "outputs": [],
   "execution_count": null
  },
  {
   "metadata": {},
   "cell_type": "code",
   "source": [
    "for key in keywords_by_category:\n",
    "    keywords_by_category[key] = keywords_by_category[key].sample(samples_by_category[key])\n",
    "all_dfs = pd.concat(keywords_by_category.values())\n",
    "keywords_flat = list(all_dfs.keyword)"
   ],
   "id": "2dfbd024be8e63da",
   "outputs": [],
   "execution_count": null
  },
  {
   "metadata": {},
   "cell_type": "code",
   "source": "keywords_flat",
   "id": "1effee1c833d09d7",
   "outputs": [],
   "execution_count": null
  },
  {
   "metadata": {},
   "cell_type": "code",
   "source": [
    "games = await run_games(client, keywords_flat, include_answer=False)\n",
    "# games = await run_games(client, [\"ice tea\"], include_answer=True)"
   ],
   "id": "b9dedb0f7a16ea51",
   "outputs": [],
   "execution_count": null
  },
  {
   "metadata": {},
   "cell_type": "code",
   "source": "len([game for game in games if game.win]) / len(games)",
   "id": "722a8e1752032d7e",
   "outputs": [],
   "execution_count": null
  },
  {
   "metadata": {},
   "cell_type": "code",
   "source": "len(dataset)",
   "id": "7b8fbaad6a71b3f5",
   "outputs": [],
   "execution_count": null
  },
  {
   "metadata": {},
   "cell_type": "code",
   "source": [
    "dt = datetime.datetime.now().strftime(\"%Y-%m-%d_%H-%M-%S\")\n",
    "pickle.dump(dataset, open(f\"dataset_{dt}.pkl\", \"wb\"))"
   ],
   "id": "9b324e20be1545a",
   "outputs": [],
   "execution_count": null
  },
  {
   "metadata": {},
   "cell_type": "code",
   "source": "",
   "id": "c48207738f48f5a",
   "outputs": [],
   "execution_count": null
  },
  {
   "metadata": {},
   "cell_type": "code",
   "source": "",
   "id": "3fdfde4ecb8e66e1",
   "outputs": [],
   "execution_count": null
  }
 ],
 "metadata": {
  "kernelspec": {
   "display_name": "Python 3",
   "language": "python",
   "name": "python3"
  },
  "language_info": {
   "codemirror_mode": {
    "name": "ipython",
    "version": 2
   },
   "file_extension": ".py",
   "mimetype": "text/x-python",
   "name": "python",
   "nbconvert_exporter": "python",
   "pygments_lexer": "ipython2",
   "version": "2.7.6"
  }
 },
 "nbformat": 4,
 "nbformat_minor": 5
}
