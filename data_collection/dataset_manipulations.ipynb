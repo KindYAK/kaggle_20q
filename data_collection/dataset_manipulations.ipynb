{
 "cells": [
  {
   "metadata": {},
   "cell_type": "code",
   "source": "import pickle",
   "id": "initial_id",
   "outputs": [],
   "execution_count": null
  },
  {
   "metadata": {},
   "cell_type": "code",
   "source": [
    "d1 = pickle.load(open('dataset_4262_basic_full.pkl', 'rb'))\n",
    "d2 = pickle.load(open('dataset_6916_basic.pkl', 'rb'))"
   ],
   "id": "fb0352ae13da90ab",
   "outputs": [],
   "execution_count": null
  },
  {
   "metadata": {},
   "cell_type": "code",
   "source": "d1 += d2",
   "id": "4f72dbb74eb766c6",
   "outputs": [],
   "execution_count": null
  },
  {
   "metadata": {},
   "cell_type": "code",
   "source": "len(d1)",
   "id": "573ae25101523b40",
   "outputs": [],
   "execution_count": null
  },
  {
   "metadata": {},
   "cell_type": "code",
   "source": "pickle.dump(d1, open('dataset_11194_basic.pkl', 'wb'))",
   "id": "79b95a0cd7dadad3",
   "outputs": [],
   "execution_count": null
  },
  {
   "metadata": {},
   "cell_type": "code",
   "source": "",
   "id": "e56e125322c92a10",
   "outputs": [],
   "execution_count": null
  },
  {
   "metadata": {},
   "cell_type": "code",
   "source": "d = pickle.load(open(\"dataset_6016_with_hints_after_n_step.pkl\", \"rb\"))",
   "id": "ff12dd58bb8f2416",
   "outputs": [],
   "execution_count": null
  },
  {
   "metadata": {},
   "cell_type": "code",
   "source": "print([i for i in d if i['type'] == \"questions_candidates\"][-10])",
   "id": "52d174516f22555e",
   "outputs": [],
   "execution_count": null
  },
  {
   "metadata": {},
   "cell_type": "code",
   "source": "",
   "id": "3b6ec07747170ac9",
   "outputs": [],
   "execution_count": null
  },
  {
   "metadata": {},
   "cell_type": "code",
   "source": "",
   "id": "69c4bc95a95d4105",
   "outputs": [],
   "execution_count": null
  },
  {
   "metadata": {},
   "cell_type": "code",
   "source": "",
   "id": "6334e03720a5a099",
   "outputs": [],
   "execution_count": null
  }
 ],
 "metadata": {
  "kernelspec": {
   "display_name": "Python 3",
   "language": "python",
   "name": "python3"
  },
  "language_info": {
   "codemirror_mode": {
    "name": "ipython",
    "version": 2
   },
   "file_extension": ".py",
   "mimetype": "text/x-python",
   "name": "python",
   "nbconvert_exporter": "python",
   "pygments_lexer": "ipython2",
   "version": "2.7.6"
  }
 },
 "nbformat": 4,
 "nbformat_minor": 5
}
