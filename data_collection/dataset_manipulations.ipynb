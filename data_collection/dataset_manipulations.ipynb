{
 "cells": [
  {
   "cell_type": "code",
   "id": "initial_id",
   "metadata": {
    "collapsed": true,
    "ExecuteTime": {
     "end_time": "2024-07-08T11:48:06.201140Z",
     "start_time": "2024-07-08T11:48:06.193775Z"
    }
   },
   "source": "import pickle",
   "outputs": [],
   "execution_count": 1
  },
  {
   "metadata": {
    "ExecuteTime": {
     "end_time": "2024-07-08T15:35:32.893330Z",
     "start_time": "2024-07-08T15:35:32.130141Z"
    }
   },
   "cell_type": "code",
   "source": [
    "d1 = pickle.load(open('dataset_4262_basic_full.pkl', 'rb'))\n",
    "d2 = pickle.load(open('dataset_6916_basic.pkl', 'rb'))"
   ],
   "id": "fb0352ae13da90ab",
   "outputs": [],
   "execution_count": 8
  },
  {
   "metadata": {
    "ExecuteTime": {
     "end_time": "2024-07-08T15:35:33.442505Z",
     "start_time": "2024-07-08T15:35:33.434748Z"
    }
   },
   "cell_type": "code",
   "source": "d1 += d2",
   "id": "4f72dbb74eb766c6",
   "outputs": [],
   "execution_count": 9
  },
  {
   "metadata": {
    "ExecuteTime": {
     "end_time": "2024-07-08T15:35:33.854574Z",
     "start_time": "2024-07-08T15:35:33.847286Z"
    }
   },
   "cell_type": "code",
   "source": "len(d1)",
   "id": "573ae25101523b40",
   "outputs": [
    {
     "data": {
      "text/plain": [
       "11194"
      ]
     },
     "execution_count": 10,
     "metadata": {},
     "output_type": "execute_result"
    }
   ],
   "execution_count": 10
  },
  {
   "metadata": {
    "ExecuteTime": {
     "end_time": "2024-07-08T15:35:57.705761Z",
     "start_time": "2024-07-08T15:35:57.341957Z"
    }
   },
   "cell_type": "code",
   "source": "pickle.dump(d1, open('dataset_11194_basic.pkl', 'wb'))",
   "id": "79b95a0cd7dadad3",
   "outputs": [],
   "execution_count": 11
  },
  {
   "metadata": {
    "ExecuteTime": {
     "end_time": "2024-07-08T11:48:42.643892Z",
     "start_time": "2024-07-08T11:48:42.641148Z"
    }
   },
   "cell_type": "code",
   "source": "",
   "id": "e56e125322c92a10",
   "outputs": [],
   "execution_count": 6
  },
  {
   "metadata": {},
   "cell_type": "code",
   "outputs": [],
   "execution_count": null,
   "source": "",
   "id": "ff12dd58bb8f2416"
  }
 ],
 "metadata": {
  "kernelspec": {
   "display_name": "Python 3",
   "language": "python",
   "name": "python3"
  },
  "language_info": {
   "codemirror_mode": {
    "name": "ipython",
    "version": 2
   },
   "file_extension": ".py",
   "mimetype": "text/x-python",
   "name": "python",
   "nbconvert_exporter": "python",
   "pygments_lexer": "ipython2",
   "version": "2.7.6"
  }
 },
 "nbformat": 4,
 "nbformat_minor": 5
}
