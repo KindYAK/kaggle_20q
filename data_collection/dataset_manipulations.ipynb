{
 "cells": [
  {
   "cell_type": "code",
   "id": "initial_id",
   "metadata": {
    "collapsed": true,
    "ExecuteTime": {
     "end_time": "2024-07-08T16:21:48.767850Z",
     "start_time": "2024-07-08T16:21:48.759930Z"
    }
   },
   "source": "import pickle",
   "outputs": [],
   "execution_count": 1
  },
  {
   "metadata": {
    "ExecuteTime": {
     "end_time": "2024-07-08T15:35:32.893330Z",
     "start_time": "2024-07-08T15:35:32.130141Z"
    }
   },
   "cell_type": "code",
   "source": [
    "d1 = pickle.load(open('dataset_4262_basic_full.pkl', 'rb'))\n",
    "d2 = pickle.load(open('dataset_6916_basic.pkl', 'rb'))"
   ],
   "id": "fb0352ae13da90ab",
   "outputs": [],
   "execution_count": 8
  },
  {
   "metadata": {
    "ExecuteTime": {
     "end_time": "2024-07-08T15:35:33.442505Z",
     "start_time": "2024-07-08T15:35:33.434748Z"
    }
   },
   "cell_type": "code",
   "source": "d1 += d2",
   "id": "4f72dbb74eb766c6",
   "outputs": [],
   "execution_count": 9
  },
  {
   "metadata": {
    "ExecuteTime": {
     "end_time": "2024-07-08T15:35:33.854574Z",
     "start_time": "2024-07-08T15:35:33.847286Z"
    }
   },
   "cell_type": "code",
   "source": "len(d1)",
   "id": "573ae25101523b40",
   "outputs": [
    {
     "data": {
      "text/plain": [
       "11194"
      ]
     },
     "execution_count": 10,
     "metadata": {},
     "output_type": "execute_result"
    }
   ],
   "execution_count": 10
  },
  {
   "metadata": {
    "ExecuteTime": {
     "end_time": "2024-07-08T15:35:57.705761Z",
     "start_time": "2024-07-08T15:35:57.341957Z"
    }
   },
   "cell_type": "code",
   "source": "pickle.dump(d1, open('dataset_11194_basic.pkl', 'wb'))",
   "id": "79b95a0cd7dadad3",
   "outputs": [],
   "execution_count": 11
  },
  {
   "metadata": {
    "ExecuteTime": {
     "end_time": "2024-07-08T11:48:42.643892Z",
     "start_time": "2024-07-08T11:48:42.641148Z"
    }
   },
   "cell_type": "code",
   "source": "",
   "id": "e56e125322c92a10",
   "outputs": [],
   "execution_count": 6
  },
  {
   "metadata": {
    "ExecuteTime": {
     "end_time": "2024-07-08T16:22:08.476102Z",
     "start_time": "2024-07-08T16:22:07.980645Z"
    }
   },
   "cell_type": "code",
   "source": "d = pickle.load(open(\"dataset_6016_with_hints_after_n_step.pkl\", \"rb\"))",
   "id": "ff12dd58bb8f2416",
   "outputs": [],
   "execution_count": 2
  },
  {
   "metadata": {
    "ExecuteTime": {
     "end_time": "2024-07-09T09:27:35.440234Z",
     "start_time": "2024-07-09T09:27:35.399326Z"
    }
   },
   "cell_type": "code",
   "source": "print([i for i in d if i['type'] == \"questions_candidates\"][-10])",
   "id": "52d174516f22555e",
   "outputs": [
    {
     "name": "stdout",
     "output_type": "stream",
     "text": [
      "{'prompt': 'You are playing \"20 Questions\" game.\\n    \\nHere are the previous questions and answers:\\n    Question: Is it a living thing? Answer: no\\nQuestion: Is it a physical object? Answer: no\\nQuestion: Is it a concept? Answer: no\\nQuestion: Is it an event? Answer: no\\nQuestion: Is it a place? Answer: yes\\nQuestion: Is it located in the Northern Hemisphere? Answer: no\\nQuestion: Is it a country? Answer: no\\nQuestion: Is it a city? Answer: yes\\n\\n    \\nYou need to generate 10 candidates for the next question to ask.\\nYou should mix safe questions with more creative and non-orthodox ones.\\nSafe questions are usually ones that split the space of possibilities in half.\\nIf you have a few questions left, you can start acting more aggressively, intuitively checking some less probable, but high-reward hypotheses.\\nConsider asking non-standard questions like \"Does the keyword consist of a single word?, however only do it if you don\\'t know it yet, and if you think that it\\'s important to know at this point in the game.\\nConsider asking questions like \"Does the keyword start with letter \\'A\\'?\" or \"Does the keyword contain letter \\'E\\'?\". However, don\\'t overdo it, focus on more substantial questions.\\n\\nFormat your answer like this: output every question on a new line. Don\\'t output anything else.\\n', 'response': 'Is it located in the Southern Hemisphere?\\nIs it a capital city?\\nIs it located in South America?\\nIs it located in Africa?\\nIs it located in Australia or Oceania?\\nIs it a coastal city?\\nIs it a well-known tourist destination?\\nIs it located in a country that speaks Spanish?\\nIs it located in a country that speaks Portuguese?\\nIs it located in a country that speaks English?', 'type': 'questions_candidates', 'game_state': Game(keyword='fortaleza', rounds=[Round(question='Is it a living thing?', answer='no', guess='is it a physical object'), Round(question='Is it a physical object?', answer='no', guess='concept'), Round(question='Is it a concept?', answer='no', guess='place'), Round(question='Is it an event?', answer='no', guess='landmark'), Round(question='Is it a place?', answer='yes', guess='city'), Round(question='Is it located in the Northern Hemisphere?', answer='no', guess='country'), Round(question='Is it a country?', answer='no', guess='landmark'), Round(question='Is it a city?', answer='yes', guess='sydney')], win=None)}\n"
     ]
    }
   ],
   "execution_count": 17
  },
  {
   "metadata": {},
   "cell_type": "code",
   "outputs": [],
   "execution_count": null,
   "source": "",
   "id": "3b6ec07747170ac9"
  },
  {
   "metadata": {},
   "cell_type": "code",
   "outputs": [],
   "execution_count": null,
   "source": "",
   "id": "69c4bc95a95d4105"
  },
  {
   "metadata": {},
   "cell_type": "code",
   "outputs": [],
   "execution_count": null,
   "source": "",
   "id": "6334e03720a5a099"
  }
 ],
 "metadata": {
  "kernelspec": {
   "display_name": "Python 3",
   "language": "python",
   "name": "python3"
  },
  "language_info": {
   "codemirror_mode": {
    "name": "ipython",
    "version": 2
   },
   "file_extension": ".py",
   "mimetype": "text/x-python",
   "name": "python",
   "nbconvert_exporter": "python",
   "pygments_lexer": "ipython2",
   "version": "2.7.6"
  }
 },
 "nbformat": 4,
 "nbformat_minor": 5
}
