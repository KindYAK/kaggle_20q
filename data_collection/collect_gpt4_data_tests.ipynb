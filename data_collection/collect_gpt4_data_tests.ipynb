{
 "cells": [
  {
   "cell_type": "code",
   "id": "initial_id",
   "metadata": {
    "collapsed": true,
    "ExecuteTime": {
     "end_time": "2024-07-16T09:23:34.744442Z",
     "start_time": "2024-07-16T09:23:33.726082Z"
    }
   },
   "source": [
    "%reload_ext autoreload\n",
    "%autoreload 2\n",
    "%autoreload now\n",
    "import logging\n",
    "\n",
    "from data_collection.generate_snapshot import generate_snapshot\n",
    "from data_collection.models import Game, Round\n",
    "from data_collection.questions_candidates import get_question_candidates\n",
    "from data_collection.questions_pick import pick_question\n",
    "from data_collection.semaphore import set_semaphore\n",
    "from data_collection.guess import guess\n",
    "from data_collection.answer import answer\n",
    "from data_collection.simulate_game import run_game\n",
    "\n",
    "\n",
    "logging.basicConfig(level=logging.INFO, format='%(asctime)s - %(levelname)s - %(message)s')\n",
    "\n",
    "from dotenv import load_dotenv\n",
    "from openai import AsyncOpenAI\n",
    "\n",
    "from data_collection.utils import call_gpt4, dataset\n",
    "\n",
    "load_dotenv()"
   ],
   "outputs": [
    {
     "data": {
      "text/plain": [
       "True"
      ]
     },
     "execution_count": 1,
     "metadata": {},
     "output_type": "execute_result"
    }
   ],
   "execution_count": 1
  },
  {
   "metadata": {
    "ExecuteTime": {
     "end_time": "2024-07-09T09:35:16.156708Z",
     "start_time": "2024-07-09T09:35:16.111901Z"
    }
   },
   "cell_type": "code",
   "source": "set_semaphore(\"gpt-4\", 10)",
   "id": "8853b544b39c772",
   "outputs": [],
   "execution_count": 2
  },
  {
   "metadata": {
    "ExecuteTime": {
     "end_time": "2024-07-09T09:35:17.710270Z",
     "start_time": "2024-07-09T09:35:17.637316Z"
    }
   },
   "cell_type": "code",
   "source": "client = AsyncOpenAI()",
   "id": "6b07c50e4cb7642e",
   "outputs": [],
   "execution_count": 3
  },
  {
   "metadata": {},
   "cell_type": "code",
   "outputs": [],
   "execution_count": null,
   "source": "",
   "id": "8868fe19cd5aeb0"
  },
  {
   "metadata": {
    "ExecuteTime": {
     "end_time": "2024-07-16T09:23:39.206766Z",
     "start_time": "2024-07-16T09:23:35.812676Z"
    }
   },
   "cell_type": "code",
   "source": [
    "import pickle\n",
    "\n",
    "keywords_by_category = pickle.load(open(\"../keywords_by_category.pkl\", \"rb\"))"
   ],
   "id": "1497f8e4f6f3a360",
   "outputs": [],
   "execution_count": 3
  },
  {
   "metadata": {
    "ExecuteTime": {
     "end_time": "2024-07-16T09:24:30.698483Z",
     "start_time": "2024-07-16T09:24:30.621249Z"
    }
   },
   "cell_type": "code",
   "source": [
    "for cat, kws in keywords_by_category.items():\n",
    "    print(\"!!! Category\", cat)\n",
    "    for kw in kws.keyword:\n",
    "        print(kw)"
   ],
   "id": "99cc886f4872a159",
   "outputs": [
    {
     "name": "stdout",
     "output_type": "stream",
     "text": [
      "!!! Category city\n",
      "acapulco\n",
      "adelaide\n",
      "algiers\n",
      "amsterdam\n",
      "anaheim\n",
      "ankara\n",
      "antwerp\n",
      "asheville\n",
      "ashgabat\n",
      "astana\n",
      "asuncion\n",
      "athens\n",
      "athens\n",
      "atlanta\n",
      "auckland\n",
      "austin\n",
      "baghdad\n",
      "baku\n",
      "baltimore\n",
      "bangalore\n",
      "bangkok\n",
      "beijing\n",
      "beirut\n",
      "belfast\n",
      "belgrade\n",
      "berlin\n",
      "bordeaux\n",
      "boston\n",
      "bratislava\n",
      "brussels\n",
      "bucharest\n",
      "budapest\n",
      "buenos aires\n",
      "bursa\n",
      "busan\n",
      "cairo\n",
      "calgary\n",
      "canberra\n",
      "cannes\n",
      "cape town\n",
      "caracas\n",
      "casablanca\n",
      "chengdu\n",
      "chicago\n",
      "christchurch\n",
      "cleveland\n",
      "cologne\n",
      "columbus\n",
      "copenhagen\n",
      "cork\n",
      "daegu\n",
      "dakar\n",
      "dalian\n",
      "dallas\n",
      "damascus\n",
      "dar es salaam\n",
      "darwin\n",
      "davao city\n",
      "delhi\n",
      "denver\n",
      "dhaka\n",
      "doha\n",
      "dubai\n",
      "dublin\n",
      "dunfermline\n",
      "durban\n",
      "dusseldorf\n",
      "edinburgh\n",
      "edmonton\n",
      "eilat\n",
      "el paso\n",
      "enschede\n",
      "ensenada\n",
      "enugu\n",
      "erie\n",
      "esbjerg\n",
      "essen\n",
      "essentuki\n",
      "eureka\n",
      "evora\n",
      "faisalabad\n",
      "faro\n",
      "fermoy\n",
      "fez\n",
      "flinders\n",
      "florence\n",
      "florianopolis\n",
      "fort mcmurray\n",
      "fort worth\n",
      "fortaleza\n",
      "frankfurt\n",
      "fresno\n",
      "friesland\n",
      "fujairah\n",
      "fukuoka\n",
      "fukushima\n",
      "funafuti\n",
      "funchal\n",
      "fuzhou\n",
      "gdansk\n",
      "geneva\n",
      "genoa\n",
      "glasgow\n",
      "grahamstown\n",
      "graz\n",
      "guadalajara\n",
      "guangzhou\n",
      "guatemala city\n",
      "guwahati\n",
      "gwangju\n",
      "gyeongju\n",
      "haifa\n",
      "hamburg\n",
      "hangzhou\n",
      "hanoi\n",
      "harare\n",
      "havana\n",
      "helsingborg\n",
      "helsinki\n",
      "hermosillo\n",
      "hilo\n",
      "hiroshima\n",
      "ho chi minh city\n",
      "hobart\n",
      "hong kong\n",
      "honolulu\n",
      "houston\n",
      "ibadan\n",
      "incheon\n",
      "indianapolis\n",
      "indore\n",
      "ingolstadt\n",
      "innsbruck\n",
      "irkutsk\n",
      "irvine\n",
      "isafahan\n",
      "islamabad\n",
      "istanbul\n",
      "izmir\n",
      "jabalpur\n",
      "jackson\n",
      "jacksonville\n",
      "jakarta\n",
      "jalapa\n",
      "jeddah\n",
      "jerusalem\n",
      "jinan\n",
      "jining\n",
      "johannesburg\n",
      "juarez\n",
      "kabul\n",
      "kagoshima\n",
      "kampala\n",
      "karachi\n",
      "kathmandu\n",
      "kaunas\n",
      "kawasaki\n",
      "kiev\n",
      "kingston\n",
      "kolkata\n",
      "kuala lumpur\n",
      "kunming\n",
      "kyiv\n",
      "kyoto\n",
      "la paz\n",
      "lagos\n",
      "lausanne\n",
      "leeds\n",
      "leipzig\n",
      "lima\n",
      "lisbon\n",
      "liverpool\n",
      "ljubljana\n",
      "london\n",
      "los angeles\n",
      "luanda\n",
      "lusaka\n",
      "lviv\n",
      "lyon\n",
      "madrid\n",
      "makati\n",
      "managua\n",
      "manchester\n",
      "manila\n",
      "marrakech\n",
      "mecca\n",
      "melbourne\n",
      "mexico city\n",
      "miami\n",
      "milan\n",
      "minneapolis\n",
      "monterrey\n",
      "montreal\n",
      "moscow\n",
      "mumbai\n",
      "nagoya\n",
      "nairobi\n",
      "nanjing\n",
      "nantes\n",
      "naples\n",
      "new delhi\n",
      "new orleans\n",
      "new york city\n",
      "newcastle\n",
      "nice\n",
      "noida\n",
      "noosa\n",
      "nurumberg\n",
      "oaxaca\n",
      "odense\n",
      "odessa\n",
      "oklahoma city\n",
      "oranjestad\n",
      "orlando\n",
      "orsay\n",
      "osaka\n",
      "oslo\n",
      "ostrava\n",
      "otago\n",
      "ottawa\n",
      "ouagadougou\n",
      "oulu\n",
      "oxford\n",
      "panama city\n",
      "paris\n",
      "pattaya\n",
      "perth\n",
      "peshawar\n",
      "philadelphia\n",
      "phoenix\n",
      "plovdiv\n",
      "portland\n",
      "porto alegre\n",
      "porto\n",
      "prague\n",
      "pyeongyang\n",
      "raleigh\n",
      "ras al khaimah\n",
      "recife\n",
      "reykjavik\n",
      "riga\n",
      "rio de janeiro\n",
      "riyadh\n",
      "rochester\n",
      "rome\n",
      "rotterdam\n",
      "san diego\n",
      "san francisco\n",
      "san salvador\n",
      "santiago\n",
      "sao paulo\n",
      "saskatoon\n",
      "seattle\n",
      "seoul\n",
      "sevilla\n",
      "shanghai\n",
      "singapore\n",
      "sofia\n",
      "stockholm\n",
      "stuttgart\n",
      "sydney\n",
      "taegu\n",
      "taipei\n",
      "taksim\n",
      "tashkent\n",
      "thessaloniki\n",
      "tijuana\n",
      "tirana\n",
      "tokyo\n",
      "torino\n",
      "toronto\n",
      "tripoli\n",
      "tunis\n",
      "turin\n",
      "ubud\n",
      "ulaanbaatar\n",
      "uppsala\n",
      "urumqi\n",
      "vaduz\n",
      "valencia\n",
      "valparaiso\n",
      "vancouver\n",
      "vienna\n",
      "vigo\n",
      "villarreal\n",
      "vilnius\n",
      "vladivostok\n",
      "warsaw\n",
      "washington dc\n",
      "wellington\n",
      "westminster\n",
      "wilmington\n",
      "winnipeg\n",
      "wroclaw\n",
      "wuhan\n",
      "yakutsk\n",
      "yanbu\n",
      "yaounde\n",
      "yekaterinburg\n",
      "yerevan\n",
      "yogyakarta\n",
      "yokohama\n",
      "york\n",
      "ypres\n",
      "yuma\n",
      "zacatecas\n",
      "zagreb\n",
      "zanzibar\n",
      "zaragoza\n",
      "zeeland\n",
      "zhongshan\n",
      "zincantan\n",
      "zunyi\n",
      "zurich\n",
      "!!! Category country\n",
      "afghanistan\n",
      "albania\n",
      "algeria\n",
      "andorra\n",
      "angola\n",
      "antigua and barbuda\n",
      "argentina\n",
      "armenia\n",
      "australia\n",
      "austria\n",
      "azerbaijan\n",
      "bahrain\n",
      "bangladesh\n",
      "barbados\n",
      "belarus\n",
      "belgium\n",
      "belize\n",
      "benin\n",
      "bhutan\n",
      "bolivia\n",
      "bosnia and herzegovina\n",
      "botswana\n",
      "brazil\n",
      "brunei\n",
      "bulgaria\n",
      "burkina faso\n",
      "burundi\n",
      "cambodia\n",
      "cameroon\n",
      "canada\n",
      "cape verde\n",
      "central african republic\n",
      "chad\n",
      "chile\n",
      "china\n",
      "colombia\n",
      "comoros\n",
      "congo\n",
      "costa rica\n",
      "croatia\n",
      "cuba\n",
      "cyprus\n",
      "czech republic\n",
      "democratic republic of the congo\n",
      "denmark\n",
      "djibouti\n",
      "dominica\n",
      "dominican republic\n",
      "ecuador\n",
      "egypt\n",
      "el salvador\n",
      "england\n",
      "equatorial guinea\n",
      "eritrea\n",
      "estonia\n",
      "ethiopia\n",
      "federated states of micronesia\n",
      "finland\n",
      "france\n",
      "gabon\n",
      "gambia\n",
      "georgia\n",
      "germany\n",
      "ghana\n",
      "greece\n",
      "grenada\n",
      "guatemala\n",
      "guinea\n",
      "guinea bissau\n",
      "guyana\n",
      "haiti\n",
      "honduras\n",
      "hungary\n",
      "iceland\n",
      "india\n",
      "indonesia\n",
      "iran\n",
      "iraq\n",
      "ireland\n",
      "israel\n",
      "italy\n",
      "jamaica\n",
      "japan\n",
      "jordan\n",
      "kazakhstan\n",
      "kenya\n",
      "kiribati\n",
      "kosovo\n",
      "kuwait\n",
      "kyrgyzstan\n",
      "laos\n",
      "latvia\n",
      "lebanon\n",
      "lesotho\n",
      "liberia\n",
      "libya\n",
      "liechtenstein\n",
      "lithuania\n",
      "luxembourg\n",
      "madagascar\n",
      "malawi\n",
      "malaysia\n",
      "maldives\n",
      "mali\n",
      "malta\n",
      "marshall islands\n",
      "mauritania\n",
      "mauritius\n",
      "mexico\n",
      "moldova\n",
      "monaco\n",
      "mongolia\n",
      "montenegro\n",
      "morocco\n",
      "mozambique\n",
      "myanmar\n",
      "namibia\n",
      "nauru\n",
      "nepal\n",
      "netherlands\n",
      "new zealand\n",
      "nicaragua\n",
      "niger\n",
      "nigeria\n",
      "north korea\n",
      "norway\n",
      "oman\n",
      "pakistan\n",
      "palau\n",
      "palestine\n",
      "panama\n",
      "papua new guinea\n",
      "paraguay\n",
      "peru\n",
      "philippines\n",
      "poland\n",
      "portugal\n",
      "qatar\n",
      "romania\n",
      "russia\n",
      "rwanda\n",
      "saint kitts and nevis\n",
      "saint lucia\n",
      "saint vincent and the grenadines\n",
      "samoa\n",
      "san marino\n",
      "sao tome and principe\n",
      "saudi arabia\n",
      "senegal\n",
      "serbia\n",
      "seychelles\n",
      "sierra leone\n",
      "slovakia\n",
      "slovenia\n",
      "solomon islands\n",
      "somalia\n",
      "south africa\n",
      "south korea\n",
      "spain\n",
      "sudan\n",
      "suriname\n",
      "swaziland\n",
      "sweden\n",
      "switzerland\n",
      "syria\n",
      "taiwan\n",
      "tajikistan\n",
      "tanzania\n",
      "thailand\n",
      "togo\n",
      "tonga\n",
      "trinidad and tobago\n",
      "tunisia\n",
      "turkmenistan\n",
      "tuvalu\n",
      "uganda\n",
      "ukraine\n",
      "united arab emirates\n",
      "united kingdom\n",
      "united states of america\n",
      "uruguay\n",
      "uzbekistan\n",
      "vanuatu\n",
      "venezuela\n",
      "vietnam\n",
      "yemen\n",
      "zambia\n",
      "zimbabwe\n",
      "!!! Category landmark\n",
      "aconcagua\n",
      "amazon\n",
      "annapurna\n",
      "aoraki\n",
      "chimborazo\n",
      "cho oyu\n",
      "colorado river\n",
      "cotopaxi\n",
      "denali\n",
      "dhaulagiri\n",
      "dnieper\n",
      "everest\n",
      "fitz roy\n",
      "ganges\n",
      "gannett peak\n",
      "grand teton\n",
      "haleakala\n",
      "illinois river\n",
      "iztaccihuatl\n",
      "k2\n",
      "kangchenjunga\n",
      "kilimanjaro\n",
      "lhotse\n",
      "makalu\n",
      "manaslu\n",
      "meru\n",
      "mississippi river\n",
      "mont blanc\n",
      "mount adams\n",
      "mount elbrus\n",
      "mount etna\n",
      "mount fuji\n",
      "mount rainier\n",
      "mount saint helens\n",
      "mount saint lias\n",
      "mount shasta\n",
      "mount whitney\n",
      "nanga parbat\n",
      "nile\n",
      "pikes peak\n",
      "puncak jaya\n",
      "rhine\n",
      "sumantri\n",
      "yangtze river\n",
      "yellow river\n",
      "yenisei river\n",
      "zambezi river\n",
      "zugspitze\n",
      "!!! Category things\n",
      "acacia\n",
      "accent chair\n",
      "acorn\n",
      "adhd medication\n",
      "adjustable bench\n",
      "advertisement\n",
      "aerator\n",
      "agave\n",
      "agave plant\n",
      "air compressor\n",
      "air conditioner\n",
      "air filter\n",
      "air handler\n",
      "air plant\n",
      "air tank\n",
      "air vent\n",
      "airport\n",
      "airport lighting\n",
      "alarm system\n",
      "alfalfa\n",
      "alley\n",
      "almond milk\n",
      "aluminum foil\n",
      "amazon echo\n",
      "amphitheatre\n",
      "analog stick\n",
      "analogy\n",
      "anchovy\n",
      "anemone\n",
      "anesthesia\n",
      "angelfish\n",
      "ankle bracelet\n",
      "antidepressant\n",
      "antiseptic wipe\n",
      "aperol spritz\n",
      "apple\n",
      "apple pie\n",
      "applesauce\n",
      "apricot tree\n",
      "aprons\n",
      "aquarium\n",
      "aquarium salt\n",
      "aquarium stand\n",
      "archery target\n",
      "arrival board\n",
      "aspirin\n",
      "athens\n",
      "atlantic ocean\n",
      "atm\n",
      "atmosphere\n",
      "attic ladder\n",
      "audio guide\n",
      "auditorium\n",
      "autograph\n",
      "automatic door\n",
      "backgammon board\n",
      "backrest\n",
      "bacon\n",
      "bacteria\n",
      "badminton court\n",
      "baggage carousel\n",
      "baggage conveyor\n",
      "baguette\n",
      "balance beam\n",
      "balcony\n",
      "bald eagle\n",
      "ballpoint pen\n",
      "bamboo\n",
      "bamboo leaf\n",
      "banana\n",
      "bandana\n",
      "bank\n",
      "bank statement\n",
      "bar counter\n",
      "bar towel\n",
      "barbell collar\n",
      "barber chair\n",
      "barcode\n",
      "bat\n",
      "bath mat\n",
      "bathroom sink\n",
      "battery\n",
      "battery bank\n",
      "beach chair\n",
      "beach hut\n",
      "beach umbrella\n",
      "bean\n",
      "bean plant\n",
      "beanbag\n",
      "bear\n",
      "bed frame\n",
      "bedroom\n",
      "bedspread\n",
      "beech tree\n",
      "beehive\n",
      "beer coaster\n",
      "beer glass\n",
      "beer stein\n",
      "beer tap\n",
      "bench\n",
      "bike\n",
      "bike path\n",
      "binder clip\n",
      "binoculars\n",
      "bird cage\n",
      "bird netting\n",
      "bird seed\n",
      "bleacher\n",
      "bleachers\n",
      "blinds\n",
      "bluebell\n",
      "boa constrictor\n",
      "board games\n",
      "bobby pins\n",
      "bollards\n",
      "bonding agent\n",
      "bonsai tree\n",
      "book cover\n",
      "bookbag\n",
      "bookcase\n",
      "bookend\n",
      "bookends\n",
      "booth\n",
      "booth seating\n",
      "bottled water\n",
      "bowl\n",
      "bracelet\n",
      "bread basket\n",
      "bread knife\n",
      "bread maker\n",
      "bread pudding\n",
      "break room\n",
      "brewery merchandise\n",
      "briefcase\n",
      "brochure\n",
      "brochure stand\n",
      "broken glass\n",
      "broth\n",
      "brownies\n",
      "brush\n",
      "brussel sprout\n",
      "buckle\n",
      "buffalo\n",
      "bug spray\n",
      "bulb\n",
      "bulletin\n",
      "bumble bee\n",
      "bumper\n",
      "bumper sticker\n",
      "bunk bed\n",
      "bunsen burner\n",
      "bus shelter\n",
      "butter\n",
      "butter knife\n",
      "butterfly\n",
      "butterfly net\n",
      "button\n",
      "cabinet\n",
      "cable tie\n",
      "cable tray\n",
      "cactus flower\n",
      "cake\n",
      "calcite\n",
      "calculator\n",
      "camp stove\n",
      "canal\n",
      "candle holder\n",
      "candy wrapper\n",
      "cane\n",
      "canning jar\n",
      "cannoli\n",
      "cantaloupe\n",
      "canyon\n",
      "cape\n",
      "car antenna\n",
      "car engine\n",
      "car seat\n",
      "carbon\n",
      "card\n",
      "cardboard\n",
      "cardboard box\n",
      "cardboard tube\n",
      "caribou\n",
      "carnation\n",
      "cash register\n",
      "casket\n",
      "cat bed\n",
      "cat carrier\n",
      "catalytic converter\n",
      "catheter\n",
      "cauliflower\n",
      "cedar\n",
      "ceiling fan\n",
      "centerpiece\n",
      "centipede\n",
      "cereal\n",
      "cereal bar\n",
      "chair cushion\n",
      "champagne flute\n",
      "chandelier\n",
      "charger\n",
      "charging cord\n",
      "charging station\n",
      "cheesecake\n",
      "cherry tree\n",
      "chessboard\n",
      "chestnut\n",
      "chew toy\n",
      "chicken wire\n",
      "chiller\n",
      "chime\n",
      "chimney\n",
      "chimpanzee\n",
      "chocolate bar\n",
      "chocolate cake\n",
      "cholla cactus\n",
      "christmas tree\n",
      "chutney\n",
      "cilantro\n",
      "cinder block\n",
      "cinnamon roll\n",
      "city hall\n",
      "clay\n",
      "cliff\n",
      "climber\n",
      "climbing rope\n",
      "clip\n",
      "clock\n",
      "clog\n",
      "closet\n",
      "clothes hamper\n",
      "clothes rack\n",
      "clutch bag\n",
      "coal crusher\n",
      "coat rack\n",
      "cobblestone\n",
      "cobweb\n",
      "cockroach\n",
      "cocktail glass\n",
      "coconut\n",
      "coffee bag\n",
      "coffee beans\n",
      "coffee grinder\n",
      "coffee ground\n",
      "coffee grounds\n",
      "coffee machine\n",
      "coffee makers\n",
      "coffee mug\n",
      "coffee table\n",
      "coffin\n",
      "coke\n",
      "colander\n",
      "cold pack\n",
      "comic book\n",
      "common milkweed\n",
      "compactor\n",
      "compass\n",
      "compost\n",
      "computer workstation\n",
      "concentrator\n",
      "concrete block\n",
      "concrete wall\n",
      "condenser\n",
      "conditioner\n",
      "conference table\n",
      "contact lenses\n",
      "conveyor belt\n",
      "cooler\n",
      "cooling tower\n",
      "coral reef\n",
      "coral reefs\n",
      "cordless phone\n",
      "corkscrew\n",
      "corral\n",
      "cottage\n",
      "cotton\n",
      "cotton candy\n",
      "cowboy boot\n",
      "crayfish\n",
      "cream cheese\n",
      "crochet hook\n",
      "croissant\n",
      "cruise ship\n",
      "crutch\n",
      "cuff\n",
      "culture medium\n",
      "cup holder\n",
      "cupboard\n",
      "cupcake\n",
      "curler\n",
      "curling\n",
      "curling iron\n",
      "curtains\n",
      "cuticle\n",
      "cutlery\n",
      "cutter\n",
      "cutting board\n",
      "cypress\n",
      "cypress knee\n",
      "daisy\n",
      "damselfish\n",
      "dandelion\n",
      "dashboard camera\n",
      "dead leaf\n",
      "decal\n",
      "deciduous tree\n",
      "denim\n",
      "denim jeans\n",
      "dental chair\n",
      "deposit slip\n",
      "desk chairs\n",
      "desk lamp\n",
      "desktop computer\n",
      "diaper\n",
      "diary\n",
      "dijon mustard\n",
      "dill pickle\n",
      "dining chair\n",
      "dining table\n",
      "dinosaur skeleton\n",
      "dirt road\n",
      "dish rack\n",
      "dish soap\n",
      "dishcloth\n",
      "dishtowel\n",
      "dishwasher\n",
      "disinfectant\n",
      "diving board\n",
      "dj mixer\n",
      "dj turntable\n",
      "docket\n",
      "dog bed\n",
      "dog crate\n",
      "dog park\n",
      "dog poop\n",
      "dog shampoo\n",
      "dog tag\n",
      "dogwood\n",
      "dolphin\n",
      "domino\n",
      "donuts\n",
      "door\n",
      "doughnut\n",
      "drain hose\n",
      "drainage pipe\n",
      "drapery\n",
      "drapes\n",
      "dresser\n",
      "drill bit\n",
      "drying rack\n",
      "duckweed\n",
      "ducky\n",
      "duct\n",
      "duct tape\n",
      "duffle bags\n",
      "dugout\n",
      "dumbbells\n",
      "dump truck\n",
      "dust jacket\n",
      "dustbin\n",
      "duvet\n",
      "duvet cover\n",
      "dvd\n",
      "dvd player\n",
      "dye\n",
      "dynamite\n",
      "ear drop\n",
      "ear protection\n",
      "earl grey tea\n",
      "earplug\n",
      "earring\n",
      "earth\n",
      "earthworm\n",
      "edamame\n",
      "edible flowers\n",
      "eiffel tower\n",
      "elastic bandage\n",
      "elbow pad\n",
      "electric bike\n",
      "electric fan\n",
      "electric motorcycle\n",
      "electric oven\n",
      "electric razor\n",
      "electric saw\n",
      "electric scooter\n",
      "electric screwdriver\n",
      "electric toothbrush\n",
      "electric violin\n",
      "electrical outlet\n",
      "electrical panel\n",
      "electrical tape\n",
      "electronic keyboard\n",
      "electronic piano\n",
      "elevator\n",
      "elliptical trainers\n",
      "embroidery\n",
      "emergency exit sign\n",
      "emergency light\n",
      "emergency lighting\n",
      "emergency lights\n",
      "empty can\n",
      "enamel\n",
      "enamel pin\n",
      "end table\n",
      "energy drink\n",
      "engagement ring\n",
      "engine oil\n",
      "engravings\n",
      "entrance door\n",
      "envelope\n",
      "eruption\n",
      "escalators\n",
      "espresso machine\n",
      "eucalyptus\n",
      "evaporator\n",
      "exam table\n",
      "excavator\n",
      "exercise mat\n",
      "exhaust fan\n",
      "exhibit sign\n",
      "exit sign\n",
      "extension cord\n",
      "extension ladder\n",
      "eye\n",
      "eye mask\n",
      "eyeglass\n",
      "fabric roll\n",
      "fabric sofa\n",
      "face mask\n",
      "facial toner\n",
      "fallen log\n",
      "fallen tree\n",
      "fan blade\n",
      "fanny pack\n",
      "fanta\n",
      "feather boa\n",
      "fence gate\n",
      "fence panel\n",
      "fennel\n",
      "fern\n",
      "fertilizer\n",
      "file folder\n",
      "filing cabinet\n",
      "finger\n",
      "finger food\n",
      "fir\n",
      "fire alarm\n",
      "fire coral\n",
      "fire escape ladder\n",
      "fire extinguisher\n",
      "fire helmet\n",
      "fire hydrant\n",
      "fireplace\n",
      "fireplace mantle\n",
      "first aid kit\n",
      "fish scale\n",
      "fish tank\n",
      "fishing net\n",
      "fishing pier\n",
      "fishing rod\n",
      "fishnet\n",
      "fitness tracker\n",
      "flashlight\n",
      "flat shoe\n",
      "flea\n",
      "floor jacks\n",
      "floor mats\n",
      "flour\n",
      "flower crown\n",
      "foam roller\n",
      "fog machine\n",
      "foil paper\n",
      "food bowl\n",
      "food cart\n",
      "food warmers\n",
      "footbridge\n",
      "footrest\n",
      "fortune cookie\n",
      "fossil\n",
      "fox\n",
      "frappe\n",
      "frappuccino\n",
      "free weights\n",
      "french toast\n",
      "fresheners\n",
      "fridge magnet\n",
      "fried rice\n",
      "frisbee\n",
      "frozen meat\n",
      "frozen waffle\n",
      "fruit cup\n",
      "fudge brownie\n",
      "fuel filter\n",
      "fungi\n",
      "fur\n",
      "furniture\n",
      "furniture polish\n",
      "fuse\n",
      "gadget\n",
      "game board\n",
      "garage door\n",
      "garbage bag\n",
      "garbage can\n",
      "garbage disposal\n",
      "garbage truck\n",
      "garden fork\n",
      "garden rake\n",
      "garden shovel\n",
      "garment rack\n",
      "garment steamer\n",
      "garter\n",
      "gas cap\n",
      "gas mask\n",
      "gas stove\n",
      "gas turbine\n",
      "gasket\n",
      "gator\n",
      "gecko\n",
      "gel\n",
      "gelatin\n",
      "generator\n",
      "ghost crab\n",
      "gift bag\n",
      "gift box\n",
      "gin\n",
      "ginger\n",
      "ginger ale\n",
      "giraffe\n",
      "glass figurine\n",
      "glass panel\n",
      "glass sheet\n",
      "glass shelf\n",
      "glass table\n",
      "glass window\n",
      "glitter\n",
      "glove\n",
      "glove box\n",
      "gold\n",
      "golf cart\n",
      "goose\n",
      "gown\n",
      "gps\n",
      "graduated cylinder\n",
      "grain bin\n",
      "granola\n",
      "grape\n",
      "grape juice\n",
      "grape vine\n",
      "grapefruit\n",
      "graphic novel\n",
      "graphing calculator\n",
      "gravity\n",
      "green alga\n",
      "green beans\n",
      "greeting card\n",
      "grill\n",
      "grinder\n",
      "groundhog\n",
      "guard tower\n",
      "guitar pick\n",
      "guitar string\n",
      "guppy\n",
      "gutter\n",
      "gym mats\n",
      "habanero pepper\n",
      "hacksaw\n",
      "hair clip\n",
      "hair clipper\n",
      "hair dryer\n",
      "hair elastic\n",
      "hair gel\n",
      "hair tie\n",
      "hairbrush\n",
      "hairspray\n",
      "hairspray can\n",
      "ham\n",
      "hamburger helper\n",
      "hamster\n",
      "hamster wheel\n",
      "hamstring curl machine\n",
      "hand drill\n",
      "hand dryer\n",
      "hand lotion\n",
      "hand pruner\n",
      "hand sanitizer\n",
      "handbag\n",
      "handcuff\n",
      "handlebar\n",
      "handrail\n",
      "hangar\n",
      "hanging basket\n",
      "hanging hook\n",
      "hard hat\n",
      "hash browns\n",
      "hat\n",
      "hay bale\n",
      "hazelnut\n",
      "hazelnut tree\n",
      "hdmi cable\n",
      "headband\n",
      "headboard\n",
      "headlamp\n",
      "headlight\n",
      "headphone\n",
      "headphones\n",
      "hearing aid\n",
      "heart rate monitors\n",
      "heating element\n",
      "hibiscus\n",
      "high chair\n",
      "highlighter\n",
      "hiking boots\n",
      "historical marker\n",
      "hole puncher\n",
      "holly\n",
      "home plate\n",
      "honey\n",
      "honeybee\n",
      "honeycrisp\n",
      "honeydew\n",
      "honeydew melon\n",
      "hose line\n",
      "hospital bed\n",
      "hot dog\n",
      "hot tea\n",
      "hot water bottle\n",
      "house key\n",
      "humidity meter\n",
      "hummus\n",
      "humus\n",
      "hut\n",
      "hvac system\n",
      "hydrant\n",
      "hydro turbine\n",
      "ice bin\n",
      "ice cream maker\n",
      "ice crusher\n",
      "ice cube tray\n",
      "ice pop\n",
      "ice sculpture\n",
      "ice tea\n",
      "ice tray\n",
      "ice water\n",
      "iced coffee\n",
      "icicle\n",
      "igloo\n",
      "ignition system\n",
      "impact crusher\n",
      "impact wrench\n",
      "impatiens\n",
      "incense\n",
      "incubator\n",
      "index card\n",
      "infrared sensor\n",
      "inhaler\n",
      "ink cartridge\n",
      "insulation\n",
      "internet modem\n",
      "internet router\n",
      "interstate\n",
      "inverter\n",
      "invoice\n",
      "iris\n",
      "iron\n",
      "iron bar\n",
      "ironing board\n",
      "irrigation system\n",
      "iv\n",
      "iv bag\n",
      "jack stand\n",
      "jacket\n",
      "jaffa cake\n",
      "jam\n",
      "jane\n",
      "jasmine\n",
      "jello\n",
      "jersey\n",
      "jewelry box\n",
      "journal\n",
      "joystick\n",
      "juice box\n",
      "juicer\n",
      "jumper cables\n",
      "junction box\n",
      "juniper bush\n",
      "juniper tree\n",
      "kalamata olive\n",
      "kale smoothie\n",
      "karaoke machine\n",
      "kelp\n",
      "kentucky\n",
      "ketchup\n",
      "key chain\n",
      "key ring\n",
      "keyring\n",
      "khaki pants\n",
      "kheer\n",
      "kickstand\n",
      "king snake\n",
      "kiosk\n",
      "kitchen cabinet\n",
      "kitchen island\n",
      "kitchen knife\n",
      "kitchen table\n",
      "kitchenette\n",
      "kiwifruit\n",
      "knapweed\n",
      "knitting needle\n",
      "komodo dragon\n",
      "lab coat\n",
      "laboratory manual\n",
      "lace\n",
      "lace dress\n",
      "lace top\n",
      "lagoon\n",
      "lanyard\n",
      "laptop\n",
      "laser beam\n",
      "lathe\n",
      "latte\n",
      "laundry basket\n",
      "laundry cart\n",
      "lawn mower\n",
      "lawnmower\n",
      "laxative\n",
      "leaf\n",
      "leaf rake\n",
      "leash\n",
      "legal pad\n",
      "lego\n",
      "lemming\n",
      "lemon balm\n",
      "lemon juice\n",
      "lemon wedge\n",
      "lemon zest\n",
      "leopard\n",
      "leotard\n",
      "level sensor\n",
      "library card\n",
      "library stamp\n",
      "license plate\n",
      "lid\n",
      "lifter\n",
      "lifting belt\n",
      "lifting crane\n",
      "light switch\n",
      "lightbulb\n",
      "lighting rig\n",
      "lily\n",
      "lime\n",
      "limousine\n",
      "linen\n",
      "lint brush\n",
      "lint roller\n",
      "lint trap\n",
      "lipstick\n",
      "litter scooper\n",
      "livestock trailer\n",
      "loading ramp\n",
      "lodge\n",
      "loose change\n",
      "lottery ticket\n",
      "lug\n",
      "luggage\n",
      "magazine rack\n",
      "magnet\n",
      "mail truck\n",
      "mailbox\n",
      "maintenance truck\n",
      "mango\n",
      "mango tree\n",
      "mangrove seedling\n",
      "manicure set\n",
      "maple tree\n",
      "marshmallow\n",
      "martini\n",
      "masks\n",
      "matches\n",
      "maxi dress\n",
      "measuring cup\n",
      "measuring spoon\n",
      "measuring tape\n",
      "meatloaf\n",
      "medallion\n",
      "medical cart\n",
      "medical chart\n",
      "medical gown\n",
      "medical records\n",
      "medication\n",
      "medication dispenser\n",
      "medicine cabinet\n",
      "melon\n",
      "menorah\n",
      "merchandise rack\n",
      "mesquite\n",
      "mesquite tree\n",
      "metal detector\n",
      "metal file\n",
      "metal foil\n",
      "metal lid\n",
      "metal spoon\n",
      "mic stand\n",
      "microphone stand\n",
      "microscope\n",
      "microwave\n",
      "migraine\n",
      "milkweed\n",
      "mill building\n",
      "milling\n",
      "milling machine\n",
      "mini fridge\n",
      "miniskirt\n",
      "mixing bowl\n",
      "mixing console\n",
      "mobile phone\n",
      "model airplane\n",
      "modem\n",
      "moleskin\n",
      "mop\n",
      "mortar\n",
      "moss ball\n",
      "motion sensor\n",
      "motor\n",
      "motorcycle\n",
      "motorcycle helmet\n",
      "mouse\n",
      "mousepad\n",
      "movie poster\n",
      "moving walkway\n",
      "mri\n",
      "mri machine\n",
      "mucus\n",
      "muffin\n",
      "muffin tin\n",
      "muffler\n",
      "mulberry\n",
      "mural\n",
      "muscle relaxant\n",
      "mushroom\n",
      "nachos\n",
      "nail clipper\n",
      "nail polish\n",
      "nail polish remover\n",
      "name tag\n",
      "nap mat\n",
      "nature trail\n",
      "necklace\n",
      "needle\n",
      "neon light\n",
      "netgear\n",
      "nightshade\n",
      "nightstand\n",
      "nile monitor\n",
      "nintendo switch\n",
      "nitrogen\n",
      "nitrous\n",
      "noise-canceling headphones\n",
      "nokia phone\n",
      "noodle\n",
      "northern cardinal\n",
      "northern mockingbird\n",
      "nose\n",
      "nose ring\n",
      "notebook\n",
      "nozzle\n",
      "nylon\n",
      "oak table\n",
      "oak tree\n",
      "oakley sunglasses\n",
      "oar\n",
      "oatmeal cookie\n",
      "ocarina\n",
      "office chair\n",
      "oil filter\n",
      "ointment\n",
      "olive oil\n",
      "onyx\n",
      "operating table\n",
      "orange juice\n",
      "orange peel\n",
      "orange slice\n",
      "orange tree\n",
      "orange zest\n",
      "oregon\n",
      "ostrich\n",
      "ottoman\n",
      "outdoor furniture\n",
      "outdoor pool\n",
      "oven door\n",
      "oven rack\n",
      "overhead wire\n",
      "owl\n",
      "oxygen\n",
      "oxygen tank\n",
      "oyster\n",
      "pacifier\n",
      "packing peanuts\n",
      "pad\n",
      "pail\n",
      "paint roller\n",
      "paint sprayer\n",
      "paint thinner\n",
      "paintbrush\n",
      "pajamas\n",
      "pallet jack\n",
      "palmetto tree\n",
      "pamphlet\n",
      "pant\n",
      "pants\n",
      "paper roll\n",
      "paper towels\n",
      "paper tray\n",
      "paperweights\n",
      "paperwork\n",
      "parachute\n",
      "parallel bars\n",
      "park map\n",
      "parking pass\n",
      "parrot\n",
      "parrotfish\n",
      "parsley\n",
      "parts cleaner\n",
      "pea plant\n",
      "pea soup\n",
      "peace lily\n",
      "peach tree\n",
      "peanut butter\n",
      "pear tree\n",
      "pedal boat\n",
      "peeler\n",
      "pelican\n",
      "pellet\n",
      "pencil sharpener\n",
      "penguin\n",
      "peony\n",
      "pepper spray\n",
      "peppermint\n",
      "perfume\n",
      "perfume bottle\n",
      "personal protective equipment\n",
      "pesticide\n",
      "pet bed\n",
      "petroleum\n",
      "petunia\n",
      "phone case\n",
      "phone charger\n",
      "photo album\n",
      "photocopier\n",
      "piano\n",
      "piano stool\n",
      "pickaxe\n",
      "picket\n",
      "picnic basket\n",
      "picnic table\n",
      "picture frame\n",
      "pilates\n",
      "pilates reformer\n",
      "pillow fort\n",
      "pillow sham\n",
      "pillowcase\n",
      "pillowtop\n",
      "pine cone\n",
      "pineapple\n",
      "pipe\n",
      "pipette\n",
      "piping tips\n",
      "piranha\n",
      "pitcher\n",
      "pizza box\n",
      "placemat\n",
      "plant saucer\n",
      "planter\n",
      "planter box\n",
      "plaque\n",
      "plastic baggie\n",
      "plastic chair\n",
      "plastic fork\n",
      "plastic gloves\n",
      "plastic pallet\n",
      "plastic pipe\n",
      "plastic sign\n",
      "plastic tub\n",
      "plastic tube\n",
      "plastic wrap\n",
      "plate\n",
      "play mat\n",
      "playing cards\n",
      "pliers\n",
      "plunger\n",
      "polar bear\n",
      "polyester\n",
      "pomegranate\n",
      "pool cleaner\n",
      "popcorn\n",
      "popcorn machine\n",
      "porcupine\n",
      "portable speaker\n",
      "possum\n",
      "postage stamp\n",
      "pot holder\n",
      "potato\n",
      "potato chip\n",
      "potted plant\n",
      "power adapter\n",
      "power cable\n",
      "power cord\n",
      "power drill\n",
      "power grid\n",
      "power lines\n",
      "power meter\n",
      "power pole\n",
      "power strip\n",
      "prairie sunflower\n",
      "press box\n",
      "pressure gauge\n",
      "projector\n",
      "protein bar\n",
      "protein shake\n",
      "protein shakes\n",
      "pry bar\n",
      "public address system\n",
      "pudding\n",
      "pumpkin\n",
      "pumpkin pie\n",
      "punching bag\n",
      "purse\n",
      "push pin\n",
      "puzzle\n",
      "pyramid\n",
      "quarry\n",
      "quesadilla\n",
      "rabbit\n",
      "raccoon\n",
      "radio scanner\n",
      "radish\n",
      "rags\n",
      "rail track\n",
      "railroad tracks\n",
      "rainboot\n",
      "rainbow cake\n",
      "raindrops\n",
      "raisin\n",
      "ramen\n",
      "rangefinder\n",
      "raspberry\n",
      "rat\n",
      "reading glasses\n",
      "reading pillow\n",
      "receipt printer\n",
      "red velvet cake\n",
      "red wine\n",
      "redwood tree\n",
      "reef\n",
      "refrigerator\n",
      "rehearsal room\n",
      "reindeer\n",
      "relief valve\n",
      "relish\n",
      "reptile\n",
      "reservoir\n",
      "resin\n",
      "respirator\n",
      "restaurants\n",
      "rhubarb\n",
      "ribbon\n",
      "rice krispie\n",
      "rice pudding\n",
      "ricotta\n",
      "riverbed\n",
      "rivet\n",
      "roadrunner\n",
      "robot arm\n",
      "rocketship\n",
      "rocking chair\n",
      "roller\n",
      "rollercoaster\n",
      "rolling pin\n",
      "rooster\n",
      "roots\n",
      "rose\n",
      "rose bush\n",
      "rosemary\n",
      "router\n",
      "rowing machines\n",
      "rubber\n",
      "ruby\n",
      "rucksack\n",
      "rug\n",
      "ruler\n",
      "rusty nail\n",
      "rv\n",
      "safety glasses\n",
      "safety goggles\n",
      "safety harness\n",
      "safety railing\n",
      "salad dressing\n",
      "salon sign\n",
      "salt scrub\n",
      "salt shaker\n",
      "saltwater\n",
      "sandal\n",
      "sandhill crane\n",
      "sandstorm\n",
      "sash\n",
      "satellite\n",
      "satellite dish\n",
      "saucer\n",
      "sauerkraut\n",
      "sauna\n",
      "school bus\n",
      "scones\n",
      "scoreboard\n",
      "scrap metal\n",
      "scratching posts\n",
      "screen\n",
      "screwdriver\n",
      "scrubber\n",
      "sea turtle\n",
      "seafoam\n",
      "seagrass\n",
      "seagrass bed\n",
      "seagull\n",
      "seahorse\n",
      "sealant\n",
      "sealing machine\n",
      "seam\n",
      "security booth\n",
      "security gate\n",
      "security systems\n",
      "sedge\n",
      "seed packet\n",
      "seedling tray\n",
      "seltzer\n",
      "server rack\n",
      "serving bowl\n",
      "serving platter\n",
      "sewage system\n",
      "sewing kit\n",
      "sewing needle\n",
      "shaker\n",
      "sheetrock\n",
      "shin guards\n",
      "shingle\n",
      "shipping container\n",
      "shipping label\n",
      "shirt\n",
      "shoe rack\n",
      "shoelace\n",
      "shop towel\n",
      "shovel\n",
      "shower caddy\n",
      "shower cap\n",
      "shower chair\n",
      "shower mat\n",
      "sieve\n",
      "silicon\n",
      "silicone\n",
      "silicone mat\n",
      "silver ore\n",
      "sippy cup\n",
      "sketchbook\n",
      "skewer\n",
      "sleeping bag\n",
      "sling\n",
      "slit\n",
      "smartboard\n",
      "smartphone\n",
      "smartwatch\n",
      "smith machine\n",
      "smoke alarm\n",
      "smoke detector\n",
      "smoothie\n",
      "snacks\n",
      "snake\n",
      "snowball\n",
      "snowdrift\n",
      "snowmobile\n",
      "soap dish\n",
      "soap dispenser\n",
      "soap suds\n",
      "soccer ball\n",
      "sock\n",
      "soda\n",
      "sofa\n",
      "solar panel\n",
      "soldering iron\n",
      "sorting machine\n",
      "sound system\n",
      "soundboard\n",
      "soup\n",
      "soybeans\n",
      "space probe\n",
      "space station\n",
      "spare bulb\n",
      "spatula\n",
      "spice rack\n",
      "spider web\n",
      "spirit level\n",
      "spit\n",
      "sportswear\n",
      "spotlight\n",
      "spray\n",
      "sprinkler\n",
      "sprinkler system\n",
      "squash\n",
      "squid\n",
      "squirrel\n",
      "stadium\n",
      "stage lights\n",
      "stain remover\n",
      "stained glass window\n",
      "stair stepper\n",
      "staircase\n",
      "stationary bike\n",
      "steak\n",
      "steak knife\n",
      "steam iron\n",
      "steam room\n",
      "steel sheet\n",
      "steering wheel\n",
      "stick\n",
      "sticker\n",
      "sticky notes\n",
      "storage bin\n",
      "storage room\n",
      "stove\n",
      "straightening iron\n",
      "strainer\n",
      "street sign\n",
      "streetlamp\n",
      "strobe light\n",
      "stroller\n",
      "stump\n",
      "sugar packet\n",
      "suitcase\n",
      "sunglass\n",
      "sunglasses\n",
      "sunscreen\n",
      "support beam\n",
      "surgical drape\n",
      "survey marker\n",
      "sushi\n",
      "suture\n",
      "swamp milkweed\n",
      "swedish fish\n",
      "sweet tea\n",
      "sweetgum tree\n",
      "swimsuit\n",
      "swing set\n",
      "sword fern\n",
      "sycamore tree\n",
      "syrup\n",
      "tablet\n",
      "tackle box\n",
      "tank\n",
      "tank top\n",
      "tape dispenser\n",
      "tape measure\n",
      "taser\n",
      "tassel\n",
      "tea bag\n",
      "tea cup\n",
      "tea leaf\n",
      "teddy bear\n",
      "telephone\n",
      "telescope\n",
      "television\n",
      "television remote\n",
      "tennis ball\n",
      "tennis court\n",
      "test strip\n",
      "thermal underwear\n",
      "thermometer probe\n",
      "throw blanket\n",
      "throw rug\n",
      "thumbtack\n",
      "thyroid\n",
      "thyroid medication\n",
      "ticket machine\n",
      "ticket stub\n",
      "tide pool\n",
      "tile\n",
      "tin foil\n",
      "tiramisu\n",
      "tire\n",
      "tire gauge\n",
      "tire inflator\n",
      "tire iron\n",
      "tissue box\n",
      "toad\n",
      "toaster oven\n",
      "tofu\n",
      "toilet\n",
      "toilet brush\n",
      "toiletries bag\n",
      "tomato\n",
      "tomato plant\n",
      "tongue\n",
      "tongue depressor\n",
      "tool belt\n",
      "tool box\n",
      "tool cabinet\n",
      "tool shed\n",
      "toothbrush\n",
      "toothbrush holder\n",
      "toothpaste\n",
      "toothpick\n",
      "tote bin\n",
      "touchscreen\n",
      "tow strap\n",
      "tow truck\n",
      "towel\n",
      "towel basket\n",
      "tracksuit\n",
      "tractor\n",
      "tractor shed\n",
      "traffic signal\n",
      "train brake\n",
      "train door\n",
      "train horn\n",
      "training cone\n",
      "transmission tower\n",
      "trash bag\n",
      "trash can\n",
      "trashcan\n",
      "travel pillow\n",
      "treehouse\n",
      "trellis\n",
      "trench coat\n",
      "tricycle\n",
      "trimming scissors\n",
      "trinket box\n",
      "trophy\n",
      "trouser\n",
      "truck\n",
      "trumpet\n",
      "tube\n",
      "tulip\n",
      "tuning fork\n",
      "tunnel\n",
      "tupperware\n",
      "turkey\n",
      "turn signal\n",
      "turnstiles\n",
      "turtle\n",
      "tweezers\n",
      "twine\n",
      "udon noodles\n",
      "ukulele case\n",
      "ultrasound\n",
      "ultraviolet lamp\n",
      "umbrella stand\n",
      "unbuttoned jacket\n",
      "underground river\n",
      "underwater camera\n",
      "underwater volcano\n",
      "unleavened bread\n",
      "unripe banana\n",
      "unripe fruit\n",
      "upholstered sofa\n",
      "upright piano\n",
      "urinal\n",
      "usb drives\n",
      "usb stick\n",
      "user manual\n",
      "utensil drawer\n",
      "utility belt\n",
      "utility box\n",
      "utility cart\n",
      "vacuum cleaner\n",
      "valve\n",
      "vanilla extract\n",
      "vanity mirror\n",
      "vans\n",
      "varnish\n",
      "vase\n",
      "vegan chocolate\n",
      "vegetable\n",
      "vegetarian chili\n",
      "vegetation\n",
      "veggie burger\n",
      "velvet couch\n",
      "velvet ribbon\n",
      "velvet rope\n",
      "velvet rug\n",
      "vending machine\n",
      "ventilation fan\n",
      "ventilation shaft\n",
      "ventilation system\n",
      "vespa\n",
      "vest\n",
      "video camera\n",
      "vietnamese coffee\n",
      "vintage clock\n",
      "vintage dollhouse\n",
      "violin\n",
      "violin bow\n",
      "violin strings\n",
      "vip box\n",
      "virus\n",
      "voice recorder\n",
      "volcanic ash\n",
      "volcano\n",
      "volkswagen\n",
      "volleyball\n",
      "vortex mixer\n",
      "voucher\n",
      "vr headset\n",
      "walking stick\n",
      "wall art\n",
      "wall decorations\n",
      "wall mirror\n",
      "wall shelf\n",
      "wall street\n",
      "wardrobe\n",
      "washcloth\n",
      "washing machine\n",
      "wasp\n",
      "wastewater\n",
      "water\n",
      "water bottle\n",
      "water bowl\n",
      "water buffalo\n",
      "water chestnut\n",
      "water dish\n",
      "water fountain\n",
      "water heater\n",
      "water hose\n",
      "water hyacinth\n",
      "water jug\n",
      "water pump\n",
      "water snake\n",
      "water tank\n",
      "water well\n",
      "water wing\n",
      "waterfowl blind\n",
      "waterhole\n",
      "watering can\n",
      "waterslide\n",
      "wax\n",
      "weasel\n",
      "webcam\n",
      "wedding ring\n",
      "weighing scale\n",
      "weight plate\n",
      "weightlifting belt\n",
      "wheelchair ramp\n",
      "whisk\n",
      "whistle\n",
      "whiteboard\n",
      "wig\n",
      "wii\n",
      "wild garlic\n",
      "willow tree\n",
      "wind chime\n",
      "wind vane\n",
      "windbreak\n",
      "window cleaner\n",
      "windsock\n",
      "wine aerator\n",
      "wine decanter\n",
      "wine glass\n",
      "wine opener\n",
      "wine rack\n",
      "wine tasting kit\n",
      "wing\n",
      "wiper\n",
      "wire\n",
      "wire brush\n",
      "wire hanger\n",
      "wire rack\n",
      "wireless microphone\n",
      "wireless speaker\n",
      "wisteria\n",
      "wonton\n",
      "wonton soup\n",
      "wood chip\n",
      "wooden spoon\n",
      "woodpecker\n",
      "woolen blanket\n",
      "worcestershire sauce\n",
      "workout log\n",
      "wrench\n",
      "wrist weights\n",
      "wristband\n",
      "writing paper\n",
      "yarrow\n",
      "yeast\n",
      "yoga block\n",
      "yoga mat\n",
      "yogurt\n",
      "yogurt container\n",
      "yule log\n",
      "zinc\n",
      "zip tie\n",
      "ziploc\n"
     ]
    }
   ],
   "execution_count": 7
  },
  {
   "metadata": {
    "ExecuteTime": {
     "end_time": "2024-07-16T09:24:26.035472Z",
     "start_time": "2024-07-16T09:24:26.032240Z"
    }
   },
   "cell_type": "code",
   "source": "",
   "id": "5efdf6e571b460b5",
   "outputs": [],
   "execution_count": 6
  },
  {
   "metadata": {
    "ExecuteTime": {
     "end_time": "2024-07-09T09:35:17.926244Z",
     "start_time": "2024-07-09T09:35:17.881124Z"
    }
   },
   "cell_type": "code",
   "source": [
    "# {\n",
    "#         \"things\": 100,\n",
    "#         \"city\": 40,\n",
    "#         \"country\": 20,\n",
    "#         \"landmark\": 40,\n",
    "#     }"
   ],
   "id": "e2c58c2a0eb6da69",
   "outputs": [],
   "execution_count": 4
  },
  {
   "metadata": {
    "ExecuteTime": {
     "end_time": "2024-07-09T09:35:22.629497Z",
     "start_time": "2024-07-09T09:35:18.995431Z"
    }
   },
   "cell_type": "code",
   "source": "generated = await generate_snapshot(client, \"ice tea\")",
   "id": "3e7a36dd49fb9b0e",
   "outputs": [
    {
     "name": "stderr",
     "output_type": "stream",
     "text": [
      "2024-07-09 14:35:22,623 - INFO - HTTP Request: POST https://api.openai.com/v1/chat/completions \"HTTP/1.1 200 OK\"\n"
     ]
    }
   ],
   "execution_count": 5
  },
  {
   "metadata": {
    "ExecuteTime": {
     "end_time": "2024-07-09T09:35:28.187058Z",
     "start_time": "2024-07-09T09:35:28.143328Z"
    }
   },
   "cell_type": "code",
   "source": "print(generated[0])",
   "id": "2dfbd024be8e63da",
   "outputs": [
    {
     "name": "stdout",
     "output_type": "stream",
     "text": [
      "{'prompt': 'You are playing \"20 Questions\" game.\\n    \\nHere are the previous questions and answers:\\nQuestion: Is it a living thing? Answer: no Your guess: chair\\nQuestion: Is it a physical object? Answer: yes Your guess: book\\nQuestion: Is it man-made? Answer: yes Your guess: clock\\nQuestion: Is it used in everyday life? Answer: yes Your guess: pen\\nQuestion: Is it something you can consume? Answer: yes Your guess: bread\\nQuestion: Is it a solid? Answer: no Your guess: milk\\nQuestion: Is it a beverage? Answer: yes Your guess: coffee\\nQuestion: Is it typically served hot? Answer: no Your guess: soda\\nQuestion: Is it sweetened? Answer: yes Your guess: lemonade\\nQuestion: Does it contain caffeine? Answer: yes Your guess: iced coffee\\nQuestion: Is it a type of tea? Answer: yes Your guess: ice tea\\n\\nYou goal is to make a guess about the keyword given the history of questions and answers.\\nHistory above contains previous guesses. When the guess is correct, the game stops. So, there\\'s not reason to try a guess that was already made!\\nAlso, keep in mind that guess only counts if it\\'s correct letter-by-letter. So, if you have strong reasons to believe that one of the previous guesses is correct, but was\\nphrased differently - you can try to guess it again. \\nDon\\'t forget that some inconsistencies in answers can be caused by errors in the answering LLM.\\nThe keyword can consist of one or more words.\\n\\nDon\\'t forget, that you should never guess whatever was already guessed before! You should always try new options to gain more information!\\nOnly output the same guess if there might be another accepted phrasing of the same keyword (which is usually the case when there are several words).\\n\\nFormat your answer like this: First, reason about your decision for 2-4 sentences. Summarize what you know, summarize space of possibilities, etc.\\nThen, your last line should be the keyword that you want to guess.\\nDon\\'t output anything else. Only output the keyword that you want to guess. Don\\'t say anything like \"My guess is {keyword}\" - always just \"{keyword}\"\\n', 'response': 'Based on the available questions, answers and given that none of the previous guesses were correct, I think that the best guess would be ice tea\\nice tea', 'type': 'guess_from_snapshot'}\n"
     ]
    }
   ],
   "execution_count": 7
  },
  {
   "metadata": {},
   "cell_type": "code",
   "outputs": [],
   "execution_count": null,
   "source": "",
   "id": "3397050fc4395522"
  },
  {
   "metadata": {},
   "cell_type": "code",
   "outputs": [],
   "execution_count": null,
   "source": "",
   "id": "5be580c434a590b0"
  },
  {
   "metadata": {},
   "cell_type": "code",
   "outputs": [],
   "execution_count": null,
   "source": "",
   "id": "3506ae4fcd368d98"
  },
  {
   "metadata": {},
   "cell_type": "code",
   "outputs": [],
   "execution_count": null,
   "source": "",
   "id": "9b324e20be1545a"
  },
  {
   "metadata": {},
   "cell_type": "code",
   "outputs": [],
   "execution_count": null,
   "source": "",
   "id": "e3035305d6c54de7"
  },
  {
   "metadata": {
    "ExecuteTime": {
     "end_time": "2024-07-05T18:21:48.855661Z",
     "start_time": "2024-07-05T18:19:47.827220Z"
    }
   },
   "cell_type": "code",
   "source": "game = await run_game(client, \"headphones\")",
   "id": "b65184d509c8e9fe",
   "outputs": [
    {
     "name": "stdout",
     "output_type": "stream",
     "text": [
      "Game headphones, round 0\n"
     ]
    },
    {
     "name": "stderr",
     "output_type": "stream",
     "text": [
      "2024-07-05 23:19:49,556 - INFO - HTTP Request: POST https://api.openai.com/v1/chat/completions \"HTTP/1.1 200 OK\"\n"
     ]
    },
    {
     "name": "stdout",
     "output_type": "stream",
     "text": [
      "Tokens used: 540\n"
     ]
    },
    {
     "name": "stderr",
     "output_type": "stream",
     "text": [
      "2024-07-05 23:19:51,194 - INFO - HTTP Request: POST https://api.openai.com/v1/chat/completions \"HTTP/1.1 200 OK\"\n"
     ]
    },
    {
     "name": "stdout",
     "output_type": "stream",
     "text": [
      "Tokens used: 718\n"
     ]
    },
    {
     "name": "stderr",
     "output_type": "stream",
     "text": [
      "2024-07-05 23:19:52,076 - INFO - HTTP Request: POST https://api.openai.com/v1/chat/completions \"HTTP/1.1 200 OK\"\n"
     ]
    },
    {
     "name": "stdout",
     "output_type": "stream",
     "text": [
      "Tokens used: 321\n"
     ]
    },
    {
     "name": "stderr",
     "output_type": "stream",
     "text": [
      "2024-07-05 23:19:53,286 - INFO - HTTP Request: POST https://api.openai.com/v1/chat/completions \"HTTP/1.1 200 OK\"\n"
     ]
    },
    {
     "name": "stdout",
     "output_type": "stream",
     "text": [
      "Tokens used: 735\n",
      "Game headphones, round 1\n"
     ]
    },
    {
     "name": "stderr",
     "output_type": "stream",
     "text": [
      "2024-07-05 23:19:54,560 - INFO - HTTP Request: POST https://api.openai.com/v1/chat/completions \"HTTP/1.1 200 OK\"\n"
     ]
    },
    {
     "name": "stdout",
     "output_type": "stream",
     "text": [
      "Tokens used: 567\n"
     ]
    },
    {
     "name": "stderr",
     "output_type": "stream",
     "text": [
      "2024-07-05 23:19:55,978 - INFO - HTTP Request: POST https://api.openai.com/v1/chat/completions \"HTTP/1.1 200 OK\"\n"
     ]
    },
    {
     "name": "stdout",
     "output_type": "stream",
     "text": [
      "Tokens used: 734\n"
     ]
    },
    {
     "name": "stderr",
     "output_type": "stream",
     "text": [
      "2024-07-05 23:19:56,829 - INFO - HTTP Request: POST https://api.openai.com/v1/chat/completions \"HTTP/1.1 200 OK\"\n"
     ]
    },
    {
     "name": "stdout",
     "output_type": "stream",
     "text": [
      "Tokens used: 335\n"
     ]
    },
    {
     "name": "stderr",
     "output_type": "stream",
     "text": [
      "2024-07-05 23:19:58,297 - INFO - HTTP Request: POST https://api.openai.com/v1/chat/completions \"HTTP/1.1 200 OK\"\n"
     ]
    },
    {
     "name": "stdout",
     "output_type": "stream",
     "text": [
      "Tokens used: 762\n",
      "Game headphones, round 2\n"
     ]
    },
    {
     "name": "stderr",
     "output_type": "stream",
     "text": [
      "2024-07-05 23:19:59,634 - INFO - HTTP Request: POST https://api.openai.com/v1/chat/completions \"HTTP/1.1 200 OK\"\n"
     ]
    },
    {
     "name": "stdout",
     "output_type": "stream",
     "text": [
      "Tokens used: 579\n"
     ]
    },
    {
     "name": "stderr",
     "output_type": "stream",
     "text": [
      "2024-07-05 23:20:01,115 - INFO - HTTP Request: POST https://api.openai.com/v1/chat/completions \"HTTP/1.1 200 OK\"\n"
     ]
    },
    {
     "name": "stdout",
     "output_type": "stream",
     "text": [
      "Tokens used: 753\n"
     ]
    },
    {
     "name": "stderr",
     "output_type": "stream",
     "text": [
      "2024-07-05 23:20:02,127 - INFO - HTTP Request: POST https://api.openai.com/v1/chat/completions \"HTTP/1.1 200 OK\"\n"
     ]
    },
    {
     "name": "stdout",
     "output_type": "stream",
     "text": [
      "Tokens used: 377\n"
     ]
    },
    {
     "name": "stderr",
     "output_type": "stream",
     "text": [
      "2024-07-05 23:20:03,428 - INFO - HTTP Request: POST https://api.openai.com/v1/chat/completions \"HTTP/1.1 200 OK\"\n"
     ]
    },
    {
     "name": "stdout",
     "output_type": "stream",
     "text": [
      "Tokens used: 771\n",
      "Game headphones, round 3\n"
     ]
    },
    {
     "name": "stderr",
     "output_type": "stream",
     "text": [
      "2024-07-05 23:20:04,586 - INFO - HTTP Request: POST https://api.openai.com/v1/chat/completions \"HTTP/1.1 200 OK\"\n"
     ]
    },
    {
     "name": "stdout",
     "output_type": "stream",
     "text": [
      "Tokens used: 584\n"
     ]
    },
    {
     "name": "stderr",
     "output_type": "stream",
     "text": [
      "2024-07-05 23:20:05,816 - INFO - HTTP Request: POST https://api.openai.com/v1/chat/completions \"HTTP/1.1 200 OK\"\n"
     ]
    },
    {
     "name": "stdout",
     "output_type": "stream",
     "text": [
      "Tokens used: 751\n"
     ]
    },
    {
     "name": "stderr",
     "output_type": "stream",
     "text": [
      "2024-07-05 23:20:06,698 - INFO - HTTP Request: POST https://api.openai.com/v1/chat/completions \"HTTP/1.1 200 OK\"\n"
     ]
    },
    {
     "name": "stdout",
     "output_type": "stream",
     "text": [
      "Tokens used: 383\n"
     ]
    },
    {
     "name": "stderr",
     "output_type": "stream",
     "text": [
      "2024-07-05 23:20:08,278 - INFO - HTTP Request: POST https://api.openai.com/v1/chat/completions \"HTTP/1.1 200 OK\"\n"
     ]
    },
    {
     "name": "stdout",
     "output_type": "stream",
     "text": [
      "Tokens used: 806\n",
      "Game headphones, round 4\n"
     ]
    },
    {
     "name": "stderr",
     "output_type": "stream",
     "text": [
      "2024-07-05 23:20:09,952 - INFO - HTTP Request: POST https://api.openai.com/v1/chat/completions \"HTTP/1.1 200 OK\"\n"
     ]
    },
    {
     "name": "stdout",
     "output_type": "stream",
     "text": [
      "Tokens used: 620\n"
     ]
    },
    {
     "name": "stderr",
     "output_type": "stream",
     "text": [
      "2024-07-05 23:20:11,785 - INFO - HTTP Request: POST https://api.openai.com/v1/chat/completions \"HTTP/1.1 200 OK\"\n"
     ]
    },
    {
     "name": "stdout",
     "output_type": "stream",
     "text": [
      "Tokens used: 810\n"
     ]
    },
    {
     "name": "stderr",
     "output_type": "stream",
     "text": [
      "2024-07-05 23:20:12,763 - INFO - HTTP Request: POST https://api.openai.com/v1/chat/completions \"HTTP/1.1 200 OK\"\n"
     ]
    },
    {
     "name": "stdout",
     "output_type": "stream",
     "text": [
      "Tokens used: 401\n"
     ]
    },
    {
     "name": "stderr",
     "output_type": "stream",
     "text": [
      "2024-07-05 23:20:14,349 - INFO - HTTP Request: POST https://api.openai.com/v1/chat/completions \"HTTP/1.1 200 OK\"\n"
     ]
    },
    {
     "name": "stdout",
     "output_type": "stream",
     "text": [
      "Tokens used: 821\n",
      "Game headphones, round 5\n"
     ]
    },
    {
     "name": "stderr",
     "output_type": "stream",
     "text": [
      "2024-07-05 23:20:15,682 - INFO - HTTP Request: POST https://api.openai.com/v1/chat/completions \"HTTP/1.1 200 OK\"\n"
     ]
    },
    {
     "name": "stdout",
     "output_type": "stream",
     "text": [
      "Tokens used: 614\n"
     ]
    },
    {
     "name": "stderr",
     "output_type": "stream",
     "text": [
      "2024-07-05 23:20:17,718 - INFO - HTTP Request: POST https://api.openai.com/v1/chat/completions \"HTTP/1.1 200 OK\"\n"
     ]
    },
    {
     "name": "stdout",
     "output_type": "stream",
     "text": [
      "Tokens used: 821\n"
     ]
    },
    {
     "name": "stderr",
     "output_type": "stream",
     "text": [
      "2024-07-05 23:20:18,686 - INFO - HTTP Request: POST https://api.openai.com/v1/chat/completions \"HTTP/1.1 200 OK\"\n"
     ]
    },
    {
     "name": "stdout",
     "output_type": "stream",
     "text": [
      "Tokens used: 429\n"
     ]
    },
    {
     "name": "stderr",
     "output_type": "stream",
     "text": [
      "2024-07-05 23:20:20,856 - INFO - HTTP Request: POST https://api.openai.com/v1/chat/completions \"HTTP/1.1 200 OK\"\n"
     ]
    },
    {
     "name": "stdout",
     "output_type": "stream",
     "text": [
      "Tokens used: 842\n",
      "Game headphones, round 6\n"
     ]
    },
    {
     "name": "stderr",
     "output_type": "stream",
     "text": [
      "2024-07-05 23:20:22,080 - INFO - HTTP Request: POST https://api.openai.com/v1/chat/completions \"HTTP/1.1 200 OK\"\n"
     ]
    },
    {
     "name": "stdout",
     "output_type": "stream",
     "text": [
      "Tokens used: 624\n"
     ]
    },
    {
     "name": "stderr",
     "output_type": "stream",
     "text": [
      "2024-07-05 23:20:23,925 - INFO - HTTP Request: POST https://api.openai.com/v1/chat/completions \"HTTP/1.1 200 OK\"\n"
     ]
    },
    {
     "name": "stdout",
     "output_type": "stream",
     "text": [
      "Tokens used: 825\n"
     ]
    },
    {
     "name": "stderr",
     "output_type": "stream",
     "text": [
      "2024-07-05 23:20:25,749 - INFO - HTTP Request: POST https://api.openai.com/v1/chat/completions \"HTTP/1.1 200 OK\"\n"
     ]
    },
    {
     "name": "stdout",
     "output_type": "stream",
     "text": [
      "Tokens used: 442\n"
     ]
    },
    {
     "name": "stderr",
     "output_type": "stream",
     "text": [
      "2024-07-05 23:20:27,238 - INFO - HTTP Request: POST https://api.openai.com/v1/chat/completions \"HTTP/1.1 200 OK\"\n"
     ]
    },
    {
     "name": "stdout",
     "output_type": "stream",
     "text": [
      "Tokens used: 861\n",
      "Game headphones, round 7\n"
     ]
    },
    {
     "name": "stderr",
     "output_type": "stream",
     "text": [
      "2024-07-05 23:20:28,524 - INFO - HTTP Request: POST https://api.openai.com/v1/chat/completions \"HTTP/1.1 200 OK\"\n"
     ]
    },
    {
     "name": "stdout",
     "output_type": "stream",
     "text": [
      "Tokens used: 638\n"
     ]
    },
    {
     "name": "stderr",
     "output_type": "stream",
     "text": [
      "2024-07-05 23:20:30,358 - INFO - HTTP Request: POST https://api.openai.com/v1/chat/completions \"HTTP/1.1 200 OK\"\n"
     ]
    },
    {
     "name": "stdout",
     "output_type": "stream",
     "text": [
      "Tokens used: 842\n"
     ]
    },
    {
     "name": "stderr",
     "output_type": "stream",
     "text": [
      "2024-07-05 23:20:31,265 - INFO - HTTP Request: POST https://api.openai.com/v1/chat/completions \"HTTP/1.1 200 OK\"\n"
     ]
    },
    {
     "name": "stdout",
     "output_type": "stream",
     "text": [
      "Tokens used: 458\n"
     ]
    },
    {
     "name": "stderr",
     "output_type": "stream",
     "text": [
      "2024-07-05 23:20:32,871 - INFO - HTTP Request: POST https://api.openai.com/v1/chat/completions \"HTTP/1.1 200 OK\"\n"
     ]
    },
    {
     "name": "stdout",
     "output_type": "stream",
     "text": [
      "Tokens used: 890\n",
      "Game headphones, round 8\n"
     ]
    },
    {
     "name": "stderr",
     "output_type": "stream",
     "text": [
      "2024-07-05 23:20:34,256 - INFO - HTTP Request: POST https://api.openai.com/v1/chat/completions \"HTTP/1.1 200 OK\"\n"
     ]
    },
    {
     "name": "stdout",
     "output_type": "stream",
     "text": [
      "Tokens used: 651\n"
     ]
    },
    {
     "name": "stderr",
     "output_type": "stream",
     "text": [
      "2024-07-05 23:20:36,227 - INFO - HTTP Request: POST https://api.openai.com/v1/chat/completions \"HTTP/1.1 200 OK\"\n"
     ]
    },
    {
     "name": "stdout",
     "output_type": "stream",
     "text": [
      "Tokens used: 859\n"
     ]
    },
    {
     "name": "stderr",
     "output_type": "stream",
     "text": [
      "2024-07-05 23:20:37,176 - INFO - HTTP Request: POST https://api.openai.com/v1/chat/completions \"HTTP/1.1 200 OK\"\n"
     ]
    },
    {
     "name": "stdout",
     "output_type": "stream",
     "text": [
      "Tokens used: 481\n"
     ]
    },
    {
     "name": "stderr",
     "output_type": "stream",
     "text": [
      "2024-07-05 23:20:38,622 - INFO - HTTP Request: POST https://api.openai.com/v1/chat/completions \"HTTP/1.1 200 OK\"\n"
     ]
    },
    {
     "name": "stdout",
     "output_type": "stream",
     "text": [
      "Tokens used: 881\n",
      "Game headphones, round 9\n"
     ]
    },
    {
     "name": "stderr",
     "output_type": "stream",
     "text": [
      "2024-07-05 23:20:39,765 - INFO - HTTP Request: POST https://api.openai.com/v1/chat/completions \"HTTP/1.1 200 OK\"\n"
     ]
    },
    {
     "name": "stdout",
     "output_type": "stream",
     "text": [
      "Tokens used: 659\n"
     ]
    },
    {
     "name": "stderr",
     "output_type": "stream",
     "text": [
      "2024-07-05 23:20:41,943 - INFO - HTTP Request: POST https://api.openai.com/v1/chat/completions \"HTTP/1.1 200 OK\"\n"
     ]
    },
    {
     "name": "stdout",
     "output_type": "stream",
     "text": [
      "Tokens used: 873\n"
     ]
    },
    {
     "name": "stderr",
     "output_type": "stream",
     "text": [
      "2024-07-05 23:20:42,830 - INFO - HTTP Request: POST https://api.openai.com/v1/chat/completions \"HTTP/1.1 200 OK\"\n"
     ]
    },
    {
     "name": "stdout",
     "output_type": "stream",
     "text": [
      "Tokens used: 490\n"
     ]
    },
    {
     "name": "stderr",
     "output_type": "stream",
     "text": [
      "2024-07-05 23:20:44,475 - INFO - HTTP Request: POST https://api.openai.com/v1/chat/completions \"HTTP/1.1 200 OK\"\n"
     ]
    },
    {
     "name": "stdout",
     "output_type": "stream",
     "text": [
      "Tokens used: 924\n",
      "Game headphones, round 10\n"
     ]
    },
    {
     "name": "stderr",
     "output_type": "stream",
     "text": [
      "2024-07-05 23:20:45,858 - INFO - HTTP Request: POST https://api.openai.com/v1/chat/completions \"HTTP/1.1 200 OK\"\n"
     ]
    },
    {
     "name": "stdout",
     "output_type": "stream",
     "text": [
      "Tokens used: 680\n"
     ]
    },
    {
     "name": "stderr",
     "output_type": "stream",
     "text": [
      "2024-07-05 23:20:47,573 - INFO - HTTP Request: POST https://api.openai.com/v1/chat/completions \"HTTP/1.1 200 OK\"\n"
     ]
    },
    {
     "name": "stdout",
     "output_type": "stream",
     "text": [
      "Tokens used: 884\n"
     ]
    },
    {
     "name": "stderr",
     "output_type": "stream",
     "text": [
      "2024-07-05 23:20:48,554 - INFO - HTTP Request: POST https://api.openai.com/v1/chat/completions \"HTTP/1.1 200 OK\"\n"
     ]
    },
    {
     "name": "stdout",
     "output_type": "stream",
     "text": [
      "Tokens used: 527\n"
     ]
    },
    {
     "name": "stderr",
     "output_type": "stream",
     "text": [
      "2024-07-05 23:20:50,272 - INFO - HTTP Request: POST https://api.openai.com/v1/chat/completions \"HTTP/1.1 200 OK\"\n"
     ]
    },
    {
     "name": "stdout",
     "output_type": "stream",
     "text": [
      "Tokens used: 922\n",
      "Game headphones, round 11\n"
     ]
    },
    {
     "name": "stderr",
     "output_type": "stream",
     "text": [
      "2024-07-05 23:20:52,113 - INFO - HTTP Request: POST https://api.openai.com/v1/chat/completions \"HTTP/1.1 200 OK\"\n"
     ]
    },
    {
     "name": "stdout",
     "output_type": "stream",
     "text": [
      "Tokens used: 700\n"
     ]
    },
    {
     "name": "stderr",
     "output_type": "stream",
     "text": [
      "2024-07-05 23:20:53,989 - INFO - HTTP Request: POST https://api.openai.com/v1/chat/completions \"HTTP/1.1 200 OK\"\n"
     ]
    },
    {
     "name": "stdout",
     "output_type": "stream",
     "text": [
      "Tokens used: 908\n"
     ]
    },
    {
     "name": "stderr",
     "output_type": "stream",
     "text": [
      "2024-07-05 23:20:55,335 - INFO - HTTP Request: POST https://api.openai.com/v1/chat/completions \"HTTP/1.1 200 OK\"\n"
     ]
    },
    {
     "name": "stdout",
     "output_type": "stream",
     "text": [
      "Tokens used: 555\n"
     ]
    },
    {
     "name": "stderr",
     "output_type": "stream",
     "text": [
      "2024-07-05 23:20:56,767 - INFO - HTTP Request: POST https://api.openai.com/v1/chat/completions \"HTTP/1.1 200 OK\"\n"
     ]
    },
    {
     "name": "stdout",
     "output_type": "stream",
     "text": [
      "Tokens used: 943\n",
      "Game headphones, round 12\n"
     ]
    },
    {
     "name": "stderr",
     "output_type": "stream",
     "text": [
      "2024-07-05 23:20:58,072 - INFO - HTTP Request: POST https://api.openai.com/v1/chat/completions \"HTTP/1.1 200 OK\"\n"
     ]
    },
    {
     "name": "stdout",
     "output_type": "stream",
     "text": [
      "Tokens used: 709\n"
     ]
    },
    {
     "name": "stderr",
     "output_type": "stream",
     "text": [
      "2024-07-05 23:20:59,904 - INFO - HTTP Request: POST https://api.openai.com/v1/chat/completions \"HTTP/1.1 200 OK\"\n"
     ]
    },
    {
     "name": "stdout",
     "output_type": "stream",
     "text": [
      "Tokens used: 915\n"
     ]
    },
    {
     "name": "stderr",
     "output_type": "stream",
     "text": [
      "2024-07-05 23:21:00,889 - INFO - HTTP Request: POST https://api.openai.com/v1/chat/completions \"HTTP/1.1 200 OK\"\n"
     ]
    },
    {
     "name": "stdout",
     "output_type": "stream",
     "text": [
      "Tokens used: 547\n"
     ]
    },
    {
     "name": "stderr",
     "output_type": "stream",
     "text": [
      "2024-07-05 23:21:02,264 - INFO - HTTP Request: POST https://api.openai.com/v1/chat/completions \"HTTP/1.1 200 OK\"\n"
     ]
    },
    {
     "name": "stdout",
     "output_type": "stream",
     "text": [
      "Tokens used: 962\n",
      "Game headphones, round 13\n"
     ]
    },
    {
     "name": "stderr",
     "output_type": "stream",
     "text": [
      "2024-07-05 23:21:03,998 - INFO - HTTP Request: POST https://api.openai.com/v1/chat/completions \"HTTP/1.1 200 OK\"\n"
     ]
    },
    {
     "name": "stdout",
     "output_type": "stream",
     "text": [
      "Tokens used: 736\n"
     ]
    },
    {
     "name": "stderr",
     "output_type": "stream",
     "text": [
      "2024-07-05 23:21:05,684 - INFO - HTTP Request: POST https://api.openai.com/v1/chat/completions \"HTTP/1.1 200 OK\"\n"
     ]
    },
    {
     "name": "stdout",
     "output_type": "stream",
     "text": [
      "Tokens used: 913\n"
     ]
    },
    {
     "name": "stderr",
     "output_type": "stream",
     "text": [
      "2024-07-05 23:21:07,377 - INFO - HTTP Request: POST https://api.openai.com/v1/chat/completions \"HTTP/1.1 200 OK\"\n"
     ]
    },
    {
     "name": "stdout",
     "output_type": "stream",
     "text": [
      "Tokens used: 609\n"
     ]
    },
    {
     "name": "stderr",
     "output_type": "stream",
     "text": [
      "2024-07-05 23:21:09,354 - INFO - HTTP Request: POST https://api.openai.com/v1/chat/completions \"HTTP/1.1 200 OK\"\n"
     ]
    },
    {
     "name": "stdout",
     "output_type": "stream",
     "text": [
      "Tokens used: 981\n",
      "Game headphones, round 14\n"
     ]
    },
    {
     "name": "stderr",
     "output_type": "stream",
     "text": [
      "2024-07-05 23:21:11,061 - INFO - HTTP Request: POST https://api.openai.com/v1/chat/completions \"HTTP/1.1 200 OK\"\n"
     ]
    },
    {
     "name": "stdout",
     "output_type": "stream",
     "text": [
      "Tokens used: 752\n"
     ]
    },
    {
     "name": "stderr",
     "output_type": "stream",
     "text": [
      "2024-07-05 23:21:12,916 - INFO - HTTP Request: POST https://api.openai.com/v1/chat/completions \"HTTP/1.1 200 OK\"\n"
     ]
    },
    {
     "name": "stdout",
     "output_type": "stream",
     "text": [
      "Tokens used: 954\n"
     ]
    },
    {
     "name": "stderr",
     "output_type": "stream",
     "text": [
      "2024-07-05 23:21:14,442 - INFO - HTTP Request: POST https://api.openai.com/v1/chat/completions \"HTTP/1.1 200 OK\"\n"
     ]
    },
    {
     "name": "stdout",
     "output_type": "stream",
     "text": [
      "Tokens used: 625\n"
     ]
    },
    {
     "name": "stderr",
     "output_type": "stream",
     "text": [
      "2024-07-05 23:21:16,152 - INFO - HTTP Request: POST https://api.openai.com/v1/chat/completions \"HTTP/1.1 200 OK\"\n"
     ]
    },
    {
     "name": "stdout",
     "output_type": "stream",
     "text": [
      "Tokens used: 1004\n",
      "Game headphones, round 15\n"
     ]
    },
    {
     "name": "stderr",
     "output_type": "stream",
     "text": [
      "2024-07-05 23:21:17,910 - INFO - HTTP Request: POST https://api.openai.com/v1/chat/completions \"HTTP/1.1 200 OK\"\n"
     ]
    },
    {
     "name": "stdout",
     "output_type": "stream",
     "text": [
      "Tokens used: 735\n"
     ]
    },
    {
     "name": "stderr",
     "output_type": "stream",
     "text": [
      "2024-07-05 23:21:19,432 - INFO - HTTP Request: POST https://api.openai.com/v1/chat/completions \"HTTP/1.1 200 OK\"\n"
     ]
    },
    {
     "name": "stdout",
     "output_type": "stream",
     "text": [
      "Tokens used: 898\n"
     ]
    },
    {
     "name": "stderr",
     "output_type": "stream",
     "text": [
      "2024-07-05 23:21:20,329 - INFO - HTTP Request: POST https://api.openai.com/v1/chat/completions \"HTTP/1.1 200 OK\"\n"
     ]
    },
    {
     "name": "stdout",
     "output_type": "stream",
     "text": [
      "Tokens used: 595\n"
     ]
    },
    {
     "name": "stderr",
     "output_type": "stream",
     "text": [
      "2024-07-05 23:21:21,918 - INFO - HTTP Request: POST https://api.openai.com/v1/chat/completions \"HTTP/1.1 200 OK\"\n"
     ]
    },
    {
     "name": "stdout",
     "output_type": "stream",
     "text": [
      "Tokens used: 1021\n",
      "Game headphones, round 16\n"
     ]
    },
    {
     "name": "stderr",
     "output_type": "stream",
     "text": [
      "2024-07-05 23:21:23,110 - INFO - HTTP Request: POST https://api.openai.com/v1/chat/completions \"HTTP/1.1 200 OK\"\n"
     ]
    },
    {
     "name": "stdout",
     "output_type": "stream",
     "text": [
      "Tokens used: 746\n"
     ]
    },
    {
     "name": "stderr",
     "output_type": "stream",
     "text": [
      "2024-07-05 23:21:24,877 - INFO - HTTP Request: POST https://api.openai.com/v1/chat/completions \"HTTP/1.1 200 OK\"\n"
     ]
    },
    {
     "name": "stdout",
     "output_type": "stream",
     "text": [
      "Tokens used: 944\n"
     ]
    },
    {
     "name": "stderr",
     "output_type": "stream",
     "text": [
      "2024-07-05 23:21:25,857 - INFO - HTTP Request: POST https://api.openai.com/v1/chat/completions \"HTTP/1.1 200 OK\"\n"
     ]
    },
    {
     "name": "stdout",
     "output_type": "stream",
     "text": [
      "Tokens used: 618\n"
     ]
    },
    {
     "name": "stderr",
     "output_type": "stream",
     "text": [
      "2024-07-05 23:21:28,117 - INFO - HTTP Request: POST https://api.openai.com/v1/chat/completions \"HTTP/1.1 200 OK\"\n"
     ]
    },
    {
     "name": "stdout",
     "output_type": "stream",
     "text": [
      "Tokens used: 1058\n",
      "Game headphones, round 17\n"
     ]
    },
    {
     "name": "stderr",
     "output_type": "stream",
     "text": [
      "2024-07-05 23:21:30,006 - INFO - HTTP Request: POST https://api.openai.com/v1/chat/completions \"HTTP/1.1 200 OK\"\n"
     ]
    },
    {
     "name": "stdout",
     "output_type": "stream",
     "text": [
      "Tokens used: 797\n"
     ]
    },
    {
     "name": "stderr",
     "output_type": "stream",
     "text": [
      "2024-07-05 23:21:31,700 - INFO - HTTP Request: POST https://api.openai.com/v1/chat/completions \"HTTP/1.1 200 OK\"\n"
     ]
    },
    {
     "name": "stdout",
     "output_type": "stream",
     "text": [
      "Tokens used: 984\n"
     ]
    },
    {
     "name": "stderr",
     "output_type": "stream",
     "text": [
      "2024-07-05 23:21:32,787 - INFO - HTTP Request: POST https://api.openai.com/v1/chat/completions \"HTTP/1.1 200 OK\"\n"
     ]
    },
    {
     "name": "stdout",
     "output_type": "stream",
     "text": [
      "Tokens used: 632\n"
     ]
    },
    {
     "name": "stderr",
     "output_type": "stream",
     "text": [
      "2024-07-05 23:21:34,420 - INFO - HTTP Request: POST https://api.openai.com/v1/chat/completions \"HTTP/1.1 200 OK\"\n"
     ]
    },
    {
     "name": "stdout",
     "output_type": "stream",
     "text": [
      "Tokens used: 1077\n",
      "Game headphones, round 18\n"
     ]
    },
    {
     "name": "stderr",
     "output_type": "stream",
     "text": [
      "2024-07-05 23:21:35,852 - INFO - HTTP Request: POST https://api.openai.com/v1/chat/completions \"HTTP/1.1 200 OK\"\n"
     ]
    },
    {
     "name": "stdout",
     "output_type": "stream",
     "text": [
      "Tokens used: 783\n"
     ]
    },
    {
     "name": "stderr",
     "output_type": "stream",
     "text": [
      "2024-07-05 23:21:37,763 - INFO - HTTP Request: POST https://api.openai.com/v1/chat/completions \"HTTP/1.1 200 OK\"\n"
     ]
    },
    {
     "name": "stdout",
     "output_type": "stream",
     "text": [
      "Tokens used: 976\n"
     ]
    },
    {
     "name": "stderr",
     "output_type": "stream",
     "text": [
      "2024-07-05 23:21:39,206 - INFO - HTTP Request: POST https://api.openai.com/v1/chat/completions \"HTTP/1.1 200 OK\"\n"
     ]
    },
    {
     "name": "stdout",
     "output_type": "stream",
     "text": [
      "Tokens used: 690\n"
     ]
    },
    {
     "name": "stderr",
     "output_type": "stream",
     "text": [
      "2024-07-05 23:21:40,778 - INFO - HTTP Request: POST https://api.openai.com/v1/chat/completions \"HTTP/1.1 200 OK\"\n"
     ]
    },
    {
     "name": "stdout",
     "output_type": "stream",
     "text": [
      "Tokens used: 1078\n",
      "Game headphones, round 19\n"
     ]
    },
    {
     "name": "stderr",
     "output_type": "stream",
     "text": [
      "2024-07-05 23:21:42,573 - INFO - HTTP Request: POST https://api.openai.com/v1/chat/completions \"HTTP/1.1 200 OK\"\n"
     ]
    },
    {
     "name": "stdout",
     "output_type": "stream",
     "text": [
      "Tokens used: 805\n"
     ]
    },
    {
     "name": "stderr",
     "output_type": "stream",
     "text": [
      "2024-07-05 23:21:45,921 - INFO - HTTP Request: POST https://api.openai.com/v1/chat/completions \"HTTP/1.1 200 OK\"\n"
     ]
    },
    {
     "name": "stdout",
     "output_type": "stream",
     "text": [
      "Tokens used: 1024\n"
     ]
    },
    {
     "name": "stderr",
     "output_type": "stream",
     "text": [
      "2024-07-05 23:21:47,271 - INFO - HTTP Request: POST https://api.openai.com/v1/chat/completions \"HTTP/1.1 200 OK\"\n"
     ]
    },
    {
     "name": "stdout",
     "output_type": "stream",
     "text": [
      "Tokens used: 708\n"
     ]
    },
    {
     "name": "stderr",
     "output_type": "stream",
     "text": [
      "2024-07-05 23:21:48,852 - INFO - HTTP Request: POST https://api.openai.com/v1/chat/completions \"HTTP/1.1 200 OK\"\n"
     ]
    },
    {
     "name": "stdout",
     "output_type": "stream",
     "text": [
      "Tokens used: 1097\n"
     ]
    }
   ],
   "execution_count": 7
  },
  {
   "metadata": {
    "ExecuteTime": {
     "end_time": "2024-07-05T18:21:48.860181Z",
     "start_time": "2024-07-05T18:21:48.856667Z"
    }
   },
   "cell_type": "code",
   "source": "print(dataset[-1]['prompt'])",
   "id": "140f19775ef39b6a",
   "outputs": [
    {
     "name": "stdout",
     "output_type": "stream",
     "text": [
      "You are playing \"20 Questions\" game.\n",
      "    \n",
      "Here are the previous questions and answers:\n",
      "    Question: Is it a living thing? Answer: no Your guess: is it a place\n",
      "Question: Is it man-made? Answer: yes Your guess: eiffel tower\n",
      "Question: Is it commonly found in a household? Answer: yes Your guess: television\n",
      "Question: Is it electronic? Answer: yes Your guess: microwave oven\n",
      "Question: The best next question is: Does it have a screen? Answer: no Your guess: refrigerator\n",
      "Question: Is it used in the kitchen? Answer: no Your guess: vacuum cleaner\n",
      "Question: Is it used for cleaning? Answer: no Your guess: electric fan\n",
      "Question: Is it used for entertainment? Answer: yes Your guess: speaker\n",
      "Question: Is it used for listening to music? Answer: yes Your guess: radio\n",
      "Question: Is it portable? Answer: yes Your guess: mp3 player\n",
      "Question: Is it battery-operated? Answer: yes Your guess: portable speaker\n",
      "Question: Is it a type of speaker? Answer: no Your guess: mp3 player\n",
      "Question: Is it a type of headphones? Answer: yes Your guess: wireless headphones\n",
      "Question: Is it wireless? Answer: no Your guess: wired headphones\n",
      "Question: Is it over-ear headphones? Answer: no Your guess: earbuds\n",
      "Question: Is it in-ear headphones? Answer: yes Your guess: wired earbuds\n",
      "Question: Are they wired earbuds? Answer: yes Your guess: wired earphones\n",
      "Question: Are they commonly used with smartphones? Answer: yes Your guess: wired earphones\n",
      "Question: Are they noise-cancelling? Answer: no Your guess: wired in-ear headphones\n",
      "Question: Do they have a built-in microphone? Answer: yes\n",
      "\n",
      "\n",
      "You goal is to make a guess about the keyword given the history of questions and answers.\n",
      "History above contains previous guesses. When the guess is correct, the game stops. So, there's not reason to try a guess that was already made!\n",
      "Also, keep in mind that guess only counts if it's correct letter-by-letter. So, if you have strong reasons to believe that one of the previous guesses is correct, but was\n",
      "phrased differently - you can try to guess it again. \n",
      "Don't forget that some inconsistencies in answers can be caused by errors in the answering LLM.\n",
      "The keyword can consist of one or more words.\n",
      "\n",
      "Don't forget, that you should never guess whatever was already guessed before! You should always try new options to gain more information!\n",
      "Only output the same guess if there might be another accepted phrasing of the same keyword (which is usually the case when there are several words).\n",
      "\n",
      "Format your answer like this: First, reason about your decision for 2-4 sentences. Summarize what you know, summarize space of possibilities, etc.\n",
      "Then, your last line should be the keywords that you want to guess.\n",
      "Don't output anything else. Only output the keywords that you want to guess. Don't say anything like \"My guess is {keyword}\" - always just \"{keyword}\"\n",
      "\n"
     ]
    }
   ],
   "execution_count": 8
  },
  {
   "metadata": {
    "ExecuteTime": {
     "end_time": "2024-07-05T18:21:48.866625Z",
     "start_time": "2024-07-05T18:21:48.861685Z"
    }
   },
   "cell_type": "code",
   "source": "len(dataset)",
   "id": "10286507ca6b73e3",
   "outputs": [
    {
     "data": {
      "text/plain": [
       "120"
      ]
     },
     "execution_count": 9,
     "metadata": {},
     "output_type": "execute_result"
    }
   ],
   "execution_count": 9
  },
  {
   "metadata": {
    "ExecuteTime": {
     "end_time": "2024-07-05T17:49:08.500843Z",
     "start_time": "2024-07-05T17:49:08.498571Z"
    }
   },
   "cell_type": "code",
   "source": "",
   "id": "4a770e89280e6cec",
   "outputs": [],
   "execution_count": 10
  },
  {
   "metadata": {},
   "cell_type": "code",
   "outputs": [],
   "execution_count": null,
   "source": "",
   "id": "d09e0c3955e3c278"
  },
  {
   "metadata": {
    "ExecuteTime": {
     "end_time": "2024-07-05T17:43:41.996226Z",
     "start_time": "2024-07-05T17:43:41.993889Z"
    }
   },
   "cell_type": "code",
   "source": "",
   "id": "15c5446c87f26866",
   "outputs": [],
   "execution_count": 3
  },
  {
   "metadata": {
    "ExecuteTime": {
     "end_time": "2024-07-05T17:43:42.436983Z",
     "start_time": "2024-07-05T17:43:42.434474Z"
    }
   },
   "cell_type": "code",
   "source": "",
   "id": "29802ef411560fc",
   "outputs": [],
   "execution_count": 3
  },
  {
   "metadata": {},
   "cell_type": "code",
   "outputs": [],
   "execution_count": null,
   "source": "",
   "id": "8cc98361f0730a36"
  },
  {
   "metadata": {},
   "cell_type": "code",
   "outputs": [],
   "execution_count": null,
   "source": "",
   "id": "718d7e867d8bce41"
  },
  {
   "metadata": {
    "ExecuteTime": {
     "end_time": "2024-07-05T17:28:28.489819Z",
     "start_time": "2024-07-05T17:28:27.689159Z"
    }
   },
   "cell_type": "code",
   "source": "# response = await call_gpt4(client, \"Ask your first question\", temperature=0.1, request_type=\"test\", game_state=Game())",
   "id": "baa8e34cb57a767f",
   "outputs": [
    {
     "name": "stderr",
     "output_type": "stream",
     "text": [
      "2024-07-05 22:28:28,485 - INFO - HTTP Request: POST https://api.openai.com/v1/chat/completions \"HTTP/1.1 200 OK\"\n"
     ]
    },
    {
     "name": "stdout",
     "output_type": "stream",
     "text": [
      "Tokens used: ChatCompletion(id='chatcmpl-9hh1QZRBB34qJnlHokBjgNTuzzJ6N', choices=[Choice(finish_reason='stop', index=0, logprobs=None, message=ChatCompletionMessage(content='Is the keyword a place?', role='assistant', function_call=None, tool_calls=None))], created=1720200508, model='gpt-4o-2024-05-13', object='chat.completion', service_tier=None, system_fingerprint='fp_ce0793330f', usage=CompletionUsage(completion_tokens=6, prompt_tokens=380, total_tokens=386))\n"
     ]
    }
   ],
   "execution_count": 7
  },
  {
   "metadata": {},
   "cell_type": "code",
   "outputs": [],
   "execution_count": null,
   "source": "",
   "id": "49226cb347cb206"
  },
  {
   "metadata": {},
   "cell_type": "code",
   "outputs": [],
   "execution_count": null,
   "source": "",
   "id": "b6643ea5eefe3754"
  },
  {
   "metadata": {
    "ExecuteTime": {
     "end_time": "2024-07-05T17:43:44.257958Z",
     "start_time": "2024-07-05T17:43:44.252654Z"
    }
   },
   "cell_type": "code",
   "source": [
    "game = Game(\n",
    "    rounds=[\n",
    "        Round(\n",
    "            question=\"Is it a living object?\",\n",
    "            answer=\"yes\"\n",
    "        ),\n",
    "        Round(\n",
    "            question=\"Is it edible?\",\n",
    "            answer=\"yes\"\n",
    "        ),\n",
    "        Round(\n",
    "            question=\"Is it a fruit?\",\n",
    "            answer=\"no\"\n",
    "        ),\n",
    "        Round(\n",
    "            question=\"Is it an animal?\",\n",
    "            answer=\"no\"\n",
    "        ),\n",
    "        Round(\n",
    "            question=\"Is it a dairy product?\",\n",
    "            answer=\"no\"\n",
    "        ),\n",
    "        Round(\n",
    "            question=\"Is it a vegetable?\",\n",
    "            answer=\"yes\"\n",
    "        ),\n",
    "        Round(\n",
    "            question=\"Is it commonly green in color?\",\n",
    "            answer=\"no\"\n",
    "        ),\n",
    "        Round(\n",
    "            question=\"Is it commonly used in salads?\",\n",
    "            answer=\"no\",\n",
    "        ),\n",
    "        Round(\n",
    "            question=\"Is it commonly red in color?\",\n",
    "            answer=\"no\",\n",
    "        ),\n",
    "        Round(\n",
    "            question=\"Is it commonly cooked before eating?\",\n",
    "            answer=\"yes\",\n",
    "        ),\n",
    "        # Round(\n",
    "        #     question=\"Is it commonly used in soups?\",\n",
    "        #     answer=\"yes\",\n",
    "        #     guess=\"pumpkin\",\n",
    "        # ),\n",
    "        Round(\n",
    "            question=\"Is it commonly orange in color?\",\n",
    "            answer=\"yes\",\n",
    "            guess=\"carrot\"\n",
    "        )\n",
    "    ]\n",
    ")"
   ],
   "id": "7033f7371cee6fdf",
   "outputs": [],
   "execution_count": 4
  },
  {
   "metadata": {
    "ExecuteTime": {
     "end_time": "2024-07-05T17:43:44.673213Z",
     "start_time": "2024-07-05T17:43:44.670100Z"
    }
   },
   "cell_type": "code",
   "source": "",
   "id": "9a28a65b1357ad7a",
   "outputs": [],
   "execution_count": 4
  },
  {
   "metadata": {
    "ExecuteTime": {
     "end_time": "2024-07-05T17:43:47.827656Z",
     "start_time": "2024-07-05T17:43:44.911500Z"
    }
   },
   "cell_type": "code",
   "source": "candidates = await get_question_candidates(client, game)",
   "id": "172bce2308cc66cb",
   "outputs": [
    {
     "name": "stderr",
     "output_type": "stream",
     "text": [
      "2024-07-05 22:43:47,818 - INFO - HTTP Request: POST https://api.openai.com/v1/chat/completions \"HTTP/1.1 200 OK\"\n"
     ]
    },
    {
     "name": "stdout",
     "output_type": "stream",
     "text": [
      "Tokens used: 651\n"
     ]
    }
   ],
   "execution_count": 5
  },
  {
   "metadata": {
    "ExecuteTime": {
     "end_time": "2024-07-05T17:43:47.832421Z",
     "start_time": "2024-07-05T17:43:47.828807Z"
    }
   },
   "cell_type": "code",
   "source": "candidates",
   "id": "c9a4e020b0691c64",
   "outputs": [
    {
     "data": {
      "text/plain": [
       "['Is it commonly used in soups or stews? (60% - 40%)',\n",
       " 'Is it commonly used in desserts? (10% - 90%)',\n",
       " 'Is it a root vegetable? (80% - 20%)',\n",
       " 'Is it commonly used in baby food? (50% - 50%)',\n",
       " 'Is it commonly used in Asian cuisine? (40% - 60%)',\n",
       " 'Is it commonly used in Italian cuisine? (30% - 70%)',\n",
       " 'Is it high in beta-carotene? (90% - 10%)',\n",
       " 'Is it commonly used in juices? (20% - 80%)',\n",
       " 'Is it commonly used in Thanksgiving dishes? (70% - 30%)',\n",
       " 'Is it commonly used in French cuisine? (40% - 60%)']"
      ]
     },
     "execution_count": 6,
     "metadata": {},
     "output_type": "execute_result"
    }
   ],
   "execution_count": 6
  },
  {
   "metadata": {
    "ExecuteTime": {
     "end_time": "2024-07-05T16:09:08.391064Z",
     "start_time": "2024-07-05T16:09:05.347843Z"
    }
   },
   "cell_type": "code",
   "source": "candidates_scored = await get_question_candidates_scored(client, game, candidates)",
   "id": "e47b1f4e8331e7e",
   "outputs": [
    {
     "name": "stderr",
     "output_type": "stream",
     "text": [
      "2024-07-05 21:09:08,387 - INFO - HTTP Request: POST https://api.openai.com/v1/chat/completions \"HTTP/1.1 200 OK\"\n"
     ]
    }
   ],
   "execution_count": 138
  },
  {
   "metadata": {
    "ExecuteTime": {
     "end_time": "2024-07-05T16:09:08.773936Z",
     "start_time": "2024-07-05T16:09:08.392120Z"
    }
   },
   "cell_type": "code",
   "source": "candidates_scored",
   "id": "9128832a9ead5449",
   "outputs": [
    {
     "data": {
      "text/plain": [
       "['Is it a root vegetable? (90% - 10%)',\n",
       " 'Is it commonly used in making purees? (70% - 30%)',\n",
       " 'Is it commonly used in making baby food? (60% - 40%)',\n",
       " 'Is it commonly used in making juices? (20% - 80%)',\n",
       " 'Is it a tuber? (50% - 50%)',\n",
       " 'Is it commonly used in making pies? (40% - 60%)',\n",
       " 'Is it commonly used in making fries? (30% - 70%)',\n",
       " 'Is it commonly used in making casseroles? (50% - 50%)',\n",
       " 'Is it commonly used in making curries? (30% - 70%)',\n",
       " 'Is it commonly used in stews? (80% - 20%)']"
      ]
     },
     "execution_count": 139,
     "metadata": {},
     "output_type": "execute_result"
    }
   ],
   "execution_count": 139
  },
  {
   "metadata": {
    "ExecuteTime": {
     "end_time": "2024-07-05T16:09:11.415016Z",
     "start_time": "2024-07-05T16:09:08.775004Z"
    }
   },
   "cell_type": "code",
   "source": "reasoning, question = await pick_question(client, game, candidates_scored)",
   "id": "cf1387f7020a2158",
   "outputs": [
    {
     "name": "stderr",
     "output_type": "stream",
     "text": [
      "2024-07-05 21:09:11,411 - INFO - HTTP Request: POST https://api.openai.com/v1/chat/completions \"HTTP/1.1 200 OK\"\n"
     ]
    }
   ],
   "execution_count": 140
  },
  {
   "metadata": {
    "ExecuteTime": {
     "end_time": "2024-07-05T16:09:11.810767Z",
     "start_time": "2024-07-05T16:09:11.415016Z"
    }
   },
   "cell_type": "code",
   "source": "reasoning",
   "id": "39d81b27e32a43c6",
   "outputs": [
    {
     "data": {
      "text/plain": [
       "'We know that the object is an edible, non-fruit, non-animal, non-dairy vegetable that is not commonly green or red, is commonly cooked before eating, and is commonly used in soups and is orange in color. Given these constraints, the vegetable is likely to be something like a carrot or a pumpkin. To narrow it down further, we should ask a question that splits the remaining possibilities effectively. The question \"Is it a root vegetable?\" is highly informative because it will help us distinguish between root vegetables like carrots and non-root vegetables like pumpkins. '"
      ]
     },
     "execution_count": 141,
     "metadata": {},
     "output_type": "execute_result"
    }
   ],
   "execution_count": 141
  },
  {
   "metadata": {
    "ExecuteTime": {
     "end_time": "2024-07-05T16:09:12.237516Z",
     "start_time": "2024-07-05T16:09:11.811839Z"
    }
   },
   "cell_type": "code",
   "source": "question",
   "id": "71b180bff4e5a13a",
   "outputs": [
    {
     "data": {
      "text/plain": [
       "'Is it a root vegetable?'"
      ]
     },
     "execution_count": 142,
     "metadata": {},
     "output_type": "execute_result"
    }
   ],
   "execution_count": 142
  },
  {
   "metadata": {
    "ExecuteTime": {
     "end_time": "2024-07-05T16:09:14.445586Z",
     "start_time": "2024-07-05T16:09:12.239554Z"
    }
   },
   "cell_type": "code",
   "source": "reasoning, guessed_keyword = await guess(client, game)",
   "id": "cda494da97bb6f3",
   "outputs": [
    {
     "name": "stderr",
     "output_type": "stream",
     "text": [
      "2024-07-05 21:09:14,441 - INFO - HTTP Request: POST https://api.openai.com/v1/chat/completions \"HTTP/1.1 200 OK\"\n"
     ]
    }
   ],
   "execution_count": 143
  },
  {
   "metadata": {
    "ExecuteTime": {
     "end_time": "2024-07-05T16:09:14.837618Z",
     "start_time": "2024-07-05T16:09:14.446648Z"
    }
   },
   "cell_type": "code",
   "source": "print(reasoning)",
   "id": "162c94a709859446",
   "outputs": [
    {
     "name": "stdout",
     "output_type": "stream",
     "text": [
      "The keyword is a vegetable that is not green or red, is commonly cooked before eating, and is often used in soups. It is also commonly orange in color. Given these characteristics, and considering that both pumpkin and carrot have been guessed already, another common orange vegetable that fits these criteria is sweet potato. \n"
     ]
    }
   ],
   "execution_count": 144
  },
  {
   "metadata": {
    "ExecuteTime": {
     "end_time": "2024-07-05T16:09:15.234999Z",
     "start_time": "2024-07-05T16:09:14.838678Z"
    }
   },
   "cell_type": "code",
   "source": "guessed_keyword",
   "id": "cd4ed5cb994835ce",
   "outputs": [
    {
     "data": {
      "text/plain": [
       "'sweet potato'"
      ]
     },
     "execution_count": 145,
     "metadata": {},
     "output_type": "execute_result"
    }
   ],
   "execution_count": 145
  },
  {
   "metadata": {
    "ExecuteTime": {
     "end_time": "2024-07-05T16:28:51.706716Z",
     "start_time": "2024-07-05T16:28:49.789217Z"
    }
   },
   "cell_type": "code",
   "source": "reasoning, answer_str = await answer(client, game, \"carrot\", \"Is it commonly used in sex?\")",
   "id": "410b07cb1212e85a",
   "outputs": [
    {
     "name": "stderr",
     "output_type": "stream",
     "text": [
      "2024-07-05 21:28:51,702 - INFO - HTTP Request: POST https://api.openai.com/v1/chat/completions \"HTTP/1.1 200 OK\"\n"
     ]
    }
   ],
   "execution_count": 153
  },
  {
   "metadata": {
    "ExecuteTime": {
     "end_time": "2024-07-05T16:28:52.172223Z",
     "start_time": "2024-07-05T16:28:51.707721Z"
    }
   },
   "cell_type": "code",
   "source": "print(reasoning)",
   "id": "79eda02b0091bf23",
   "outputs": [
    {
     "name": "stdout",
     "output_type": "stream",
     "text": [
      "Carrots are not commonly associated with sexual use. While there might be rare instances or jokes about it, it is not a common or typical use for carrots. \n"
     ]
    }
   ],
   "execution_count": 154
  },
  {
   "metadata": {
    "ExecuteTime": {
     "end_time": "2024-07-05T16:28:56.222444Z",
     "start_time": "2024-07-05T16:28:55.731729Z"
    }
   },
   "cell_type": "code",
   "source": "print(answer_str)",
   "id": "849bee56715a5d04",
   "outputs": [
    {
     "name": "stdout",
     "output_type": "stream",
     "text": [
      "no\n"
     ]
    }
   ],
   "execution_count": 156
  },
  {
   "metadata": {
    "ExecuteTime": {
     "end_time": "2024-07-05T16:28:14.756720Z",
     "start_time": "2024-07-05T16:28:14.752972Z"
    }
   },
   "cell_type": "code",
   "source": "",
   "id": "4353dc30ebd42e6",
   "outputs": [],
   "execution_count": 150
  },
  {
   "metadata": {
    "ExecuteTime": {
     "end_time": "2024-07-05T16:28:14.762914Z",
     "start_time": "2024-07-05T16:28:14.758728Z"
    }
   },
   "cell_type": "code",
   "source": "",
   "id": "ca600fff2e30534a",
   "outputs": [],
   "execution_count": 150
  },
  {
   "metadata": {
    "ExecuteTime": {
     "end_time": "2024-07-05T16:28:14.769160Z",
     "start_time": "2024-07-05T16:28:14.764923Z"
    }
   },
   "cell_type": "code",
   "source": "",
   "id": "804eeab06209ee57",
   "outputs": [],
   "execution_count": 150
  },
  {
   "metadata": {
    "ExecuteTime": {
     "end_time": "2024-07-05T16:29:09.359062Z",
     "start_time": "2024-07-05T16:29:09.355250Z"
    }
   },
   "cell_type": "code",
   "source": "",
   "id": "126b35613abd8f2d",
   "outputs": [],
   "execution_count": 156
  },
  {
   "metadata": {
    "ExecuteTime": {
     "end_time": "2024-07-05T16:29:09.544631Z",
     "start_time": "2024-07-05T16:29:09.541754Z"
    }
   },
   "cell_type": "code",
   "source": "",
   "id": "2615d3c283b11057",
   "outputs": [],
   "execution_count": 156
  },
  {
   "metadata": {
    "ExecuteTime": {
     "end_time": "2024-07-05T16:29:09.699534Z",
     "start_time": "2024-07-05T16:29:09.695512Z"
    }
   },
   "cell_type": "code",
   "source": "",
   "id": "5963796c10270c",
   "outputs": [],
   "execution_count": 156
  },
  {
   "metadata": {},
   "cell_type": "code",
   "outputs": [],
   "execution_count": null,
   "source": "",
   "id": "13452ed037a86d73"
  }
 ],
 "metadata": {
  "kernelspec": {
   "display_name": "Python 3",
   "language": "python",
   "name": "python3"
  },
  "language_info": {
   "codemirror_mode": {
    "name": "ipython",
    "version": 2
   },
   "file_extension": ".py",
   "mimetype": "text/x-python",
   "name": "python",
   "nbconvert_exporter": "python",
   "pygments_lexer": "ipython2",
   "version": "2.7.6"
  }
 },
 "nbformat": 4,
 "nbformat_minor": 5
}
