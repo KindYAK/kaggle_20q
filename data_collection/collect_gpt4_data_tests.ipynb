{
 "cells": [
  {
   "cell_type": "code",
   "id": "initial_id",
   "metadata": {
    "collapsed": true
   },
   "source": [
    "# Just some tests\n",
    "\n",
    "%reload_ext autoreload\n",
    "%autoreload 2\n",
    "%autoreload now\n",
    "import logging\n",
    "\n",
    "from data_collection.generate_snapshot import generate_snapshot\n",
    "from data_collection.models import Game, Round\n",
    "from data_collection.questions_candidates import get_question_candidates\n",
    "from data_collection.questions_pick import pick_question\n",
    "from data_collection.semaphore import set_semaphore\n",
    "from data_collection.guess import guess\n",
    "from data_collection.answer import answer\n",
    "from data_collection.simulate_game import run_game\n",
    "\n",
    "\n",
    "logging.basicConfig(level=logging.INFO, format='%(asctime)s - %(levelname)s - %(message)s')\n",
    "\n",
    "from dotenv import load_dotenv\n",
    "from openai import AsyncOpenAI\n",
    "\n",
    "from data_collection.utils import call_gpt4, dataset\n",
    "\n",
    "load_dotenv()"
   ],
   "outputs": [],
   "execution_count": null
  },
  {
   "metadata": {},
   "cell_type": "code",
   "source": "set_semaphore(\"gpt-4\", 10)",
   "id": "8853b544b39c772",
   "outputs": [],
   "execution_count": null
  },
  {
   "metadata": {},
   "cell_type": "code",
   "source": "client = AsyncOpenAI()",
   "id": "6b07c50e4cb7642e",
   "outputs": [],
   "execution_count": null
  },
  {
   "metadata": {},
   "cell_type": "code",
   "source": "",
   "id": "8868fe19cd5aeb0",
   "outputs": [],
   "execution_count": null
  },
  {
   "metadata": {},
   "cell_type": "code",
   "source": [
    "import pickle\n",
    "\n",
    "keywords_by_category = pickle.load(open(\"../keywords_by_category.pkl\", \"rb\"))"
   ],
   "id": "1497f8e4f6f3a360",
   "outputs": [],
   "execution_count": null
  },
  {
   "metadata": {},
   "cell_type": "code",
   "source": [
    "for cat, kws in keywords_by_category.items():\n",
    "    print(\"!!! Category\", cat)\n",
    "    for kw in kws.keyword:\n",
    "        print(kw)"
   ],
   "id": "99cc886f4872a159",
   "outputs": [],
   "execution_count": null
  },
  {
   "metadata": {},
   "cell_type": "code",
   "source": "",
   "id": "5efdf6e571b460b5",
   "outputs": [],
   "execution_count": null
  },
  {
   "metadata": {},
   "cell_type": "code",
   "source": [
    "# {\n",
    "#         \"things\": 100,\n",
    "#         \"city\": 40,\n",
    "#         \"country\": 20,\n",
    "#         \"landmark\": 40,\n",
    "#     }"
   ],
   "id": "e2c58c2a0eb6da69",
   "outputs": [],
   "execution_count": null
  },
  {
   "metadata": {},
   "cell_type": "code",
   "source": "generated = await generate_snapshot(client, \"ice tea\")",
   "id": "3e7a36dd49fb9b0e",
   "outputs": [],
   "execution_count": null
  },
  {
   "metadata": {},
   "cell_type": "code",
   "source": "print(generated[0])",
   "id": "2dfbd024be8e63da",
   "outputs": [],
   "execution_count": null
  },
  {
   "metadata": {},
   "cell_type": "code",
   "source": "",
   "id": "3397050fc4395522",
   "outputs": [],
   "execution_count": null
  },
  {
   "metadata": {},
   "cell_type": "code",
   "source": "",
   "id": "5be580c434a590b0",
   "outputs": [],
   "execution_count": null
  },
  {
   "metadata": {},
   "cell_type": "code",
   "source": "",
   "id": "3506ae4fcd368d98",
   "outputs": [],
   "execution_count": null
  },
  {
   "metadata": {},
   "cell_type": "code",
   "source": "",
   "id": "9b324e20be1545a",
   "outputs": [],
   "execution_count": null
  },
  {
   "metadata": {},
   "cell_type": "code",
   "source": "",
   "id": "e3035305d6c54de7",
   "outputs": [],
   "execution_count": null
  },
  {
   "metadata": {},
   "cell_type": "code",
   "source": "game = await run_game(client, \"headphones\")",
   "id": "b65184d509c8e9fe",
   "outputs": [],
   "execution_count": null
  },
  {
   "metadata": {},
   "cell_type": "code",
   "source": "print(dataset[-1]['prompt'])",
   "id": "140f19775ef39b6a",
   "outputs": [],
   "execution_count": null
  },
  {
   "metadata": {},
   "cell_type": "code",
   "source": "len(dataset)",
   "id": "10286507ca6b73e3",
   "outputs": [],
   "execution_count": null
  },
  {
   "metadata": {},
   "cell_type": "code",
   "source": "",
   "id": "4a770e89280e6cec",
   "outputs": [],
   "execution_count": null
  },
  {
   "metadata": {},
   "cell_type": "code",
   "source": "",
   "id": "d09e0c3955e3c278",
   "outputs": [],
   "execution_count": null
  },
  {
   "metadata": {},
   "cell_type": "code",
   "source": "",
   "id": "15c5446c87f26866",
   "outputs": [],
   "execution_count": null
  },
  {
   "metadata": {},
   "cell_type": "code",
   "source": "",
   "id": "29802ef411560fc",
   "outputs": [],
   "execution_count": null
  },
  {
   "metadata": {},
   "cell_type": "code",
   "source": "",
   "id": "8cc98361f0730a36",
   "outputs": [],
   "execution_count": null
  },
  {
   "metadata": {},
   "cell_type": "code",
   "source": "",
   "id": "718d7e867d8bce41",
   "outputs": [],
   "execution_count": null
  },
  {
   "metadata": {},
   "cell_type": "code",
   "source": "# response = await call_gpt4(client, \"Ask your first question\", temperature=0.1, request_type=\"test\", game_state=Game())",
   "id": "baa8e34cb57a767f",
   "outputs": [],
   "execution_count": null
  },
  {
   "metadata": {},
   "cell_type": "code",
   "source": "",
   "id": "49226cb347cb206",
   "outputs": [],
   "execution_count": null
  },
  {
   "metadata": {},
   "cell_type": "code",
   "source": "",
   "id": "b6643ea5eefe3754",
   "outputs": [],
   "execution_count": null
  },
  {
   "metadata": {},
   "cell_type": "code",
   "source": [
    "game = Game(\n",
    "    rounds=[\n",
    "        Round(\n",
    "            question=\"Is it a living object?\",\n",
    "            answer=\"yes\"\n",
    "        ),\n",
    "        Round(\n",
    "            question=\"Is it edible?\",\n",
    "            answer=\"yes\"\n",
    "        ),\n",
    "        Round(\n",
    "            question=\"Is it a fruit?\",\n",
    "            answer=\"no\"\n",
    "        ),\n",
    "        Round(\n",
    "            question=\"Is it an animal?\",\n",
    "            answer=\"no\"\n",
    "        ),\n",
    "        Round(\n",
    "            question=\"Is it a dairy product?\",\n",
    "            answer=\"no\"\n",
    "        ),\n",
    "        Round(\n",
    "            question=\"Is it a vegetable?\",\n",
    "            answer=\"yes\"\n",
    "        ),\n",
    "        Round(\n",
    "            question=\"Is it commonly green in color?\",\n",
    "            answer=\"no\"\n",
    "        ),\n",
    "        Round(\n",
    "            question=\"Is it commonly used in salads?\",\n",
    "            answer=\"no\",\n",
    "        ),\n",
    "        Round(\n",
    "            question=\"Is it commonly red in color?\",\n",
    "            answer=\"no\",\n",
    "        ),\n",
    "        Round(\n",
    "            question=\"Is it commonly cooked before eating?\",\n",
    "            answer=\"yes\",\n",
    "        ),\n",
    "        # Round(\n",
    "        #     question=\"Is it commonly used in soups?\",\n",
    "        #     answer=\"yes\",\n",
    "        #     guess=\"pumpkin\",\n",
    "        # ),\n",
    "        Round(\n",
    "            question=\"Is it commonly orange in color?\",\n",
    "            answer=\"yes\",\n",
    "            guess=\"carrot\"\n",
    "        )\n",
    "    ]\n",
    ")"
   ],
   "id": "7033f7371cee6fdf",
   "outputs": [],
   "execution_count": null
  },
  {
   "metadata": {},
   "cell_type": "code",
   "source": "",
   "id": "9a28a65b1357ad7a",
   "outputs": [],
   "execution_count": null
  },
  {
   "metadata": {},
   "cell_type": "code",
   "source": "candidates = await get_question_candidates(client, game)",
   "id": "172bce2308cc66cb",
   "outputs": [],
   "execution_count": null
  },
  {
   "metadata": {},
   "cell_type": "code",
   "source": "candidates",
   "id": "c9a4e020b0691c64",
   "outputs": [],
   "execution_count": null
  },
  {
   "metadata": {},
   "cell_type": "code",
   "source": "candidates_scored = await get_question_candidates_scored(client, game, candidates)",
   "id": "e47b1f4e8331e7e",
   "outputs": [],
   "execution_count": null
  },
  {
   "metadata": {},
   "cell_type": "code",
   "source": "candidates_scored",
   "id": "9128832a9ead5449",
   "outputs": [],
   "execution_count": null
  },
  {
   "metadata": {},
   "cell_type": "code",
   "source": "reasoning, question = await pick_question(client, game, candidates_scored)",
   "id": "cf1387f7020a2158",
   "outputs": [],
   "execution_count": null
  },
  {
   "metadata": {},
   "cell_type": "code",
   "source": "reasoning",
   "id": "39d81b27e32a43c6",
   "outputs": [],
   "execution_count": null
  },
  {
   "metadata": {},
   "cell_type": "code",
   "source": "question",
   "id": "71b180bff4e5a13a",
   "outputs": [],
   "execution_count": null
  },
  {
   "metadata": {},
   "cell_type": "code",
   "source": "reasoning, guessed_keyword = await guess(client, game)",
   "id": "cda494da97bb6f3",
   "outputs": [],
   "execution_count": null
  },
  {
   "metadata": {},
   "cell_type": "code",
   "source": "print(reasoning)",
   "id": "162c94a709859446",
   "outputs": [],
   "execution_count": null
  },
  {
   "metadata": {},
   "cell_type": "code",
   "source": "guessed_keyword",
   "id": "cd4ed5cb994835ce",
   "outputs": [],
   "execution_count": null
  },
  {
   "metadata": {},
   "cell_type": "code",
   "source": "reasoning, answer_str = await answer(client, game, \"carrot\", \"Is it commonly used in sex?\")",
   "id": "410b07cb1212e85a",
   "outputs": [],
   "execution_count": null
  },
  {
   "metadata": {},
   "cell_type": "code",
   "source": "print(reasoning)",
   "id": "79eda02b0091bf23",
   "outputs": [],
   "execution_count": null
  },
  {
   "metadata": {},
   "cell_type": "code",
   "source": "print(answer_str)",
   "id": "849bee56715a5d04",
   "outputs": [],
   "execution_count": null
  },
  {
   "metadata": {},
   "cell_type": "code",
   "source": "",
   "id": "4353dc30ebd42e6",
   "outputs": [],
   "execution_count": null
  },
  {
   "metadata": {},
   "cell_type": "code",
   "source": "",
   "id": "ca600fff2e30534a",
   "outputs": [],
   "execution_count": null
  },
  {
   "metadata": {},
   "cell_type": "code",
   "source": "",
   "id": "804eeab06209ee57",
   "outputs": [],
   "execution_count": null
  },
  {
   "metadata": {},
   "cell_type": "code",
   "source": "",
   "id": "126b35613abd8f2d",
   "outputs": [],
   "execution_count": null
  },
  {
   "metadata": {},
   "cell_type": "code",
   "source": "",
   "id": "2615d3c283b11057",
   "outputs": [],
   "execution_count": null
  },
  {
   "metadata": {},
   "cell_type": "code",
   "source": "",
   "id": "5963796c10270c",
   "outputs": [],
   "execution_count": null
  },
  {
   "metadata": {},
   "cell_type": "code",
   "source": "",
   "id": "13452ed037a86d73",
   "outputs": [],
   "execution_count": null
  }
 ],
 "metadata": {
  "kernelspec": {
   "display_name": "Python 3",
   "language": "python",
   "name": "python3"
  },
  "language_info": {
   "codemirror_mode": {
    "name": "ipython",
    "version": 2
   },
   "file_extension": ".py",
   "mimetype": "text/x-python",
   "name": "python",
   "nbconvert_exporter": "python",
   "pygments_lexer": "ipython2",
   "version": "2.7.6"
  }
 },
 "nbformat": 4,
 "nbformat_minor": 5
}
