{
 "cells": [
  {
   "cell_type": "code",
   "id": "initial_id",
   "metadata": {
    "collapsed": true,
    "ExecuteTime": {
     "end_time": "2024-07-24T08:47:15.988355Z",
     "start_time": "2024-07-24T08:47:11.943422Z"
    }
   },
   "source": [
    "import pandas as pd\n",
    "import json\n",
    "import pickle\n",
    "pd.set_option('display.max_rows', 500)"
   ],
   "outputs": [],
   "execution_count": 1
  },
  {
   "metadata": {
    "ExecuteTime": {
     "end_time": "2024-07-24T08:47:16.011735Z",
     "start_time": "2024-07-24T08:47:15.990363Z"
    }
   },
   "cell_type": "code",
   "source": "keywords_by_category = pickle.load(open(\"../keywords_by_category.pkl\", \"rb\"))",
   "id": "c10d1baee76f1216",
   "outputs": [],
   "execution_count": 2
  },
  {
   "metadata": {
    "ExecuteTime": {
     "end_time": "2024-07-24T08:47:16.019875Z",
     "start_time": "2024-07-24T08:47:16.012745Z"
    }
   },
   "cell_type": "code",
   "source": [
    "dfs = keywords_by_category.values()\n",
    "df = pd.concat(dfs)"
   ],
   "id": "aebf8cd21ccc2b60",
   "outputs": [],
   "execution_count": 3
  },
  {
   "metadata": {
    "ExecuteTime": {
     "end_time": "2024-07-24T08:47:16.030483Z",
     "start_time": "2024-07-24T08:47:16.021887Z"
    }
   },
   "cell_type": "code",
   "source": "kws = set([i.lower() for i in df.keyword])",
   "id": "b5d506bbe19e9dab",
   "outputs": [],
   "execution_count": 4
  },
  {
   "metadata": {
    "ExecuteTime": {
     "end_time": "2024-07-24T08:54:11.946034Z",
     "start_time": "2024-07-24T08:54:11.943827Z"
    }
   },
   "cell_type": "code",
   "source": "",
   "id": "f939d2e697b270f9",
   "outputs": [],
   "execution_count": 7
  },
  {
   "metadata": {
    "ExecuteTime": {
     "end_time": "2024-07-24T08:55:58.352171Z",
     "start_time": "2024-07-24T08:55:58.346834Z"
    }
   },
   "cell_type": "code",
   "source": [
    "train_set = [\n",
    "    {\n",
    "        \"keyword\": kw,\n",
    "        \"difficulty\": \"easy\",\n",
    "        \"category\": \"train\"\n",
    "    } for kw in kws\n",
    "]"
   ],
   "id": "10d430380244b0",
   "outputs": [],
   "execution_count": 8
  },
  {
   "metadata": {
    "ExecuteTime": {
     "end_time": "2024-07-24T08:56:09.381217Z",
     "start_time": "2024-07-24T08:56:09.362374Z"
    }
   },
   "cell_type": "code",
   "source": "json.dump(train_set, open(\"train_set.json\", \"w\"))",
   "id": "692ce3a251623070",
   "outputs": [],
   "execution_count": 9
  },
  {
   "metadata": {},
   "cell_type": "code",
   "outputs": [],
   "execution_count": null,
   "source": "",
   "id": "9d66d722adaa6e58"
  },
  {
   "metadata": {
    "ExecuteTime": {
     "end_time": "2024-07-16T10:03:57.029243Z",
     "start_time": "2024-07-16T10:03:57.023479Z"
    }
   },
   "cell_type": "code",
   "source": "eval_set = json.load(open(\"eval_set.json\", \"r\"))",
   "id": "afae33a44954c4ae",
   "outputs": [],
   "execution_count": 29
  },
  {
   "metadata": {
    "ExecuteTime": {
     "end_time": "2024-07-16T10:03:57.189977Z",
     "start_time": "2024-07-16T10:03:57.183657Z"
    }
   },
   "cell_type": "code",
   "source": [
    "print(len(eval_set))\n",
    "eval_set = [d for d in eval_set if d['keyword'].lower() not in kws]\n",
    "print(len(eval_set))"
   ],
   "id": "3b48e5a7d6a92672",
   "outputs": [
    {
     "name": "stdout",
     "output_type": "stream",
     "text": [
      "180\n",
      "139\n"
     ]
    }
   ],
   "execution_count": 30
  },
  {
   "metadata": {
    "ExecuteTime": {
     "end_time": "2024-07-16T10:04:30.962922Z",
     "start_time": "2024-07-16T10:04:30.956607Z"
    }
   },
   "cell_type": "code",
   "source": "json.dump(eval_set, open(\"eval_set.json\", \"w\"))",
   "id": "c9e7b4fecf4e14c",
   "outputs": [],
   "execution_count": 34
  },
  {
   "metadata": {
    "ExecuteTime": {
     "end_time": "2024-07-16T10:04:00.080118Z",
     "start_time": "2024-07-16T10:04:00.074826Z"
    }
   },
   "cell_type": "code",
   "source": "dfe = pd.DataFrame(eval_set)",
   "id": "567b3e1530dff476",
   "outputs": [],
   "execution_count": 31
  },
  {
   "metadata": {
    "ExecuteTime": {
     "end_time": "2024-07-16T10:04:00.339112Z",
     "start_time": "2024-07-16T10:04:00.334592Z"
    }
   },
   "cell_type": "code",
   "source": "",
   "id": "59677498fbc7c5d",
   "outputs": [],
   "execution_count": 31
  },
  {
   "metadata": {
    "ExecuteTime": {
     "end_time": "2024-07-16T10:04:00.494781Z",
     "start_time": "2024-07-16T10:04:00.491415Z"
    }
   },
   "cell_type": "code",
   "source": "",
   "id": "869fe01571e7c897",
   "outputs": [],
   "execution_count": 31
  },
  {
   "metadata": {
    "ExecuteTime": {
     "end_time": "2024-07-16T10:04:00.669653Z",
     "start_time": "2024-07-16T10:04:00.660604Z"
    }
   },
   "cell_type": "code",
   "source": "dfe.category.value_counts()",
   "id": "328f3f81e7c29479",
   "outputs": [
    {
     "data": {
      "text/plain": [
       "category\n",
       "Profession            15\n",
       "Musical Instrument    14\n",
       "Landmark              14\n",
       "Things                14\n",
       "Sport                 13\n",
       "Literature            13\n",
       "Animal                12\n",
       "Plant                 11\n",
       "Technology            11\n",
       "City                  11\n",
       "Food                  10\n",
       "Country                1\n",
       "Name: count, dtype: int64"
      ]
     },
     "execution_count": 32,
     "metadata": {},
     "output_type": "execute_result"
    }
   ],
   "execution_count": 32
  },
  {
   "metadata": {
    "ExecuteTime": {
     "end_time": "2024-07-16T10:04:01.320772Z",
     "start_time": "2024-07-16T10:04:01.313492Z"
    }
   },
   "cell_type": "code",
   "source": "dfe.difficulty.value_counts()",
   "id": "5dd4b33a0c49dc2",
   "outputs": [
    {
     "data": {
      "text/plain": [
       "difficulty\n",
       "Hard      53\n",
       "Medium    49\n",
       "Easy      37\n",
       "Name: count, dtype: int64"
      ]
     },
     "execution_count": 33,
     "metadata": {},
     "output_type": "execute_result"
    }
   ],
   "execution_count": 33
  },
  {
   "metadata": {
    "ExecuteTime": {
     "end_time": "2024-07-16T10:01:47.600585Z",
     "start_time": "2024-07-16T10:01:47.597399Z"
    }
   },
   "cell_type": "code",
   "source": "",
   "id": "8472440bc4809c8e",
   "outputs": [],
   "execution_count": 24
  },
  {
   "metadata": {
    "ExecuteTime": {
     "end_time": "2024-07-16T10:01:47.746416Z",
     "start_time": "2024-07-16T10:01:47.743976Z"
    }
   },
   "cell_type": "code",
   "source": "",
   "id": "c63a9aeacc9f268a",
   "outputs": [],
   "execution_count": 24
  },
  {
   "metadata": {
    "ExecuteTime": {
     "end_time": "2024-07-16T10:01:47.904571Z",
     "start_time": "2024-07-16T10:01:47.900689Z"
    }
   },
   "cell_type": "code",
   "source": "",
   "id": "128b57dc78a69c87",
   "outputs": [],
   "execution_count": 24
  },
  {
   "metadata": {
    "ExecuteTime": {
     "end_time": "2024-07-16T10:01:48.047183Z",
     "start_time": "2024-07-16T10:01:48.044669Z"
    }
   },
   "cell_type": "code",
   "source": "",
   "id": "c632e20802ebbafb",
   "outputs": [],
   "execution_count": 24
  },
  {
   "metadata": {
    "ExecuteTime": {
     "end_time": "2024-07-16T10:01:48.208609Z",
     "start_time": "2024-07-16T10:01:48.205677Z"
    }
   },
   "cell_type": "code",
   "source": "",
   "id": "6c74de65b271fd44",
   "outputs": [],
   "execution_count": 24
  },
  {
   "metadata": {
    "ExecuteTime": {
     "end_time": "2024-07-16T10:01:48.344936Z",
     "start_time": "2024-07-16T10:01:48.341930Z"
    }
   },
   "cell_type": "code",
   "source": "",
   "id": "40975eac30bbb7af",
   "outputs": [],
   "execution_count": 24
  },
  {
   "metadata": {},
   "cell_type": "code",
   "outputs": [],
   "execution_count": null,
   "source": "",
   "id": "6eee9b2441705cc3"
  }
 ],
 "metadata": {
  "kernelspec": {
   "display_name": "Python 3",
   "language": "python",
   "name": "python3"
  },
  "language_info": {
   "codemirror_mode": {
    "name": "ipython",
    "version": 2
   },
   "file_extension": ".py",
   "mimetype": "text/x-python",
   "name": "python",
   "nbconvert_exporter": "python",
   "pygments_lexer": "ipython2",
   "version": "2.7.6"
  }
 },
 "nbformat": 4,
 "nbformat_minor": 5
}
