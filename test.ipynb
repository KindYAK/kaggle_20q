{
 "cells": [
  {
   "cell_type": "code",
   "id": "initial_id",
   "metadata": {
    "collapsed": true,
    "ExecuteTime": {
     "end_time": "2024-07-08T08:47:41.293745Z",
     "start_time": "2024-07-08T08:47:40.784305Z"
    }
   },
   "source": [
    "import json\n",
    "import pandas as pd\n",
    "import pickle"
   ],
   "outputs": [],
   "execution_count": 1
  },
  {
   "metadata": {
    "ExecuteTime": {
     "end_time": "2024-07-08T08:48:49.331880Z",
     "start_time": "2024-07-08T08:48:49.314840Z"
    }
   },
   "cell_type": "code",
   "source": [
    "obs_answer = pickle.load(open(\"data/obs_examples/obs_answering.pkl\", \"rb\"))\n",
    "obs_asking = pickle.load(open(\"data/obs_examples/obs_asking.pkl\", \"rb\"))\n",
    "obs_guessing = pickle.load(open(\"data/obs_examples/obs_guessing.pkl\", \"rb\"))"
   ],
   "id": "23abd20876356fd2",
   "outputs": [],
   "execution_count": 7
  },
  {
   "metadata": {
    "ExecuteTime": {
     "end_time": "2024-07-08T13:10:43.691496Z",
     "start_time": "2024-07-08T13:10:43.685887Z"
    }
   },
   "cell_type": "code",
   "source": "obs_answer",
   "id": "53d143439a392e8b",
   "outputs": [
    {
     "data": {
      "text/plain": [
       "kaggle_environments.utils.Struct"
      ]
     },
     "execution_count": 141,
     "metadata": {},
     "output_type": "execute_result"
    }
   ],
   "execution_count": 141
  },
  {
   "metadata": {
    "ExecuteTime": {
     "end_time": "2024-07-08T09:04:41.304953Z",
     "start_time": "2024-07-08T09:04:41.299966Z"
    }
   },
   "cell_type": "code",
   "source": "len(obs_answer['questions']), len(obs_answer['answers'])",
   "id": "613f473a61c93a7",
   "outputs": [
    {
     "data": {
      "text/plain": [
       "(20, 19)"
      ]
     },
     "execution_count": 9,
     "metadata": {},
     "output_type": "execute_result"
    }
   ],
   "execution_count": 9
  },
  {
   "metadata": {
    "ExecuteTime": {
     "end_time": "2024-07-08T11:14:48.663770Z",
     "start_time": "2024-07-08T11:14:48.656021Z"
    }
   },
   "cell_type": "code",
   "source": "obs_answer.guesses",
   "id": "6f850da4a9c96070",
   "outputs": [
    {
     "data": {
      "text/plain": [
       "['Beach',\n",
       " 'Paris',\n",
       " 'Paris',\n",
       " 'Paris',\n",
       " 'Berlin',\n",
       " 'Berlin',\n",
       " 'Berlin',\n",
       " 'Belgium',\n",
       " 'Belgrade',\n",
       " 'Vienna',\n",
       " 'Belgrade',\n",
       " 'Belgrade',\n",
       " 'Vatican City',\n",
       " 'Vatican City',\n",
       " 'Warsaw',\n",
       " 'Krakow',\n",
       " 'Wroclaw',\n",
       " 'Wroclaw',\n",
       " 'Wroclaw']"
      ]
     },
     "execution_count": 140,
     "metadata": {},
     "output_type": "execute_result"
    }
   ],
   "execution_count": 140
  },
  {
   "metadata": {
    "ExecuteTime": {
     "end_time": "2024-07-08T09:05:20.423191Z",
     "start_time": "2024-07-08T09:05:20.418352Z"
    }
   },
   "cell_type": "code",
   "source": "obs_guessing",
   "id": "a05f934a1c21bdca",
   "outputs": [
    {
     "data": {
      "text/plain": [
       "{'remainingOverageTime': 300,\n",
       " 'questions': ['Is it a place?',\n",
       "  'Is it in Europe?',\n",
       "  'Is it a capital city?',\n",
       "  'Is it a city in the UK?',\n",
       "  'Is it a city in France?',\n",
       "  'Is it a city in Italy?',\n",
       "  'Is it a city in Spain?',\n",
       "  'Is it a city in Germany?',\n",
       "  'Is it a city in Portugal?',\n",
       "  'Is it a city in Greece?',\n",
       "  'Is it a city in Austria?',\n",
       "  'Is it a city in Switzerland?',\n",
       "  'Is it a city in Belgium?',\n",
       "  'Is it a city in Ireland?',\n",
       "  'Is it a city in Poland?',\n",
       "  'Is it Warsaw?',\n",
       "  'Is it Krakow?',\n",
       "  'Is it Gdansk?',\n",
       "  'Is it Poznan?',\n",
       "  'Is it Wroclaw?'],\n",
       " 'guesses': ['Beach',\n",
       "  'Paris',\n",
       "  'Paris',\n",
       "  'Paris',\n",
       "  'Berlin',\n",
       "  'Berlin',\n",
       "  'Berlin',\n",
       "  'Belgium',\n",
       "  'Belgrade',\n",
       "  'Vienna',\n",
       "  'Belgrade',\n",
       "  'Belgrade',\n",
       "  'Vatican City',\n",
       "  'Vatican City',\n",
       "  'Warsaw',\n",
       "  'Krakow',\n",
       "  'Wroclaw',\n",
       "  'Wroclaw',\n",
       "  'Wroclaw'],\n",
       " 'answers': ['yes',\n",
       "  'yes',\n",
       "  'yes',\n",
       "  'no',\n",
       "  'no',\n",
       "  'no',\n",
       "  'no',\n",
       "  'no',\n",
       "  'no',\n",
       "  'no',\n",
       "  'no',\n",
       "  'no',\n",
       "  'no',\n",
       "  'no',\n",
       "  'yes',\n",
       "  'no',\n",
       "  'no',\n",
       "  'no',\n",
       "  'no',\n",
       "  'no'],\n",
       " 'role': 'guesser',\n",
       " 'turnType': 'guess',\n",
       " 'keyword': '',\n",
       " 'category': '',\n",
       " 'step': 59}"
      ]
     },
     "execution_count": 11,
     "metadata": {},
     "output_type": "execute_result"
    }
   ],
   "execution_count": 11
  },
  {
   "metadata": {
    "ExecuteTime": {
     "end_time": "2024-07-08T09:05:10.131699Z",
     "start_time": "2024-07-08T09:05:10.129578Z"
    }
   },
   "cell_type": "code",
   "source": "",
   "id": "cfe274082e415e90",
   "outputs": [],
   "execution_count": 10
  },
  {
   "metadata": {
    "ExecuteTime": {
     "end_time": "2024-07-08T09:06:29.148224Z",
     "start_time": "2024-07-08T09:06:29.144841Z"
    }
   },
   "cell_type": "code",
   "source": "",
   "id": "94d6ff322424fcd0",
   "outputs": [],
   "execution_count": 11
  },
  {
   "metadata": {
    "ExecuteTime": {
     "end_time": "2024-07-08T09:26:55.508987Z",
     "start_time": "2024-07-08T09:26:55.502474Z"
    }
   },
   "cell_type": "code",
   "source": [
    "from data.keywords import KEYWORDS_JSON\n",
    "keywords_json = json.loads(KEYWORDS_JSON)\n",
    "keywords_flat = []\n",
    "for category in keywords_json:\n",
    "    for keyword in category['words']:\n",
    "        keywords_flat.append(\n",
    "            {\n",
    "                \"keyword\": keyword['keyword'].lower(),\n",
    "                \"alts\": keyword['alts'],\n",
    "                \"category\": category['category'],\n",
    "            }\n",
    "        )"
   ],
   "id": "1d61e506c48faf5a",
   "outputs": [],
   "execution_count": 31
  },
  {
   "metadata": {
    "ExecuteTime": {
     "end_time": "2024-07-08T09:26:55.842745Z",
     "start_time": "2024-07-08T09:26:55.837012Z"
    }
   },
   "cell_type": "code",
   "source": [
    "from data.keywords_things import KEYWORDS_JSON\n",
    "keywords_json = json.loads(KEYWORDS_JSON)\n",
    "for category in keywords_json:\n",
    "    for keyword in category['words']:\n",
    "        keywords_flat.append(\n",
    "            {\n",
    "                \"keyword\": keyword['keyword'].lower(),\n",
    "                \"alts\": keyword['alts'],\n",
    "                \"category\": category['category'],\n",
    "            }\n",
    "        )"
   ],
   "id": "812554842e4630ed",
   "outputs": [],
   "execution_count": 32
  },
  {
   "metadata": {
    "ExecuteTime": {
     "end_time": "2024-07-08T09:31:44.354792Z",
     "start_time": "2024-07-08T09:31:44.350694Z"
    }
   },
   "cell_type": "code",
   "source": "",
   "id": "6e401e48520613d1",
   "outputs": [],
   "execution_count": 39
  },
  {
   "metadata": {
    "ExecuteTime": {
     "end_time": "2024-07-08T09:31:04.271262Z",
     "start_time": "2024-07-08T09:31:04.266677Z"
    }
   },
   "cell_type": "code",
   "source": "# \",\".join([k['keyword'] for k in keywords_flat if k['category'] == \"things\"])",
   "id": "64aabb734ff852b",
   "outputs": [],
   "execution_count": 35
  },
  {
   "metadata": {
    "ExecuteTime": {
     "end_time": "2024-07-08T10:26:46.559469Z",
     "start_time": "2024-07-08T10:26:46.551776Z"
    }
   },
   "cell_type": "code",
   "source": [
    "keywords_csv = pd.read_csv(\"data/keywords.csv\").drop([\"Unnamed: 0\"], axis=1)\n",
    "keywords_csv.keyword = keywords_csv.keyword.apply(str.lower)"
   ],
   "id": "2ce66a6701661bd3",
   "outputs": [],
   "execution_count": 109
  },
  {
   "metadata": {
    "ExecuteTime": {
     "end_time": "2024-07-08T10:26:47.192237Z",
     "start_time": "2024-07-08T10:26:47.187173Z"
    }
   },
   "cell_type": "code",
   "source": [
    "set_csv = set(keywords_csv.keyword.apply(str.lower))\n",
    "set_json = set([k['keyword'] for k in keywords_flat])"
   ],
   "id": "2d1ed18907102cc6",
   "outputs": [],
   "execution_count": 110
  },
  {
   "metadata": {
    "ExecuteTime": {
     "end_time": "2024-07-08T10:26:47.470603Z",
     "start_time": "2024-07-08T10:26:47.467227Z"
    }
   },
   "cell_type": "code",
   "source": [
    "# Cool, we have all keyworkds in CSV\n",
    "# But categories are merged into place (city, country, landmark)"
   ],
   "id": "f3da10171ef8d378",
   "outputs": [],
   "execution_count": 111
  },
  {
   "metadata": {
    "ExecuteTime": {
     "end_time": "2024-07-08T10:26:47.726720Z",
     "start_time": "2024-07-08T10:26:47.722225Z"
    }
   },
   "cell_type": "code",
   "source": [
    "# Generate from keywords_flat, keyword -> category\n",
    "keyword_category_dict = {\n",
    "    k['keyword'].lower(): k['category']\n",
    "    for k in keywords_flat\n",
    "}"
   ],
   "id": "54119b511bf9b45c",
   "outputs": [],
   "execution_count": 112
  },
  {
   "metadata": {
    "ExecuteTime": {
     "end_time": "2024-07-08T10:26:48.362493Z",
     "start_time": "2024-07-08T10:26:48.359421Z"
    }
   },
   "cell_type": "code",
   "source": "",
   "id": "aca9aca487a0359b",
   "outputs": [],
   "execution_count": 112
  },
  {
   "metadata": {
    "ExecuteTime": {
     "end_time": "2024-07-08T10:26:48.887328Z",
     "start_time": "2024-07-08T10:26:48.856840Z"
    }
   },
   "cell_type": "code",
   "source": [
    "# Replace category from keyword_category_dict\n",
    "# If no key - take existing category value\n",
    "keywords_csv['category'] = keywords_csv.apply(\n",
    "    lambda x: keyword_category_dict.get(x.keyword, x.category),\n",
    "    axis=1\n",
    ")"
   ],
   "id": "7a6c44b851a5fa72",
   "outputs": [],
   "execution_count": 113
  },
  {
   "metadata": {
    "ExecuteTime": {
     "end_time": "2024-07-08T10:26:49.590596Z",
     "start_time": "2024-07-08T10:26:49.583155Z"
    }
   },
   "cell_type": "code",
   "source": "keywords_csv.category.value_counts()",
   "id": "1d0f4bb8fe5c04be",
   "outputs": [
    {
     "data": {
      "text/plain": [
       "category\n",
       "things      1496\n",
       "city         314\n",
       "country      188\n",
       "landmark      48\n",
       "Name: count, dtype: int64"
      ]
     },
     "execution_count": 114,
     "metadata": {},
     "output_type": "execute_result"
    }
   ],
   "execution_count": 114
  },
  {
   "metadata": {
    "ExecuteTime": {
     "end_time": "2024-07-08T10:27:09.521594Z",
     "start_time": "2024-07-08T10:27:09.513440Z"
    }
   },
   "cell_type": "code",
   "source": [
    "# sampled_df = keywords_csv.groupby('category').apply(lambda x: x.sample(n={\n",
    "#         \"things\": 100,\n",
    "#         \"city\": 40,\n",
    "#         \"country\": 20,\n",
    "#         \"landmark\": 40,\n",
    "#     }.get(x.name, 0)\n",
    "# )).reset_index(drop=True)\n",
    "# category_dict = {category: sampled_df[sampled_df['category'] == category] for category in sampled_df['category'].unique()}\n",
    "sampled_df = keywords_csv.groupby('category').apply(lambda x: x).reset_index(drop=True)\n",
    "category_dict = {category: sampled_df[sampled_df['category'] == category] for category in sampled_df['category'].unique()}"
   ],
   "id": "a7f1bb9e792f0a6d",
   "outputs": [
    {
     "name": "stderr",
     "output_type": "stream",
     "text": [
      "C:\\Users\\HaveToCook\\AppData\\Local\\Temp\\ipykernel_34380\\203393168.py:9: DeprecationWarning: DataFrameGroupBy.apply operated on the grouping columns. This behavior is deprecated, and in a future version of pandas the grouping columns will be excluded from the operation. Either pass `include_groups=False` to exclude the groupings or explicitly select the grouping columns after groupby to silence this warning.\n",
      "  sampled_df = keywords_csv.groupby('category').apply(lambda x: x).reset_index(drop=True)\n"
     ]
    }
   ],
   "execution_count": 124
  },
  {
   "metadata": {
    "ExecuteTime": {
     "end_time": "2024-07-08T10:27:10.073686Z",
     "start_time": "2024-07-08T10:27:10.069369Z"
    }
   },
   "cell_type": "code",
   "source": "category_dict.keys()",
   "id": "8fcb5fa862be0dbc",
   "outputs": [
    {
     "data": {
      "text/plain": [
       "dict_keys(['city', 'country', 'landmark', 'things'])"
      ]
     },
     "execution_count": 125,
     "metadata": {},
     "output_type": "execute_result"
    }
   ],
   "execution_count": 125
  },
  {
   "metadata": {
    "ExecuteTime": {
     "end_time": "2024-07-08T10:27:17.096358Z",
     "start_time": "2024-07-08T10:27:17.089498Z"
    }
   },
   "cell_type": "code",
   "source": "category_dict['city']",
   "id": "7bbaebb7a7799f1f",
   "outputs": [
    {
     "data": {
      "text/plain": [
       "                   keyword category\n",
       "0          acapulco mexico     city\n",
       "1       adelaide australia     city\n",
       "2          algiers algeria     city\n",
       "3    amsterdam netherlands     city\n",
       "4       anaheim california     city\n",
       "..                     ...      ...\n",
       "309    zeeland netherlands     city\n",
       "310        zhongshan china     city\n",
       "311       zincantan mexico     city\n",
       "312            zunyi china     city\n",
       "313     zurich switzerland     city\n",
       "\n",
       "[314 rows x 2 columns]"
      ],
      "text/html": [
       "<div>\n",
       "<style scoped>\n",
       "    .dataframe tbody tr th:only-of-type {\n",
       "        vertical-align: middle;\n",
       "    }\n",
       "\n",
       "    .dataframe tbody tr th {\n",
       "        vertical-align: top;\n",
       "    }\n",
       "\n",
       "    .dataframe thead th {\n",
       "        text-align: right;\n",
       "    }\n",
       "</style>\n",
       "<table border=\"1\" class=\"dataframe\">\n",
       "  <thead>\n",
       "    <tr style=\"text-align: right;\">\n",
       "      <th></th>\n",
       "      <th>keyword</th>\n",
       "      <th>category</th>\n",
       "    </tr>\n",
       "  </thead>\n",
       "  <tbody>\n",
       "    <tr>\n",
       "      <th>0</th>\n",
       "      <td>acapulco mexico</td>\n",
       "      <td>city</td>\n",
       "    </tr>\n",
       "    <tr>\n",
       "      <th>1</th>\n",
       "      <td>adelaide australia</td>\n",
       "      <td>city</td>\n",
       "    </tr>\n",
       "    <tr>\n",
       "      <th>2</th>\n",
       "      <td>algiers algeria</td>\n",
       "      <td>city</td>\n",
       "    </tr>\n",
       "    <tr>\n",
       "      <th>3</th>\n",
       "      <td>amsterdam netherlands</td>\n",
       "      <td>city</td>\n",
       "    </tr>\n",
       "    <tr>\n",
       "      <th>4</th>\n",
       "      <td>anaheim california</td>\n",
       "      <td>city</td>\n",
       "    </tr>\n",
       "    <tr>\n",
       "      <th>...</th>\n",
       "      <td>...</td>\n",
       "      <td>...</td>\n",
       "    </tr>\n",
       "    <tr>\n",
       "      <th>309</th>\n",
       "      <td>zeeland netherlands</td>\n",
       "      <td>city</td>\n",
       "    </tr>\n",
       "    <tr>\n",
       "      <th>310</th>\n",
       "      <td>zhongshan china</td>\n",
       "      <td>city</td>\n",
       "    </tr>\n",
       "    <tr>\n",
       "      <th>311</th>\n",
       "      <td>zincantan mexico</td>\n",
       "      <td>city</td>\n",
       "    </tr>\n",
       "    <tr>\n",
       "      <th>312</th>\n",
       "      <td>zunyi china</td>\n",
       "      <td>city</td>\n",
       "    </tr>\n",
       "    <tr>\n",
       "      <th>313</th>\n",
       "      <td>zurich switzerland</td>\n",
       "      <td>city</td>\n",
       "    </tr>\n",
       "  </tbody>\n",
       "</table>\n",
       "<p>314 rows × 2 columns</p>\n",
       "</div>"
      ]
     },
     "execution_count": 128,
     "metadata": {},
     "output_type": "execute_result"
    }
   ],
   "execution_count": 128
  },
  {
   "metadata": {
    "ExecuteTime": {
     "end_time": "2024-07-08T10:27:13.283582Z",
     "start_time": "2024-07-08T10:27:13.278366Z"
    }
   },
   "cell_type": "code",
   "source": [
    "city_to_alt_dict = {}\n",
    "for keyword in keywords_flat:\n",
    "    if not keyword['alts']:\n",
    "        continue\n",
    "    if not keyword['category'] == \"city\":\n",
    "        continue\n",
    "    print(keyword)\n",
    "    city_to_alt_dict[keyword['keyword']] = keyword['alts'][0]"
   ],
   "id": "da9900160e900340",
   "outputs": [
    {
     "name": "stdout",
     "output_type": "stream",
     "text": [
      "{'keyword': 'amsterdam netherlands', 'alts': ['amsterdam', 'amsterdam holland'], 'category': 'city'}\n",
      "{'keyword': 'anaheim california', 'alts': ['anaheim', 'anaheim ca', 'anaheim usa'], 'category': 'city'}\n",
      "{'keyword': 'austin texas', 'alts': ['austin', 'austin tx', 'austin usa'], 'category': 'city'}\n",
      "{'keyword': 'auckland new zealand', 'alts': ['auckland', 'auckland nz'], 'category': 'city'}\n",
      "{'keyword': 'asheville north carolina', 'alts': ['asheville', 'asheville nc', 'asheville usa'], 'category': 'city'}\n",
      "{'keyword': 'ashgabat turkmenistan', 'alts': ['ashgabat', 'ashgabad turkmenistan'], 'category': 'city'}\n",
      "{'keyword': 'athens greece', 'alts': ['athens'], 'category': 'city'}\n",
      "{'keyword': 'athens georgia', 'alts': ['athens', 'athens ga', 'athens usa'], 'category': 'city'}\n",
      "{'keyword': 'atlanta georgia', 'alts': ['atlanta', 'atlanta ga', 'atlanta usa'], 'category': 'city'}\n",
      "{'keyword': 'antwerp belgium', 'alts': ['antwerp'], 'category': 'city'}\n",
      "{'keyword': 'adelaide australia', 'alts': ['adelaide'], 'category': 'city'}\n",
      "{'keyword': 'astana kazakhstan', 'alts': ['astana'], 'category': 'city'}\n",
      "{'keyword': 'asuncion paraguay', 'alts': ['asuncion'], 'category': 'city'}\n",
      "{'keyword': 'algiers algeria', 'alts': ['algiers'], 'category': 'city'}\n",
      "{'keyword': 'acapulco mexico', 'alts': ['acapulco'], 'category': 'city'}\n",
      "{'keyword': 'ankara turkey', 'alts': ['ankara'], 'category': 'city'}\n",
      "{'keyword': 'baghdad iraq', 'alts': ['baghdad'], 'category': 'city'}\n",
      "{'keyword': 'bangkok thailand', 'alts': ['bangkok'], 'category': 'city'}\n",
      "{'keyword': 'beijing china', 'alts': ['beijing', 'peking'], 'category': 'city'}\n",
      "{'keyword': 'berlin germany', 'alts': ['berlin'], 'category': 'city'}\n",
      "{'keyword': 'boston massachusetts', 'alts': ['boston', 'boston ma', 'boston usa'], 'category': 'city'}\n",
      "{'keyword': 'buenos aires argentina', 'alts': ['buenos aires'], 'category': 'city'}\n",
      "{'keyword': 'bursa turkey', 'alts': ['bursa'], 'category': 'city'}\n",
      "{'keyword': 'bucharest romania', 'alts': ['bucharest'], 'category': 'city'}\n",
      "{'keyword': 'baltimore maryland', 'alts': ['baltimore', 'baltimore md', 'baltimore usa'], 'category': 'city'}\n",
      "{'keyword': 'beirut lebanon', 'alts': ['beirut'], 'category': 'city'}\n",
      "{'keyword': 'belfast northern ireland', 'alts': ['belfast', 'belfast uk', 'belfast united kingdom'], 'category': 'city'}\n",
      "{'keyword': 'bratislava slovakia', 'alts': ['bratislava'], 'category': 'city'}\n",
      "{'keyword': 'belgrade serbia', 'alts': ['belgrade'], 'category': 'city'}\n",
      "{'keyword': 'budapest hungary', 'alts': ['budapest'], 'category': 'city'}\n",
      "{'keyword': 'baku azerbaijan', 'alts': ['baku'], 'category': 'city'}\n",
      "{'keyword': 'bordeaux france', 'alts': ['bordeaux'], 'category': 'city'}\n",
      "{'keyword': 'busan south korea', 'alts': ['busan'], 'category': 'city'}\n",
      "{'keyword': 'brussels belgium', 'alts': ['brussels'], 'category': 'city'}\n",
      "{'keyword': 'bangalore india', 'alts': ['bangalore'], 'category': 'city'}\n",
      "{'keyword': 'calgary canada', 'alts': ['calgary'], 'category': 'city'}\n",
      "{'keyword': 'chicago illinois', 'alts': ['chicago', 'chi'], 'category': 'city'}\n",
      "{'keyword': 'copenhagen denmark', 'alts': ['copenhagen'], 'category': 'city'}\n",
      "{'keyword': 'columbus ohio', 'alts': ['columbus'], 'category': 'city'}\n",
      "{'keyword': 'cologne germany', 'alts': ['cologne'], 'category': 'city'}\n",
      "{'keyword': 'cairo egypt', 'alts': ['cairo'], 'category': 'city'}\n",
      "{'keyword': 'cape town south africa', 'alts': ['cape town', 'cape town sa'], 'category': 'city'}\n",
      "{'keyword': 'caracas venezuela', 'alts': ['caracas'], 'category': 'city'}\n",
      "{'keyword': 'cleveland ohio', 'alts': ['cleveland'], 'category': 'city'}\n",
      "{'keyword': 'cork ireland', 'alts': ['cork'], 'category': 'city'}\n",
      "{'keyword': 'christchurch new zealand', 'alts': ['christchurch', 'christchurch nz'], 'category': 'city'}\n",
      "{'keyword': 'casablanca morocco', 'alts': ['casablanca'], 'category': 'city'}\n",
      "{'keyword': 'chengdu china', 'alts': ['chengdu'], 'category': 'city'}\n",
      "{'keyword': 'cannes france', 'alts': ['cannes'], 'category': 'city'}\n",
      "{'keyword': 'canberra australia', 'alts': ['canberra'], 'category': 'city'}\n",
      "{'keyword': 'dallas texas', 'alts': ['dallas', 'dallas tx'], 'category': 'city'}\n",
      "{'keyword': 'dubai united arab emirates', 'alts': ['dubai', 'dubai uae'], 'category': 'city'}\n",
      "{'keyword': 'dhaka bangladesh', 'alts': ['dhaka'], 'category': 'city'}\n",
      "{'keyword': 'dakar senegal', 'alts': ['dakar'], 'category': 'city'}\n",
      "{'keyword': 'delhi india', 'alts': ['delhi'], 'category': 'city'}\n",
      "{'keyword': 'durban south africa', 'alts': ['durban'], 'category': 'city'}\n",
      "{'keyword': 'dublin ireland', 'alts': ['dublin'], 'category': 'city'}\n",
      "{'keyword': 'dalian china', 'alts': ['dalian'], 'category': 'city'}\n",
      "{'keyword': 'doha qatar', 'alts': ['doha'], 'category': 'city'}\n",
      "{'keyword': 'denver colorado', 'alts': ['denver', 'denver co', 'denver usa'], 'category': 'city'}\n",
      "{'keyword': 'dusseldorf germany', 'alts': ['dusseldorf'], 'category': 'city'}\n",
      "{'keyword': 'davao city philippines', 'alts': ['davao city'], 'category': 'city'}\n",
      "{'keyword': 'darwin australia', 'alts': ['darwin'], 'category': 'city'}\n",
      "{'keyword': 'dunfermline scotland', 'alts': ['dunfermline'], 'category': 'city'}\n",
      "{'keyword': 'daegu south korea', 'alts': ['daegu'], 'category': 'city'}\n",
      "{'keyword': 'damascus syria', 'alts': ['damascus'], 'category': 'city'}\n",
      "{'keyword': 'dar es salaam tanzania', 'alts': ['dar es salaam'], 'category': 'city'}\n",
      "{'keyword': 'edinburgh scotland', 'alts': ['edinburgh'], 'category': 'city'}\n",
      "{'keyword': 'edmonton canada', 'alts': ['edmonton'], 'category': 'city'}\n",
      "{'keyword': 'essen germany', 'alts': ['essen'], 'category': 'city'}\n",
      "{'keyword': 'evora portugal', 'alts': ['evora'], 'category': 'city'}\n",
      "{'keyword': 'ensenada mexico', 'alts': ['ensenada'], 'category': 'city'}\n",
      "{'keyword': 'el paso texas', 'alts': ['el paso'], 'category': 'city'}\n",
      "{'keyword': 'enugu nigeria', 'alts': ['enugu'], 'category': 'city'}\n",
      "{'keyword': 'enschede netherlands', 'alts': ['enschede'], 'category': 'city'}\n",
      "{'keyword': 'eureka california', 'alts': ['eureka'], 'category': 'city'}\n",
      "{'keyword': 'erie pennsylvania', 'alts': ['erie', 'erie pa', 'erie usa'], 'category': 'city'}\n",
      "{'keyword': 'eilat israel', 'alts': ['eilat'], 'category': 'city'}\n",
      "{'keyword': 'essentuki russia', 'alts': ['essentuki'], 'category': 'city'}\n",
      "{'keyword': 'esbjerg denmark', 'alts': ['esbjerg'], 'category': 'city'}\n",
      "{'keyword': 'fez morocco', 'alts': ['fez'], 'category': 'city'}\n",
      "{'keyword': 'florence italy', 'alts': ['florence'], 'category': 'city'}\n",
      "{'keyword': 'frankfurt germany', 'alts': ['frankfurt'], 'category': 'city'}\n",
      "{'keyword': 'fort worth texas', 'alts': ['fort worth', 'forth worth tx', 'fort worth usa'], 'category': 'city'}\n",
      "{'keyword': 'fukuoka japan', 'alts': ['fukuoka'], 'category': 'city'}\n",
      "{'keyword': 'faisalabad pakistan', 'alts': ['faisalabad'], 'category': 'city'}\n",
      "{'keyword': 'fujairah united arab emirates', 'alts': ['fujairah', 'fujairah uae'], 'category': 'city'}\n",
      "{'keyword': 'funafuti tuvalu', 'alts': ['funafuti'], 'category': 'city'}\n",
      "{'keyword': 'florianopolis brazil', 'alts': ['florianopolis'], 'category': 'city'}\n",
      "{'keyword': 'flinders australia', 'alts': ['flinders'], 'category': 'city'}\n",
      "{'keyword': 'faro portugal', 'alts': ['faro'], 'category': 'city'}\n",
      "{'keyword': 'fujairah united arab emirates', 'alts': ['fujairah', 'fujairah uae'], 'category': 'city'}\n",
      "{'keyword': 'fort mcmurray canada', 'alts': ['fort mcmurray'], 'category': 'city'}\n",
      "{'keyword': 'fortaleza brazil', 'alts': ['fortaleza'], 'category': 'city'}\n",
      "{'keyword': 'friesland netherlands', 'alts': ['friesland'], 'category': 'city'}\n",
      "{'keyword': 'funchal portugal', 'alts': ['funchal'], 'category': 'city'}\n",
      "{'keyword': 'fuzhou china', 'alts': ['fuzhou'], 'category': 'city'}\n",
      "{'keyword': 'fresno california', 'alts': ['fresno', 'fresno ca', 'fresno usa'], 'category': 'city'}\n",
      "{'keyword': 'fermoy ireland', 'alts': ['fermoy'], 'category': 'city'}\n",
      "{'keyword': 'fukushima japan', 'alts': ['fukushima'], 'category': 'city'}\n",
      "{'keyword': 'glasgow scotland', 'alts': ['glasgow'], 'category': 'city'}\n",
      "{'keyword': 'guangzhou china', 'alts': ['guangzhou'], 'category': 'city'}\n",
      "{'keyword': 'gdansk poland', 'alts': ['gdansk'], 'category': 'city'}\n",
      "{'keyword': 'guatemala city guatemala', 'alts': ['guatemala city'], 'category': 'city'}\n",
      "{'keyword': 'guwahati india', 'alts': ['guwahati'], 'category': 'city'}\n",
      "{'keyword': 'gyeongju south korea', 'alts': ['gyeongju'], 'category': 'city'}\n",
      "{'keyword': 'genoa italy', 'alts': ['genoa'], 'category': 'city'}\n",
      "{'keyword': 'grahamstown south africa', 'alts': ['grahamstown'], 'category': 'city'}\n",
      "{'keyword': 'guadalajara mexico', 'alts': ['guadalajara'], 'category': 'city'}\n",
      "{'keyword': 'geneva switzerland', 'alts': ['geneva'], 'category': 'city'}\n",
      "{'keyword': 'graz austria', 'alts': ['graz'], 'category': 'city'}\n",
      "{'keyword': 'gwangju south korea', 'alts': ['gwangju'], 'category': 'city'}\n",
      "{'keyword': 'houston texas', 'alts': ['houston', 'houston tx', 'houston usa'], 'category': 'city'}\n",
      "{'keyword': 'hamburg germany', 'alts': ['hamburg'], 'category': 'city'}\n",
      "{'keyword': 'hanoi vietnam', 'alts': ['hanoi'], 'category': 'city'}\n",
      "{'keyword': 'helsinki finland', 'alts': ['helsinki'], 'category': 'city'}\n",
      "{'keyword': 'ho chi minh city vietnam', 'alts': ['ho chi minh city', 'ho chi minh', 'saigon'], 'category': 'city'}\n",
      "{'keyword': 'haifa israel', 'alts': ['haifa'], 'category': 'city'}\n",
      "{'keyword': 'havana cuba', 'alts': ['havana'], 'category': 'city'}\n",
      "{'keyword': 'hong kong china', 'alts': ['hong kong'], 'category': 'city'}\n",
      "{'keyword': 'hobart australia', 'alts': ['hobart'], 'category': 'city'}\n",
      "{'keyword': 'hangzhou china', 'alts': ['hangzhou'], 'category': 'city'}\n",
      "{'keyword': 'hilo hawaii', 'alts': ['hilo'], 'category': 'city'}\n",
      "{'keyword': 'hermosillo mexico', 'alts': ['hermosillo'], 'category': 'city'}\n",
      "{'keyword': 'honolulu hawaii', 'alts': ['honolulu', 'honolulu hi', 'honolulu usa'], 'category': 'city'}\n",
      "{'keyword': 'helsingborg sweden', 'alts': ['helsingborg'], 'category': 'city'}\n",
      "{'keyword': 'hiroshima japan', 'alts': ['hiroshima'], 'category': 'city'}\n",
      "{'keyword': 'harare zimbabwe', 'alts': ['harare'], 'category': 'city'}\n",
      "{'keyword': 'istanbul turkey', 'alts': ['istanbul'], 'category': 'city'}\n",
      "{'keyword': 'indianapolis indiana', 'alts': ['indianapolis', 'indianapolis in', 'indianapolis usa'], 'category': 'city'}\n",
      "{'keyword': 'ibadan nigeria', 'alts': ['ibadan'], 'category': 'city'}\n",
      "{'keyword': 'istanbul turkey', 'alts': ['istanbul'], 'category': 'city'}\n",
      "{'keyword': 'indore india', 'alts': ['indore'], 'category': 'city'}\n",
      "{'keyword': 'izmir turkey', 'alts': ['izmir'], 'category': 'city'}\n",
      "{'keyword': 'isafahan iran', 'alts': ['isafahan'], 'category': 'city'}\n",
      "{'keyword': 'incheon south korea', 'alts': ['incheon'], 'category': 'city'}\n",
      "{'keyword': 'innsbruck austria', 'alts': ['innsbruck'], 'category': 'city'}\n",
      "{'keyword': 'islamabad pakistan', 'alts': ['islamabad'], 'category': 'city'}\n",
      "{'keyword': 'ingolstadt germany', 'alts': ['ingolstadt'], 'category': 'city'}\n",
      "{'keyword': 'irvine california', 'alts': ['irvine', 'irvine ca', 'irvine usa'], 'category': 'city'}\n",
      "{'keyword': 'irkutsk russia', 'alts': ['irkutsk'], 'category': 'city'}\n",
      "{'keyword': 'jakarta indonesia', 'alts': ['jakarta'], 'category': 'city'}\n",
      "{'keyword': 'jerusalem israel', 'alts': ['jerusalem'], 'category': 'city'}\n",
      "{'keyword': 'jacksonville florida', 'alts': ['jacksonville'], 'category': 'city'}\n",
      "{'keyword': 'johannesburg south africa', 'alts': ['johannesburg'], 'category': 'city'}\n",
      "{'keyword': 'jabalpur india', 'alts': ['jabalpur'], 'category': 'city'}\n",
      "{'keyword': 'jinan china', 'alts': ['jinan'], 'category': 'city'}\n",
      "{'keyword': 'jeddah saudi arabia', 'alts': ['jeddah'], 'category': 'city'}\n",
      "{'keyword': 'jalapa guatemala', 'alts': ['jalapa'], 'category': 'city'}\n",
      "{'keyword': 'jackson mississippi', 'alts': ['jackson'], 'category': 'city'}\n",
      "{'keyword': 'juarez mexico', 'alts': ['juarez'], 'category': 'city'}\n",
      "{'keyword': 'jabalpur india', 'alts': ['jabalpur'], 'category': 'city'}\n",
      "{'keyword': 'jining china', 'alts': ['jining'], 'category': 'city'}\n",
      "{'keyword': 'kampala uganda', 'alts': ['kampala'], 'category': 'city'}\n",
      "{'keyword': 'kathmandu nepal', 'alts': ['kathmandu'], 'category': 'city'}\n",
      "{'keyword': 'kaunas lithuania', 'alts': ['kaunas'], 'category': 'city'}\n",
      "{'keyword': 'kuala lumpur malaysia', 'alts': ['kuala lumpur'], 'category': 'city'}\n",
      "{'keyword': 'kyoto japan', 'alts': ['kyoto'], 'category': 'city'}\n",
      "{'keyword': 'kagoshima japan', 'alts': ['kagoshima'], 'category': 'city'}\n",
      "{'keyword': 'karachi pakistan', 'alts': ['karachi'], 'category': 'city'}\n",
      "{'keyword': 'kiev ukraine', 'alts': ['kiev', 'kyiv', 'kyiv ukraine'], 'category': 'city'}\n",
      "{'keyword': 'kingston jamaica', 'alts': ['kingston'], 'category': 'city'}\n",
      "{'keyword': 'kolkata india', 'alts': ['kolkata', 'calcutta'], 'category': 'city'}\n",
      "{'keyword': 'kunming china', 'alts': ['kunming'], 'category': 'city'}\n",
      "{'keyword': 'kabul afghanistan', 'alts': ['kabul'], 'category': 'city'}\n",
      "{'keyword': 'kyiv ukraine', 'alts': ['kyiv'], 'category': 'city'}\n",
      "{'keyword': 'kawasaki japan', 'alts': ['kawasaki'], 'category': 'city'}\n",
      "{'keyword': 'london england', 'alts': ['london'], 'category': 'city'}\n",
      "{'keyword': 'la paz bolivia', 'alts': ['la paz'], 'category': 'city'}\n",
      "{'keyword': 'los angeles california', 'alts': ['los angeles', 'los angeles ca', 'los angeles usa', 'la', 'la ca', 'la california', 'la usa'], 'category': 'city'}\n",
      "{'keyword': 'lima peru', 'alts': ['lima'], 'category': 'city'}\n",
      "{'keyword': 'lyon france', 'alts': ['lyon'], 'category': 'city'}\n",
      "{'keyword': 'lisbon portugal', 'alts': ['lisbon'], 'category': 'city'}\n",
      "{'keyword': 'luanda angola', 'alts': ['luanda'], 'category': 'city'}\n",
      "{'keyword': 'liverpool england', 'alts': ['liverpool', 'liverpool uk'], 'category': 'city'}\n",
      "{'keyword': 'lagos nigeria', 'alts': ['lagos'], 'category': 'city'}\n",
      "{'keyword': 'leeds england', 'alts': ['leeds', 'leeds uk'], 'category': 'city'}\n",
      "{'keyword': 'ljubljana slovenia', 'alts': ['ljubljana'], 'category': 'city'}\n",
      "{'keyword': 'lyon france', 'alts': ['lyon'], 'category': 'city'}\n",
      "{'keyword': 'lima peru', 'alts': ['lima'], 'category': 'city'}\n",
      "{'keyword': 'lviv ukraine', 'alts': ['lviv'], 'category': 'city'}\n",
      "{'keyword': 'leipzig germany', 'alts': ['leipzig'], 'category': 'city'}\n",
      "{'keyword': 'lusaka zambia', 'alts': ['lusaka'], 'category': 'city'}\n",
      "{'keyword': 'lausanne switzerland', 'alts': ['lausanne'], 'category': 'city'}\n",
      "{'keyword': 'madrid spain', 'alts': ['madrid'], 'category': 'city'}\n",
      "{'keyword': 'manchester england', 'alts': ['manchester'], 'category': 'city'}\n",
      "{'keyword': 'mexico city mexico', 'alts': ['mexico city'], 'category': 'city'}\n",
      "{'keyword': 'manila philippines', 'alts': ['manila'], 'category': 'city'}\n",
      "{'keyword': 'montreal canada', 'alts': ['montreal'], 'category': 'city'}\n",
      "{'keyword': 'milan italy', 'alts': ['milan'], 'category': 'city'}\n",
      "{'keyword': 'moscow russia', 'alts': ['moscow'], 'category': 'city'}\n",
      "{'keyword': 'madrid spain', 'alts': ['madrid'], 'category': 'city'}\n",
      "{'keyword': 'mumbai india', 'alts': ['mumbai'], 'category': 'city'}\n",
      "{'keyword': 'managua nicaragua', 'alts': ['managua'], 'category': 'city'}\n",
      "{'keyword': 'melbourne australia', 'alts': ['melbourne'], 'category': 'city'}\n",
      "{'keyword': 'marrakech morocco', 'alts': ['marrakech'], 'category': 'city'}\n",
      "{'keyword': 'miami florida', 'alts': ['miami', 'miami fl', 'miami usa'], 'category': 'city'}\n",
      "{'keyword': 'minneapolis minnesota', 'alts': ['minneapolis'], 'category': 'city'}\n",
      "{'keyword': 'mecca saudi arabia', 'alts': ['mecca'], 'category': 'city'}\n",
      "{'keyword': 'melbourne australia', 'alts': ['melbourne'], 'category': 'city'}\n",
      "{'keyword': 'makati philippines', 'alts': ['makati'], 'category': 'city'}\n",
      "{'keyword': 'monterrey mexico', 'alts': ['monterrey'], 'category': 'city'}\n",
      "{'keyword': 'nagoya japan', 'alts': ['nagoya'], 'category': 'city'}\n",
      "{'keyword': 'new york city', 'alts': ['new york city', 'nyc', 'new york'], 'category': 'city'}\n",
      "{'keyword': 'nanjing china', 'alts': ['nanjing'], 'category': 'city'}\n",
      "{'keyword': 'new delhi india', 'alts': ['new delhi'], 'category': 'city'}\n",
      "{'keyword': 'nantes france', 'alts': ['nantes'], 'category': 'city'}\n",
      "{'keyword': 'noida india', 'alts': ['noida'], 'category': 'city'}\n",
      "{'keyword': 'newcastle upon tyne england', 'alts': ['newcastle', 'newcastle upon tyne'], 'category': 'city'}\n",
      "{'keyword': 'nice france', 'alts': ['nice'], 'category': 'city'}\n",
      "{'keyword': 'nurumberg germany', 'alts': ['nurumberg'], 'category': 'city'}\n",
      "{'keyword': 'new orleans louisiana', 'alts': ['new orleans'], 'category': 'city'}\n",
      "{'keyword': 'nairobi kenya', 'alts': ['nairobi'], 'category': 'city'}\n",
      "{'keyword': 'naples italy', 'alts': ['naples'], 'category': 'city'}\n",
      "{'keyword': 'noosa australia', 'alts': ['noosa'], 'category': 'city'}\n",
      "{'keyword': 'osaka japan', 'alts': ['osaka'], 'category': 'city'}\n",
      "{'keyword': 'oklahoma city oklahoma', 'alts': ['oklahoma city'], 'category': 'city'}\n",
      "{'keyword': 'oslo norway', 'alts': ['oslo'], 'category': 'city'}\n",
      "{'keyword': 'oxford england', 'alts': ['oxford'], 'category': 'city'}\n",
      "{'keyword': 'ottawa canada', 'alts': ['ottawa'], 'category': 'city'}\n",
      "{'keyword': 'orsay france', 'alts': ['orsay'], 'category': 'city'}\n",
      "{'keyword': 'odessa ukraine', 'alts': ['odessa'], 'category': 'city'}\n",
      "{'keyword': 'oranjestad aruba', 'alts': ['oranjestad'], 'category': 'city'}\n",
      "{'keyword': 'orlando florida', 'alts': ['orlando', 'orlando fl', 'orlando usa'], 'category': 'city'}\n",
      "{'keyword': 'ostrava czech republic', 'alts': ['ostrava'], 'category': 'city'}\n",
      "{'keyword': 'oaxaca mexico', 'alts': ['oaxaca'], 'category': 'city'}\n",
      "{'keyword': 'otago new zealand', 'alts': ['otago'], 'category': 'city'}\n",
      "{'keyword': 'ouagadougou burkina faso', 'alts': ['ouagadougou'], 'category': 'city'}\n",
      "{'keyword': 'odense denmark', 'alts': ['odense'], 'category': 'city'}\n",
      "{'keyword': 'oulu finland', 'alts': ['oulu'], 'category': 'city'}\n",
      "{'keyword': 'paris france', 'alts': ['paris'], 'category': 'city'}\n",
      "{'keyword': 'prague czech republic', 'alts': ['prague'], 'category': 'city'}\n",
      "{'keyword': 'porto portugal', 'alts': ['porto'], 'category': 'city'}\n",
      "{'keyword': 'philadelphia pennsylvania', 'alts': ['philadelphia'], 'category': 'city'}\n",
      "{'keyword': 'pyeongyang north korea', 'alts': ['pyeongyang'], 'category': 'city'}\n",
      "{'keyword': 'perth australia', 'alts': ['perth'], 'category': 'city'}\n",
      "{'keyword': 'plovdiv bulgaria', 'alts': ['plovdiv'], 'category': 'city'}\n",
      "{'keyword': 'pattaya thailand', 'alts': ['pattaya'], 'category': 'city'}\n",
      "{'keyword': 'portland oregon', 'alts': ['portland'], 'category': 'city'}\n",
      "{'keyword': 'phoenix arizona', 'alts': ['phoenix'], 'category': 'city'}\n",
      "{'keyword': 'porto alegre brazil', 'alts': ['porto alegre'], 'category': 'city'}\n",
      "{'keyword': 'peshawar pakistan', 'alts': ['peshawar'], 'category': 'city'}\n",
      "{'keyword': 'panama city panama', 'alts': ['panama city'], 'category': 'city'}\n",
      "{'keyword': 'rome italy', 'alts': ['rome'], 'category': 'city'}\n",
      "{'keyword': 'rio de janeiro brazil', 'alts': ['rio de janeiro'], 'category': 'city'}\n",
      "{'keyword': 'riyadh saudi arabia', 'alts': ['riyadh'], 'category': 'city'}\n",
      "{'keyword': 'reykjavik iceland', 'alts': ['reykjavik'], 'category': 'city'}\n",
      "{'keyword': 'rotterdam netherlands', 'alts': ['rotterdam'], 'category': 'city'}\n",
      "{'keyword': 'ras al khaimah united arab emirates', 'alts': ['ras al khaimah'], 'category': 'city'}\n",
      "{'keyword': 'raleigh north carolina', 'alts': ['raleigh'], 'category': 'city'}\n",
      "{'keyword': 'riga latvia', 'alts': ['riga'], 'category': 'city'}\n",
      "{'keyword': 'rochester new york', 'alts': ['rochester'], 'category': 'city'}\n",
      "{'keyword': 'recife brazil', 'alts': ['recife'], 'category': 'city'}\n",
      "{'keyword': 'san francisco california', 'alts': ['san francisco'], 'category': 'city'}\n",
      "{'keyword': 'sydney australia', 'alts': ['sydney'], 'category': 'city'}\n",
      "{'keyword': 'singapore', 'alts': ['singapore'], 'category': 'city'}\n",
      "{'keyword': 'seoul south korea', 'alts': ['seoul'], 'category': 'city'}\n",
      "{'keyword': 'stockholm sweden', 'alts': ['stockholm'], 'category': 'city'}\n",
      "{'keyword': 'santiago chile', 'alts': ['santiago'], 'category': 'city'}\n",
      "{'keyword': 'san diego california', 'alts': ['san diego'], 'category': 'city'}\n",
      "{'keyword': 'shanghai china', 'alts': ['shanghai'], 'category': 'city'}\n",
      "{'keyword': 'sao paulo brazil', 'alts': ['sao paulo'], 'category': 'city'}\n",
      "{'keyword': 'stuttgart germany', 'alts': ['stuttgart'], 'category': 'city'}\n",
      "{'keyword': 'sevilla spain', 'alts': ['sevilla'], 'category': 'city'}\n",
      "{'keyword': 'saskatoon canada', 'alts': ['saskatoon'], 'category': 'city'}\n",
      "{'keyword': 'san salvador el salvador', 'alts': ['san salvador'], 'category': 'city'}\n",
      "{'keyword': 'sofia bulgaria', 'alts': ['sofia'], 'category': 'city'}\n",
      "{'keyword': 'seattle washington', 'alts': ['seattle'], 'category': 'city'}\n",
      "{'keyword': 'tokyo japan', 'alts': ['tokyo'], 'category': 'city'}\n",
      "{'keyword': 'torino italy', 'alts': ['torino'], 'category': 'city'}\n",
      "{'keyword': 'tunis tunisia', 'alts': ['tunis'], 'category': 'city'}\n",
      "{'keyword': 'tashkent uzbekistan', 'alts': ['tashkent'], 'category': 'city'}\n",
      "{'keyword': 'toronto canada', 'alts': ['toronto'], 'category': 'city'}\n",
      "{'keyword': 'tirana albania', 'alts': ['tirana'], 'category': 'city'}\n",
      "{'keyword': 'tijuana mexico', 'alts': ['tijuana'], 'category': 'city'}\n",
      "{'keyword': 'turin italy', 'alts': ['turin'], 'category': 'city'}\n",
      "{'keyword': 'tokyo japan', 'alts': ['tokyo'], 'category': 'city'}\n",
      "{'keyword': 'thessaloniki greece', 'alts': ['thessaloniki'], 'category': 'city'}\n",
      "{'keyword': 'taegu south korea', 'alts': ['taegu'], 'category': 'city'}\n",
      "{'keyword': 'taksim turkey', 'alts': ['taksim'], 'category': 'city'}\n",
      "{'keyword': 'taipei taiwan', 'alts': ['taipei'], 'category': 'city'}\n",
      "{'keyword': 'tripoli libya', 'alts': ['tripoli'], 'category': 'city'}\n",
      "{'keyword': 'tokyo japan', 'alts': ['tokyo'], 'category': 'city'}\n",
      "{'keyword': 'ulaanbaatar mongolia', 'alts': ['ulaanbaatar'], 'category': 'city'}\n",
      "{'keyword': 'ubud indonesia', 'alts': ['ubud'], 'category': 'city'}\n",
      "{'keyword': 'uppsala sweden', 'alts': ['uppsala'], 'category': 'city'}\n",
      "{'keyword': 'urumqi china', 'alts': ['urumqi'], 'category': 'city'}\n",
      "{'keyword': 'vaduz liechtenstein', 'alts': ['vaduz'], 'category': 'city'}\n",
      "{'keyword': 'vancouver canada', 'alts': ['vancouver'], 'category': 'city'}\n",
      "{'keyword': 'valencia spain', 'alts': ['valencia'], 'category': 'city'}\n",
      "{'keyword': 'vigo spain', 'alts': ['vigo'], 'category': 'city'}\n",
      "{'keyword': 'valparaiso chile', 'alts': ['valparaiso'], 'category': 'city'}\n",
      "{'keyword': 'vladivostok russia', 'alts': ['vladivostok'], 'category': 'city'}\n",
      "{'keyword': 'vienna austria', 'alts': ['vienna'], 'category': 'city'}\n",
      "{'keyword': 'vilnius lithuania', 'alts': ['vilnius'], 'category': 'city'}\n",
      "{'keyword': 'villarreal spain', 'alts': ['villarreal'], 'category': 'city'}\n",
      "{'keyword': 'washington dc', 'alts': ['washington dc'], 'category': 'city'}\n",
      "{'keyword': 'westminster england', 'alts': ['westminster'], 'category': 'city'}\n",
      "{'keyword': 'wilmington delaware', 'alts': ['wilmington'], 'category': 'city'}\n",
      "{'keyword': 'wroclaw poland', 'alts': ['wroclaw'], 'category': 'city'}\n",
      "{'keyword': 'warsaw poland', 'alts': ['warsaw'], 'category': 'city'}\n",
      "{'keyword': 'wellington new zealand', 'alts': ['wellington'], 'category': 'city'}\n",
      "{'keyword': 'winnipeg manitoba', 'alts': ['winnipeg'], 'category': 'city'}\n",
      "{'keyword': 'warsaw poland', 'alts': ['warsaw'], 'category': 'city'}\n",
      "{'keyword': 'wuhan china', 'alts': ['wuhan'], 'category': 'city'}\n",
      "{'keyword': 'yokohama japan', 'alts': ['yokohama'], 'category': 'city'}\n",
      "{'keyword': 'york england', 'alts': ['york'], 'category': 'city'}\n",
      "{'keyword': 'yaounde cameroon', 'alts': ['yaounde'], 'category': 'city'}\n",
      "{'keyword': 'yuma arizona', 'alts': ['yuma'], 'category': 'city'}\n",
      "{'keyword': 'ypres belgium', 'alts': ['ypres'], 'category': 'city'}\n",
      "{'keyword': 'yakutsk russia', 'alts': ['yakutsk'], 'category': 'city'}\n",
      "{'keyword': 'yerevan armenia', 'alts': ['yerevan'], 'category': 'city'}\n",
      "{'keyword': 'yanbu saudi arabia', 'alts': ['yanbu'], 'category': 'city'}\n",
      "{'keyword': 'yogyakarta indonesia', 'alts': ['yogyakarta'], 'category': 'city'}\n",
      "{'keyword': 'yekaterinburg russia', 'alts': ['yekaterinburg'], 'category': 'city'}\n",
      "{'keyword': 'zacatecas mexico', 'alts': ['zacatecas'], 'category': 'city'}\n",
      "{'keyword': 'zunyi china', 'alts': ['zunyi'], 'category': 'city'}\n",
      "{'keyword': 'zincantan mexico', 'alts': ['zincantan'], 'category': 'city'}\n",
      "{'keyword': 'zagreb croatia', 'alts': ['zagreb'], 'category': 'city'}\n",
      "{'keyword': 'zeeland netherlands', 'alts': ['zeeland'], 'category': 'city'}\n",
      "{'keyword': 'zhongshan china', 'alts': ['zhongshan'], 'category': 'city'}\n",
      "{'keyword': 'zanzibar tanzania', 'alts': ['zanzibar'], 'category': 'city'}\n",
      "{'keyword': 'zurich switzerland', 'alts': ['zurich'], 'category': 'city'}\n",
      "{'keyword': 'zaragoza spain', 'alts': ['zaragoza'], 'category': 'city'}\n"
     ]
    }
   ],
   "execution_count": 127
  },
  {
   "metadata": {
    "ExecuteTime": {
     "end_time": "2024-07-08T10:27:37.840808Z",
     "start_time": "2024-07-08T10:27:37.837020Z"
    }
   },
   "cell_type": "code",
   "source": [
    "# Replace bullshit Cairo Egypt with just Cairo\n",
    "category_dict['city'].copy()['keyword'] = category_dict['city'].keyword.apply(lambda x: city_to_alt_dict.get(x, x))"
   ],
   "id": "5b02cbe020692a1e",
   "outputs": [],
   "execution_count": 132
  },
  {
   "metadata": {
    "ExecuteTime": {
     "end_time": "2024-07-08T10:27:39.004510Z",
     "start_time": "2024-07-08T10:27:38.999240Z"
    }
   },
   "cell_type": "code",
   "source": "pickle.dump(category_dict, open(\"keywords_by_category.pkl\", \"wb\"))",
   "id": "fc261f2f9b2b488",
   "outputs": [],
   "execution_count": 133
  },
  {
   "metadata": {
    "ExecuteTime": {
     "end_time": "2024-07-08T10:27:39.614085Z",
     "start_time": "2024-07-08T10:27:39.606083Z"
    }
   },
   "cell_type": "code",
   "source": "category_dict['city']",
   "id": "660d9304e1ff59f",
   "outputs": [
    {
     "data": {
      "text/plain": [
       "       keyword category\n",
       "0     acapulco     city\n",
       "1     adelaide     city\n",
       "2      algiers     city\n",
       "3    amsterdam     city\n",
       "4      anaheim     city\n",
       "..         ...      ...\n",
       "309    zeeland     city\n",
       "310  zhongshan     city\n",
       "311  zincantan     city\n",
       "312      zunyi     city\n",
       "313     zurich     city\n",
       "\n",
       "[314 rows x 2 columns]"
      ],
      "text/html": [
       "<div>\n",
       "<style scoped>\n",
       "    .dataframe tbody tr th:only-of-type {\n",
       "        vertical-align: middle;\n",
       "    }\n",
       "\n",
       "    .dataframe tbody tr th {\n",
       "        vertical-align: top;\n",
       "    }\n",
       "\n",
       "    .dataframe thead th {\n",
       "        text-align: right;\n",
       "    }\n",
       "</style>\n",
       "<table border=\"1\" class=\"dataframe\">\n",
       "  <thead>\n",
       "    <tr style=\"text-align: right;\">\n",
       "      <th></th>\n",
       "      <th>keyword</th>\n",
       "      <th>category</th>\n",
       "    </tr>\n",
       "  </thead>\n",
       "  <tbody>\n",
       "    <tr>\n",
       "      <th>0</th>\n",
       "      <td>acapulco</td>\n",
       "      <td>city</td>\n",
       "    </tr>\n",
       "    <tr>\n",
       "      <th>1</th>\n",
       "      <td>adelaide</td>\n",
       "      <td>city</td>\n",
       "    </tr>\n",
       "    <tr>\n",
       "      <th>2</th>\n",
       "      <td>algiers</td>\n",
       "      <td>city</td>\n",
       "    </tr>\n",
       "    <tr>\n",
       "      <th>3</th>\n",
       "      <td>amsterdam</td>\n",
       "      <td>city</td>\n",
       "    </tr>\n",
       "    <tr>\n",
       "      <th>4</th>\n",
       "      <td>anaheim</td>\n",
       "      <td>city</td>\n",
       "    </tr>\n",
       "    <tr>\n",
       "      <th>...</th>\n",
       "      <td>...</td>\n",
       "      <td>...</td>\n",
       "    </tr>\n",
       "    <tr>\n",
       "      <th>309</th>\n",
       "      <td>zeeland</td>\n",
       "      <td>city</td>\n",
       "    </tr>\n",
       "    <tr>\n",
       "      <th>310</th>\n",
       "      <td>zhongshan</td>\n",
       "      <td>city</td>\n",
       "    </tr>\n",
       "    <tr>\n",
       "      <th>311</th>\n",
       "      <td>zincantan</td>\n",
       "      <td>city</td>\n",
       "    </tr>\n",
       "    <tr>\n",
       "      <th>312</th>\n",
       "      <td>zunyi</td>\n",
       "      <td>city</td>\n",
       "    </tr>\n",
       "    <tr>\n",
       "      <th>313</th>\n",
       "      <td>zurich</td>\n",
       "      <td>city</td>\n",
       "    </tr>\n",
       "  </tbody>\n",
       "</table>\n",
       "<p>314 rows × 2 columns</p>\n",
       "</div>"
      ]
     },
     "execution_count": 134,
     "metadata": {},
     "output_type": "execute_result"
    }
   ],
   "execution_count": 134
  },
  {
   "metadata": {
    "ExecuteTime": {
     "end_time": "2024-07-08T09:57:48.997492Z",
     "start_time": "2024-07-08T09:57:48.995514Z"
    }
   },
   "cell_type": "code",
   "source": "",
   "id": "1f2821eaca967337",
   "outputs": [],
   "execution_count": 91
  },
  {
   "metadata": {},
   "cell_type": "code",
   "outputs": [],
   "execution_count": null,
   "source": "",
   "id": "e6eb151acece48fe"
  }
 ],
 "metadata": {
  "kernelspec": {
   "display_name": "Python 3",
   "language": "python",
   "name": "python3"
  },
  "language_info": {
   "codemirror_mode": {
    "name": "ipython",
    "version": 2
   },
   "file_extension": ".py",
   "mimetype": "text/x-python",
   "name": "python",
   "nbconvert_exporter": "python",
   "pygments_lexer": "ipython2",
   "version": "2.7.6"
  }
 },
 "nbformat": 4,
 "nbformat_minor": 5
}
