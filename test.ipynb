{
 "cells": [
  {
   "cell_type": "code",
   "id": "initial_id",
   "metadata": {
    "collapsed": true
   },
   "source": [
    "import json\n",
    "import pandas as pd\n",
    "import pickle"
   ],
   "outputs": [],
   "execution_count": null
  },
  {
   "metadata": {},
   "cell_type": "code",
   "source": [
    "obs_answer = pickle.load(open(\"data/obs_examples/obs_answering.pkl\", \"rb\"))\n",
    "obs_asking = pickle.load(open(\"data/obs_examples/obs_asking.pkl\", \"rb\"))\n",
    "obs_guessing = pickle.load(open(\"data/obs_examples/obs_guessing.pkl\", \"rb\"))"
   ],
   "id": "23abd20876356fd2",
   "outputs": [],
   "execution_count": null
  },
  {
   "metadata": {},
   "cell_type": "code",
   "source": "obs_answer",
   "id": "53d143439a392e8b",
   "outputs": [],
   "execution_count": null
  },
  {
   "metadata": {},
   "cell_type": "code",
   "source": "len(obs_answer['questions']), len(obs_answer['answers'])",
   "id": "613f473a61c93a7",
   "outputs": [],
   "execution_count": null
  },
  {
   "metadata": {},
   "cell_type": "code",
   "source": "obs_answer.guesses",
   "id": "6f850da4a9c96070",
   "outputs": [],
   "execution_count": null
  },
  {
   "metadata": {},
   "cell_type": "code",
   "source": "obs_guessing",
   "id": "a05f934a1c21bdca",
   "outputs": [],
   "execution_count": null
  },
  {
   "metadata": {},
   "cell_type": "code",
   "source": "",
   "id": "cfe274082e415e90",
   "outputs": [],
   "execution_count": null
  },
  {
   "metadata": {},
   "cell_type": "code",
   "source": "",
   "id": "94d6ff322424fcd0",
   "outputs": [],
   "execution_count": null
  },
  {
   "metadata": {},
   "cell_type": "code",
   "source": [
    "from data.keywords import KEYWORDS_JSON\n",
    "keywords_json = json.loads(KEYWORDS_JSON)\n",
    "keywords_flat = []\n",
    "for category in keywords_json:\n",
    "    for keyword in category['words']:\n",
    "        keywords_flat.append(\n",
    "            {\n",
    "                \"keyword\": keyword['keyword'].lower(),\n",
    "                \"alts\": keyword['alts'],\n",
    "                \"category\": category['category'],\n",
    "            }\n",
    "        )"
   ],
   "id": "1d61e506c48faf5a",
   "outputs": [],
   "execution_count": null
  },
  {
   "metadata": {},
   "cell_type": "code",
   "source": [
    "from data.keywords_things import KEYWORDS_JSON\n",
    "keywords_json = json.loads(KEYWORDS_JSON)\n",
    "for category in keywords_json:\n",
    "    for keyword in category['words']:\n",
    "        keywords_flat.append(\n",
    "            {\n",
    "                \"keyword\": keyword['keyword'].lower(),\n",
    "                \"alts\": keyword['alts'],\n",
    "                \"category\": category['category'],\n",
    "            }\n",
    "        )"
   ],
   "id": "812554842e4630ed",
   "outputs": [],
   "execution_count": null
  },
  {
   "metadata": {},
   "cell_type": "code",
   "source": "",
   "id": "6e401e48520613d1",
   "outputs": [],
   "execution_count": null
  },
  {
   "metadata": {},
   "cell_type": "code",
   "source": "# \",\".join([k['keyword'] for k in keywords_flat if k['category'] == \"things\"])",
   "id": "64aabb734ff852b",
   "outputs": [],
   "execution_count": null
  },
  {
   "metadata": {},
   "cell_type": "code",
   "source": [
    "keywords_csv = pd.read_csv(\"data/keywords.csv\").drop([\"Unnamed: 0\"], axis=1)\n",
    "keywords_csv.keyword = keywords_csv.keyword.apply(str.lower)"
   ],
   "id": "2ce66a6701661bd3",
   "outputs": [],
   "execution_count": null
  },
  {
   "metadata": {},
   "cell_type": "code",
   "source": [
    "set_csv = set(keywords_csv.keyword.apply(str.lower))\n",
    "set_json = set([k['keyword'] for k in keywords_flat])"
   ],
   "id": "2d1ed18907102cc6",
   "outputs": [],
   "execution_count": null
  },
  {
   "metadata": {},
   "cell_type": "code",
   "source": [
    "# Cool, we have all keyworkds in CSV\n",
    "# But categories are merged into place (city, country, landmark)"
   ],
   "id": "f3da10171ef8d378",
   "outputs": [],
   "execution_count": null
  },
  {
   "metadata": {},
   "cell_type": "code",
   "source": [
    "# Generate from keywords_flat, keyword -> category\n",
    "keyword_category_dict = {\n",
    "    k['keyword'].lower(): k['category']\n",
    "    for k in keywords_flat\n",
    "}"
   ],
   "id": "54119b511bf9b45c",
   "outputs": [],
   "execution_count": null
  },
  {
   "metadata": {},
   "cell_type": "code",
   "source": "",
   "id": "aca9aca487a0359b",
   "outputs": [],
   "execution_count": null
  },
  {
   "metadata": {},
   "cell_type": "code",
   "source": [
    "# Replace category from keyword_category_dict\n",
    "# If no key - take existing category value\n",
    "keywords_csv['category'] = keywords_csv.apply(\n",
    "    lambda x: keyword_category_dict.get(x.keyword, x.category),\n",
    "    axis=1\n",
    ")"
   ],
   "id": "7a6c44b851a5fa72",
   "outputs": [],
   "execution_count": null
  },
  {
   "metadata": {},
   "cell_type": "code",
   "source": "keywords_csv.category.value_counts()",
   "id": "1d0f4bb8fe5c04be",
   "outputs": [],
   "execution_count": null
  },
  {
   "metadata": {},
   "cell_type": "code",
   "source": [
    "# sampled_df = keywords_csv.groupby('category').apply(lambda x: x.sample(n={\n",
    "#         \"things\": 100,\n",
    "#         \"city\": 40,\n",
    "#         \"country\": 20,\n",
    "#         \"landmark\": 40,\n",
    "#     }.get(x.name, 0)\n",
    "# )).reset_index(drop=True)\n",
    "# category_dict = {category: sampled_df[sampled_df['category'] == category] for category in sampled_df['category'].unique()}\n",
    "sampled_df = keywords_csv.groupby('category').apply(lambda x: x).reset_index(drop=True)\n",
    "category_dict = {category: sampled_df[sampled_df['category'] == category] for category in sampled_df['category'].unique()}"
   ],
   "id": "a7f1bb9e792f0a6d",
   "outputs": [],
   "execution_count": null
  },
  {
   "metadata": {},
   "cell_type": "code",
   "source": "category_dict.keys()",
   "id": "8fcb5fa862be0dbc",
   "outputs": [],
   "execution_count": null
  },
  {
   "metadata": {},
   "cell_type": "code",
   "source": "category_dict['city']",
   "id": "7bbaebb7a7799f1f",
   "outputs": [],
   "execution_count": null
  },
  {
   "metadata": {},
   "cell_type": "code",
   "source": [
    "city_to_alt_dict = {}\n",
    "for keyword in keywords_flat:\n",
    "    if not keyword['alts']:\n",
    "        continue\n",
    "    if not keyword['category'] == \"city\":\n",
    "        continue\n",
    "    print(keyword)\n",
    "    city_to_alt_dict[keyword['keyword']] = keyword['alts'][0]"
   ],
   "id": "da9900160e900340",
   "outputs": [],
   "execution_count": null
  },
  {
   "metadata": {},
   "cell_type": "code",
   "source": [
    "# Replace bullshit Cairo Egypt with just Cairo\n",
    "category_dict['city'].copy()['keyword'] = category_dict['city'].keyword.apply(lambda x: city_to_alt_dict.get(x, x))"
   ],
   "id": "5b02cbe020692a1e",
   "outputs": [],
   "execution_count": null
  },
  {
   "metadata": {},
   "cell_type": "code",
   "source": "pickle.dump(category_dict, open(\"keywords_by_category.pkl\", \"wb\"))",
   "id": "fc261f2f9b2b488",
   "outputs": [],
   "execution_count": null
  },
  {
   "metadata": {},
   "cell_type": "code",
   "source": "category_dict['city']",
   "id": "660d9304e1ff59f",
   "outputs": [],
   "execution_count": null
  },
  {
   "metadata": {},
   "cell_type": "code",
   "source": "",
   "id": "1f2821eaca967337",
   "outputs": [],
   "execution_count": null
  },
  {
   "metadata": {},
   "cell_type": "code",
   "source": "",
   "id": "e6eb151acece48fe",
   "outputs": [],
   "execution_count": null
  }
 ],
 "metadata": {
  "kernelspec": {
   "display_name": "Python 3",
   "language": "python",
   "name": "python3"
  },
  "language_info": {
   "codemirror_mode": {
    "name": "ipython",
    "version": 2
   },
   "file_extension": ".py",
   "mimetype": "text/x-python",
   "name": "python",
   "nbconvert_exporter": "python",
   "pygments_lexer": "ipython2",
   "version": "2.7.6"
  }
 },
 "nbformat": 4,
 "nbformat_minor": 5
}
