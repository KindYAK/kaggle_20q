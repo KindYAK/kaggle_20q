{
 "cells": [
  {
   "cell_type": "code",
   "id": "initial_id",
   "metadata": {
    "collapsed": true,
    "ExecuteTime": {
     "end_time": "2024-07-04T13:01:40.770474Z",
     "start_time": "2024-07-04T13:01:25.973661Z"
    }
   },
   "source": [
    "%%bash\n",
    "mkdir -p /kaggle/working/submission"
   ],
   "outputs": [
    {
     "name": "stderr",
     "output_type": "stream",
     "text": [
      "-bash: line 1: cd: /kaggle/working: No such file or directory\n",
      "ERROR: Exception:\n",
      "Traceback (most recent call last):\n",
      "  File \"/home/admin123/.local/lib/python3.9/site-packages/pip/_internal/cli/base_command.py\", line 169, in exc_logging_wrapper\n",
      "    status = run_func(*args)\n",
      "  File \"/home/admin123/.local/lib/python3.9/site-packages/pip/_internal/cli/req_command.py\", line 248, in wrapper\n",
      "    return func(self, options, args)\n",
      "  File \"/home/admin123/.local/lib/python3.9/site-packages/pip/_internal/commands/install.py\", line 507, in run\n",
      "    self._handle_target_dir(\n",
      "  File \"/home/admin123/.local/lib/python3.9/site-packages/pip/_internal/commands/install.py\", line 517, in _handle_target_dir\n",
      "    ensure_dir(target_dir)\n",
      "  File \"/home/admin123/.local/lib/python3.9/site-packages/pip/_internal/utils/misc.py\", line 107, in ensure_dir\n",
      "    os.makedirs(path)\n",
      "  File \"/usr/lib/python3.9/os.py\", line 215, in makedirs\n",
      "    makedirs(head, exist_ok=exist_ok)\n",
      "  File \"/usr/lib/python3.9/os.py\", line 215, in makedirs\n",
      "    makedirs(head, exist_ok=exist_ok)\n",
      "  File \"/usr/lib/python3.9/os.py\", line 215, in makedirs\n",
      "    makedirs(head, exist_ok=exist_ok)\n",
      "  File \"/usr/lib/python3.9/os.py\", line 225, in makedirs\n",
      "    mkdir(name, mode)\n",
      "PermissionError: [Errno 13] Permission denied: '/kaggle'\n",
      "\n",
      "[notice] A new release of pip is available: 23.1.2 -> 24.1.1\n",
      "[notice] To update, run: /usr/bin/python3.9 -m pip install --upgrade pip\n",
      "Cloning into 'gemma_pytorch'...\n",
      "mkdir: cannot create directory ‘/kaggle/working/submission/lib/gemma/’: No such file or directory\n",
      "mv: cannot stat '/kaggle/working/gemma_pytorch/gemma/*': No such file or directory\n"
     ]
    },
    {
     "ename": "CalledProcessError",
     "evalue": "Command 'b'cd /kaggle/working\\npip install -q -U -t /kaggle/working/submission/lib immutabledict sentencepiece\\ngit clone https://github.com/google/gemma_pytorch.git > /dev/null\\nmkdir /kaggle/working/submission/lib/gemma/\\nmv /kaggle/working/gemma_pytorch/gemma/* /kaggle/working/submission/lib/gemma/\\n'' returned non-zero exit status 1.",
     "output_type": "error",
     "traceback": [
      "\u001B[1;31m---------------------------------------------------------------------------\u001B[0m",
      "\u001B[1;31mCalledProcessError\u001B[0m                        Traceback (most recent call last)",
      "Cell \u001B[1;32mIn[1], line 1\u001B[0m\n\u001B[1;32m----> 1\u001B[0m \u001B[43mget_ipython\u001B[49m\u001B[43m(\u001B[49m\u001B[43m)\u001B[49m\u001B[38;5;241;43m.\u001B[39;49m\u001B[43mrun_cell_magic\u001B[49m\u001B[43m(\u001B[49m\u001B[38;5;124;43m'\u001B[39;49m\u001B[38;5;124;43mbash\u001B[39;49m\u001B[38;5;124;43m'\u001B[39;49m\u001B[43m,\u001B[49m\u001B[43m \u001B[49m\u001B[38;5;124;43m'\u001B[39;49m\u001B[38;5;124;43m'\u001B[39;49m\u001B[43m,\u001B[49m\u001B[43m \u001B[49m\u001B[38;5;124;43m'\u001B[39;49m\u001B[38;5;124;43mcd /kaggle/working\u001B[39;49m\u001B[38;5;130;43;01m\\n\u001B[39;49;00m\u001B[38;5;124;43mpip install -q -U -t /kaggle/working/submission/lib immutabledict sentencepiece\u001B[39;49m\u001B[38;5;130;43;01m\\n\u001B[39;49;00m\u001B[38;5;124;43mgit clone https://github.com/google/gemma_pytorch.git > /dev/null\u001B[39;49m\u001B[38;5;130;43;01m\\n\u001B[39;49;00m\u001B[38;5;124;43mmkdir /kaggle/working/submission/lib/gemma/\u001B[39;49m\u001B[38;5;130;43;01m\\n\u001B[39;49;00m\u001B[38;5;124;43mmv /kaggle/working/gemma_pytorch/gemma/* /kaggle/working/submission/lib/gemma/\u001B[39;49m\u001B[38;5;130;43;01m\\n\u001B[39;49;00m\u001B[38;5;124;43m'\u001B[39;49m\u001B[43m)\u001B[49m\n",
      "File \u001B[1;32m~\\AppData\\Local\\pypoetry\\Cache\\virtualenvs\\kaggle-20q-2AFueh3L-py3.11\\Lib\\site-packages\\IPython\\core\\interactiveshell.py:2541\u001B[0m, in \u001B[0;36mInteractiveShell.run_cell_magic\u001B[1;34m(self, magic_name, line, cell)\u001B[0m\n\u001B[0;32m   2539\u001B[0m \u001B[38;5;28;01mwith\u001B[39;00m \u001B[38;5;28mself\u001B[39m\u001B[38;5;241m.\u001B[39mbuiltin_trap:\n\u001B[0;32m   2540\u001B[0m     args \u001B[38;5;241m=\u001B[39m (magic_arg_s, cell)\n\u001B[1;32m-> 2541\u001B[0m     result \u001B[38;5;241m=\u001B[39m \u001B[43mfn\u001B[49m\u001B[43m(\u001B[49m\u001B[38;5;241;43m*\u001B[39;49m\u001B[43margs\u001B[49m\u001B[43m,\u001B[49m\u001B[43m \u001B[49m\u001B[38;5;241;43m*\u001B[39;49m\u001B[38;5;241;43m*\u001B[39;49m\u001B[43mkwargs\u001B[49m\u001B[43m)\u001B[49m\n\u001B[0;32m   2543\u001B[0m \u001B[38;5;66;03m# The code below prevents the output from being displayed\u001B[39;00m\n\u001B[0;32m   2544\u001B[0m \u001B[38;5;66;03m# when using magics with decorator @output_can_be_silenced\u001B[39;00m\n\u001B[0;32m   2545\u001B[0m \u001B[38;5;66;03m# when the last Python token in the expression is a ';'.\u001B[39;00m\n\u001B[0;32m   2546\u001B[0m \u001B[38;5;28;01mif\u001B[39;00m \u001B[38;5;28mgetattr\u001B[39m(fn, magic\u001B[38;5;241m.\u001B[39mMAGIC_OUTPUT_CAN_BE_SILENCED, \u001B[38;5;28;01mFalse\u001B[39;00m):\n",
      "File \u001B[1;32m~\\AppData\\Local\\pypoetry\\Cache\\virtualenvs\\kaggle-20q-2AFueh3L-py3.11\\Lib\\site-packages\\IPython\\core\\magics\\script.py:155\u001B[0m, in \u001B[0;36mScriptMagics._make_script_magic.<locals>.named_script_magic\u001B[1;34m(line, cell)\u001B[0m\n\u001B[0;32m    153\u001B[0m \u001B[38;5;28;01melse\u001B[39;00m:\n\u001B[0;32m    154\u001B[0m     line \u001B[38;5;241m=\u001B[39m script\n\u001B[1;32m--> 155\u001B[0m \u001B[38;5;28;01mreturn\u001B[39;00m \u001B[38;5;28;43mself\u001B[39;49m\u001B[38;5;241;43m.\u001B[39;49m\u001B[43mshebang\u001B[49m\u001B[43m(\u001B[49m\u001B[43mline\u001B[49m\u001B[43m,\u001B[49m\u001B[43m \u001B[49m\u001B[43mcell\u001B[49m\u001B[43m)\u001B[49m\n",
      "File \u001B[1;32m~\\AppData\\Local\\pypoetry\\Cache\\virtualenvs\\kaggle-20q-2AFueh3L-py3.11\\Lib\\site-packages\\IPython\\core\\magics\\script.py:315\u001B[0m, in \u001B[0;36mScriptMagics.shebang\u001B[1;34m(self, line, cell)\u001B[0m\n\u001B[0;32m    310\u001B[0m \u001B[38;5;28;01mif\u001B[39;00m args\u001B[38;5;241m.\u001B[39mraise_error \u001B[38;5;129;01mand\u001B[39;00m p\u001B[38;5;241m.\u001B[39mreturncode \u001B[38;5;241m!=\u001B[39m \u001B[38;5;241m0\u001B[39m:\n\u001B[0;32m    311\u001B[0m     \u001B[38;5;66;03m# If we get here and p.returncode is still None, we must have\u001B[39;00m\n\u001B[0;32m    312\u001B[0m     \u001B[38;5;66;03m# killed it but not yet seen its return code. We don't wait for it,\u001B[39;00m\n\u001B[0;32m    313\u001B[0m     \u001B[38;5;66;03m# in case it's stuck in uninterruptible sleep. -9 = SIGKILL\u001B[39;00m\n\u001B[0;32m    314\u001B[0m     rc \u001B[38;5;241m=\u001B[39m p\u001B[38;5;241m.\u001B[39mreturncode \u001B[38;5;129;01mor\u001B[39;00m \u001B[38;5;241m-\u001B[39m\u001B[38;5;241m9\u001B[39m\n\u001B[1;32m--> 315\u001B[0m     \u001B[38;5;28;01mraise\u001B[39;00m CalledProcessError(rc, cell)\n",
      "\u001B[1;31mCalledProcessError\u001B[0m: Command 'b'cd /kaggle/working\\npip install -q -U -t /kaggle/working/submission/lib immutabledict sentencepiece\\ngit clone https://github.com/google/gemma_pytorch.git > /dev/null\\nmkdir /kaggle/working/submission/lib/gemma/\\nmv /kaggle/working/gemma_pytorch/gemma/* /kaggle/working/submission/lib/gemma/\\n'' returned non-zero exit status 1."
     ]
    }
   ],
   "execution_count": 1
  },
  {
   "metadata": {},
   "cell_type": "code",
   "outputs": [],
   "execution_count": null,
   "source": "",
   "id": "e08e38bcadcf4df4"
  },
  {
   "metadata": {
    "ExecuteTime": {
     "start_time": "2024-07-04T13:01:40.772491Z"
    }
   },
   "cell_type": "code",
   "source": [
    "# %%writefile submission/main.py\n",
    "# %%writefile -a submission/main.py\n",
    "\n",
    "from transformers import AutoTokenizer, AutoModelForCausalLM\n",
    "import torch\n",
    "import os\n",
    "import sys\n",
    "import shutil\n",
    "\n",
    "# torch.backends.cuda.enable_mem_efficient_sdp(False)\n",
    "# torch.backends.cuda.enable_flash_sdp(False)\n",
    "\n",
    "from utils import generate_answer\n",
    "from utils_guesser import guess\n",
    "from utils_asker import ask\n",
    "from utils_answerer import answer\n",
    "\n",
    "KAGGLE_AGENT_PATH = \"/kaggle_simulations/agent/\"\n",
    "if os.path.exists(KAGGLE_AGENT_PATH):\n",
    "    model_id = os.path.join(KAGGLE_AGENT_PATH, \"1\")\n",
    "else:\n",
    "    model_id = \"/kaggle/input/llama-3/transformers/8b-chat-hf/1\"\n",
    "\n",
    "tokenizer = AutoTokenizer.from_pretrained(model_id)\n",
    "model = AutoModelForCausalLM.from_pretrained(model_id, torch_dtype=torch.bfloat16, device_map=\"auto\")\n",
    "id_eot = tokenizer.convert_tokens_to_ids([\"<|eot_id|>\"])[0]\n",
    "\n",
    "\n",
    "class Robot:\n",
    "    def __init__(self):\n",
    "        pass\n",
    "\n",
    "    def on(self, mode, obs):\n",
    "        try:\n",
    "            import pickle\n",
    "            pickle.dump(obs, open(f\"obs_{mode}.pkl\", \"wb\"))\n",
    "        except:\n",
    "            pass\n",
    "        if mode == \"asking\":\n",
    "            output = ask(obs, tokenizer, model, id_eot)\n",
    "        elif mode == \"answering\":\n",
    "            output = answer(obs, tokenizer, model, id_eot)\n",
    "            if \"yes\" in output.lower():\n",
    "                output = \"yes\"\n",
    "            elif \"no\" in output.lower():\n",
    "                output = \"no\"\n",
    "            if (\"yes\" not in output.lower() and \"no\" not in output.lower()):\n",
    "                output = \"yes\"\n",
    "        elif mode == \"guessing\":\n",
    "            output = guess(obs, tokenizer, model, id_eot)\n",
    "        else:\n",
    "            raise ValueError(\"mode can only take one of these values: asking, answering, guessing\")\n",
    "        return output\n",
    "\n",
    "\n",
    "robot = Robot()\n",
    "\n",
    "\n",
    "def agent(obs, cfg):\n",
    "    if obs.turnType == \"ask\":\n",
    "        response = robot.on(mode=\"asking\", obs=obs)\n",
    "    elif obs.turnType == \"guess\":\n",
    "        response = robot.on(mode=\"guessing\", obs=obs)\n",
    "    elif obs.turnType == \"answer\":\n",
    "        response = robot.on(mode=\"answering\", obs=obs)\n",
    "    else:\n",
    "        raise ValueError(\"turnType can only take one of these values: ask, guess, answer\")\n",
    "    if response == None or len(response) <= 1:\n",
    "        response = \"yes\"\n",
    "    return response"
   ],
   "id": "6af1a332f2dd0bd8",
   "outputs": [],
   "execution_count": null
  },
  {
   "metadata": {},
   "cell_type": "code",
   "outputs": [],
   "execution_count": null,
   "source": "",
   "id": "14f4b99b2b8f3415"
  },
  {
   "metadata": {},
   "cell_type": "code",
   "outputs": [],
   "execution_count": null,
   "source": [
    "# %%time\n",
    "\n",
    "# from kaggle_environments import make\n",
    "# env = make(\"llm_20_questions\", debug=True)\n",
    "# game_output = env.run(agents=[agent, agent, agent, agent])"
   ],
   "id": "5fc185710c6a6586"
  },
  {
   "metadata": {},
   "cell_type": "code",
   "outputs": [],
   "execution_count": null,
   "source": "# env.render(mode=\"ipython\", width=600, height=500)",
   "id": "858b754b3d71c476"
  },
  {
   "metadata": {},
   "cell_type": "code",
   "outputs": [],
   "execution_count": null,
   "source": "",
   "id": "8b45802af5597d8b"
  },
  {
   "metadata": {
    "ExecuteTime": {
     "end_time": "2024-07-04T13:01:40.779541Z",
     "start_time": "2024-07-04T13:01:40.779541Z"
    }
   },
   "cell_type": "code",
   "source": "!apt install pigz pv > /dev/null",
   "id": "4623b68abc052c26",
   "outputs": [],
   "execution_count": null
  },
  {
   "metadata": {
    "ExecuteTime": {
     "start_time": "2024-07-04T13:01:40.777530Z"
    }
   },
   "cell_type": "code",
   "source": "!tar --use-compress-program='pigz --fast --recursive | pv' -cf submission.tar.gz -C /kaggle/input/llama-3/transformers/8b-chat-hf . -C /kaggle/working/submission .",
   "id": "dde68b2d86bb9aac",
   "outputs": [],
   "execution_count": null
  },
  {
   "metadata": {},
   "cell_type": "code",
   "source": [
    "# to see what's inside tar.gz file\n",
    "\n",
    "# import tarfile\n",
    "# tar = tarfile.open(\"/kaggle/working/submission.tar.gz\")\n",
    "# for file in tar.getmembers():\n",
    "#     print(file.name)"
   ],
   "id": "72bfd0f11b8a08ce",
   "outputs": [],
   "execution_count": null
  },
  {
   "metadata": {},
   "cell_type": "code",
   "source": "",
   "id": "f2ed43d5c036b9a8",
   "outputs": [],
   "execution_count": null
  },
  {
   "metadata": {},
   "cell_type": "code",
   "outputs": [],
   "execution_count": null,
   "source": "",
   "id": "9c6e6783af7630fd"
  }
 ],
 "metadata": {
  "kernelspec": {
   "display_name": "Python 3",
   "language": "python",
   "name": "python3"
  },
  "language_info": {
   "codemirror_mode": {
    "name": "ipython",
    "version": 2
   },
   "file_extension": ".py",
   "mimetype": "text/x-python",
   "name": "python",
   "nbconvert_exporter": "python",
   "pygments_lexer": "ipython2",
   "version": "2.7.6"
  }
 },
 "nbformat": 4,
 "nbformat_minor": 5
}
